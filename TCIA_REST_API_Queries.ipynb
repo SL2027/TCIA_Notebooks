{
  "nbformat": 4,
  "nbformat_minor": 0,
  "metadata": {
    "colab": {
      "provenance": [],
      "toc_visible": true,
      "include_colab_link": true
    },
    "kernelspec": {
      "name": "python3",
      "display_name": "Python 3"
    },
    "language_info": {
      "name": "python"
    }
  },
  "cells": [
    {
      "cell_type": "markdown",
      "metadata": {
        "id": "view-in-github",
        "colab_type": "text"
      },
      "source": [
        "<a href=\"https://colab.research.google.com/github/kirbyju/TCIA_Notebooks/blob/main/TCIA_REST_API_Queries.ipynb\" target=\"_parent\"><img src=\"https://colab.research.google.com/assets/colab-badge.svg\" alt=\"Open In Colab\"/></a>"
      ]
    },
    {
      "cell_type": "markdown",
      "source": [
        "# Summary\n",
        "\n",
        "Access to large, high-quality datasets is essential for researchers to understand disease and precision medicine pathways, especially in cancer. However, HIPAA constraints make sharing medical images outside an individual institution complex. [The Cancer Imaging Archive (TCIA)](https://www.cancerimagingarchive.net/) is a public service funded by the National Cancer Institute that addresses this challenge by providing hosting and de-identification services that take major burdens of data sharing off researchers. \n",
        "\n",
        "**This notebook is focused on basic use cases for leveraging the REST APIs to execute queries to learn about TCIA datasets.**  If you're interested in additional TCIA notebooks and coding examples, check out the tutorials at https://github.com/kirbyju/TCIA_Notebooks."
      ],
      "metadata": {
        "id": "KmXfYFZtja2F"
      }
    },
    {
      "cell_type": "markdown",
      "source": [
        "# 1 Learn about Available Collections on the TCIA Website\n",
        "\n",
        "[Browsing Collections](https://www.cancerimagingarchive.net/collections) and viewing [Analysis Results](https://www.cancerimagingarchive.net/tcia-analysis-results/) of TCIA datasets are the easiest ways to become familiar with what is available. These pages will help you quickly identify datasets of interest, find valuable supporting data that are not available via our APIs (e.g. clinical spreadsheets and non-DICOM segmentation data), and answer the most common questions you might have about the datasets.  "
      ],
      "metadata": {
        "id": "AruUGe3lmjkh"
      }
    },
    {
      "cell_type": "markdown",
      "metadata": {
        "id": "SmeqJoR5k9z0"
      },
      "source": [
        "# 2 REST API Overview \n",
        "TCIA uses software called NBIA to manage DICOM data. The NBIA REST APIs are provided for the search and download functions used in the TCIA radiology portal and allow access to both public and limited access collections.\n",
        "1. The [NBIA Search REST APIs](https://wiki.cancerimagingarchive.net/x/fILTB) allow you to perform basic queries and download data from **public** collections. These APIs do not require a TCIA account.\n",
        "2. The [NBIA Search with Authentication REST APIs](https://wiki.cancerimagingarchive.net/x/X4ATBg) allow you to perform basic queries and download data from **public and limited-access** collections. These APIs require a TCIA account to create authentication tokens.\n",
        "3. The [NBIA Advanced REST APIs](https://wiki.cancerimagingarchive.net/x/YoATBg) also allow access to **public and limited-access** collections, but provide query endpoints mostly geared towards developers seeking to integrate searching and downloading TCIA data into web and desktop applications. This API requires a TCIA account to create authentication tokens."
      ]
    },
    {
      "cell_type": "markdown",
      "source": [
        "# 3 Import tcia_utils\n",
        "\n",
        "The following cells import [**tcia_utils**](https://github.com/kirbyju/TCIA_Notebooks/raw/main/tcia_utils.py) which contain a variety of useful functions for accessing TCIA via Jupyter/Python. We'll step through many of its functions in the following section.\n",
        "\n",
        "Note that nearly all functions allow you to specify **api_url** as a query parameter.  This allows you to specify if you'd like a query to use the API that requires authentication or if you want to access the [National Lung Screening Trial (NLST)](https://doi.org/10.7937/TCIA.HMQ8-J677) collection.  NLST lives on a separate server due to its size (>26,000 patients!).  We'll provide examples to show how this works later in the notebook.\n"
      ],
      "metadata": {
        "id": "bqulqBEDMSS6"
      }
    },
    {
      "cell_type": "code",
      "source": [
        "# imports\n",
        "import requests\n",
        "import pandas as pd\n",
        "\n",
        "# download tcia_utils\n",
        "tcia_utils_text = requests.get(\"https://github.com/kirbyju/TCIA_Notebooks/raw/main/tcia_utils.py\")\n",
        "with open('tcia_utils.py', 'wb') as f:\n",
        "    f.write(tcia_utils_text.content)"
      ],
      "metadata": {
        "id": "p3zEqnxi9rk2"
      },
      "execution_count": null,
      "outputs": []
    },
    {
      "cell_type": "code",
      "source": [
        "import tcia_utils as tcia"
      ],
      "metadata": {
        "id": "zP4VRfgg-QXU"
      },
      "execution_count": null,
      "outputs": []
    },
    {
      "cell_type": "markdown",
      "source": [
        "# 4 Query Examples"
      ],
      "metadata": {
        "id": "iao1mstCf8Vl"
      }
    },
    {
      "cell_type": "markdown",
      "source": [
        "## 4.1 getCollections() \n",
        "The **getCollections()** function returns a list of collections as JSON. "
      ],
      "metadata": {
        "id": "fwj_OZjphcWP"
      }
    },
    {
      "cell_type": "code",
      "source": [
        "tcia.getCollections()\n"
      ],
      "metadata": {
        "id": "II1o1709zq1d"
      },
      "execution_count": null,
      "outputs": []
    },
    {
      "cell_type": "markdown",
      "source": [
        "## 4.2 getBodyPart()\n",
        "The **getBodyPart()** function returns a list of available body parts that were examined as JSON. Query parameters include **collection** and **modality**.\n",
        "\n",
        "Let's look at the **TCGA-LUAD** from the list above and find out more about what body parts were examined."
      ],
      "metadata": {
        "id": "1amXAIvsgQLg"
      }
    },
    {
      "cell_type": "code",
      "source": [
        "tcia.getBodyPart(collection = \"TCGA-LUAD\")"
      ],
      "metadata": {
        "id": "aQBt2TrC6m0H"
      },
      "execution_count": null,
      "outputs": []
    },
    {
      "cell_type": "markdown",
      "source": [
        "## 4.3 getModality()\n",
        "The **getModality()** function returns a list of available modalities as JSON. Query parameters include **collection** and **bodyPart**."
      ],
      "metadata": {
        "id": "yHVRFNRWt26D"
      }
    },
    {
      "cell_type": "code",
      "source": [
        "tcia.getModality(collection = \"TCGA-LUAD\")"
      ],
      "metadata": {
        "id": "0koEKWjmieYM"
      },
      "execution_count": null,
      "outputs": []
    },
    {
      "cell_type": "markdown",
      "source": [
        "# 4.4 getPatient()\n",
        "The **getPatient()** function returns available patient information (e.g. species, gender, and ethnicity) as JSON. You can also learn whether the subject is a [phantom](https://www.nist.gov/physics/what-are-imaging-phantoms) or not.  The only query parameter for this function is **collection**.\n",
        "\n",
        "Let's try looking at the **CPTAC-LUAD** collection this time.  We'll also convert the JSON output to a dataframe to make it easier to view."
      ],
      "metadata": {
        "id": "1EHAjkALWsGH"
      }
    },
    {
      "cell_type": "code",
      "source": [
        "data = tcia.getPatient(collection = \"CPTAC-LUAD\")\n",
        "\n",
        "# convert JSON to dataframe\n",
        "df = pd.DataFrame(data)\n",
        "display(df)\n"
      ],
      "metadata": {
        "id": "k4Ge-Z-9H_hr"
      },
      "execution_count": null,
      "outputs": []
    },
    {
      "cell_type": "markdown",
      "source": [
        "Here's an example that does the same thing with the [National Lung Screening Trial (NLST) Collection](https://doi.org/10.7937/TCIA.HMQ8-J677).  In this case we have to set **api_url = \"nlst\"** to talk to the NLST server, but everything else works the same. "
      ],
      "metadata": {
        "id": "kv8RCpe30TR8"
      }
    },
    {
      "cell_type": "code",
      "source": [
        "data = tcia.getPatient(collection = \"NLST\", api_url = \"nlst\")\n",
        "\n",
        "# convert JSON to dataframe\n",
        "df = pd.DataFrame(data)\n",
        "display(df)"
      ],
      "metadata": {
        "id": "gMC3WCQ20cfd"
      },
      "execution_count": null,
      "outputs": []
    },
    {
      "cell_type": "markdown",
      "source": [
        "## 4.5 getStudy()\n",
        "\n",
        "The **getStudy()** function returns study/visit details such as the anonymized study date, subject's age at the time of visit, and number of scans acquired at each timepoint as JSON. Query parameters include **collection (required)**, **patientId**, and **studyUid**."
      ],
      "metadata": {
        "id": "XbecJEQGfZ5y"
      }
    },
    {
      "cell_type": "code",
      "source": [
        "data = tcia.getStudy(collection = \"CPTAC-LUAD\")\n",
        "\n",
        "# convert JSON to dataframe\n",
        "df = pd.DataFrame(data)\n",
        "display(df)"
      ],
      "metadata": {
        "id": "ivLAjjuK8nPv"
      },
      "execution_count": null,
      "outputs": []
    },
    {
      "cell_type": "markdown",
      "source": [
        "## 4.6 getSeries()\n",
        "\n",
        "The **getSeries()** function returns metadata about each scan in the dataset (e.g. series description, modality, scanner manufacturer and software version, number of images) as JSON. Query parameters include **collection**, **patientId**, **studyUid**, **seriesUid**, **modality**, **bodyPart**, **manufacturer**, and **manufacturerModel**.  \n",
        "\n",
        "In addition to converting the JSON to a dataframe, let's also add the option to export the dataframe to a CSV to share the results with a colleague."
      ],
      "metadata": {
        "id": "bEbkXARGg6W6"
      }
    },
    {
      "cell_type": "code",
      "source": [
        "data = tcia.getSeries(collection = \"CPTAC-LUAD\")\n",
        "\n",
        "# convert JSON to dataframe\n",
        "df = pd.DataFrame(data)\n",
        "display(df)\n",
        "\n",
        "# optional - save to CSV file\n",
        "df.to_csv('scan_metadata.csv')"
      ],
      "metadata": {
        "id": "M34I2o90kofo"
      },
      "execution_count": null,
      "outputs": []
    },
    {
      "cell_type": "markdown",
      "source": [
        "# 4.7 makeSeriesReport()\n",
        "\n",
        "This function ingests the output from **getSeries()** and creates summary report.  Let's try it using the results that we saved to the **data** variable in our last query.  \n",
        "\n",
        "Once you have a better understanding of the contents of your query you can use this info to refine your results before you download data. For example, you might decide that you are only interested in the CT scans from GE scanners rather than downloading the entire CPTAC-LUAD collection."
      ],
      "metadata": {
        "id": "2XBUmpUnUfGX"
      }
    },
    {
      "cell_type": "code",
      "source": [
        "tcia.makeSeriesReport(data)"
      ],
      "metadata": {
        "id": "bEyvI4OHU3FC"
      },
      "execution_count": null,
      "outputs": []
    },
    {
      "cell_type": "markdown",
      "source": [
        "# 5 Querying \"Limited Access\" Collections (optional)\n",
        "In some cases, you must specifically request access to collections before you can download them.  These are listed as **limited access** on the [Browse Collections](https://www.cancerimagingarchive.net/collections/) page. \n",
        "\n",
        "The steps to request access may vary depending on the collection, but will always require that you first [create a TCIA user account](https://wiki.cancerimagingarchive.net/x/xgHDAg). Once you've created an account and have access to restricted collections you can use your login/password to create an API token with the **getToken()** function from **tcia_utils** to verify your permissions. **<font color='red'>Tokens are valid for 2 hours and must be refreshed after that point.</font>**"
      ],
      "metadata": {
        "id": "rDlG-4MZZ2wX"
      }
    },
    {
      "cell_type": "code",
      "source": [
        "tcia.getToken()"
      ],
      "metadata": {
        "id": "ZzwyJcNYIIsq"
      },
      "execution_count": null,
      "outputs": []
    },
    {
      "cell_type": "markdown",
      "source": [
        "Let's say that we're interested in the [QIN-Breast-02](https://doi.org/10.7937/TCIA.2019.4cfm06rr) collection. As you can see on the collection page, you must email help@cancerimagingarchive.net to request access to the data. Once you've recieved approval we can use **tcia.getSeries()** to get a full list of series UIDs in this restricted collection by including **api_url = \"restricted\"** as a parameter."
      ],
      "metadata": {
        "id": "f1NLNszIIKOS"
      }
    },
    {
      "cell_type": "code",
      "source": [
        "# getSeries with query parameters\n",
        "data = tcia.getSeries(collection = \"QIN-Breast-02\", \n",
        "                      api_url = \"restricted\")\n",
        "\n",
        "print(len(data), 'Series returned')"
      ],
      "metadata": {
        "id": "rGfTVswGnIVG"
      },
      "execution_count": null,
      "outputs": []
    },
    {
      "cell_type": "markdown",
      "source": [
        "**Note:** If you'd like to do further exploration of restricted datasets, you can modify any of the previously discussed queries in the notebook by adding the **api_url = \"restricted\"** parameter as shown above."
      ],
      "metadata": {
        "id": "tH2FDgWPnXb3"
      }
    },
    {
      "cell_type": "markdown",
      "source": [
        "# 6 Downloading and Visualizing Data\n",
        "Once you've mastered querying for data the next logical step would be to download and visualize it.  You can learn more about how to do that in the other notebooks at https://github.com/kirbyju/TCIA_Notebooks. "
      ],
      "metadata": {
        "id": "0TjIRzCEEIFB"
      }
    },
    {
      "cell_type": "markdown",
      "source": [
        "# Acknowledgements\n",
        "TCIA is funded by the [Cancer Imaging Program (CIP)](https://imaging.cancer.gov/), a part of the United States [National Cancer Institute (NCI)](https://www.cancer.gov/), and is managed by the [Frederick National Laboratory for Cancer Research (FNLCR)](https://frederick.cancer.gov/).\n",
        "\n",
        "This notebook was created by [Justin Kirby](https://www.linkedin.com/in/justinkirby82/) and Qinyan Pan. If you leverage this notebook or any TCIA datasets in your work, please be sure to comply with the [TCIA Data Usage Policy](https://wiki.cancerimagingarchive.net/x/c4hF). In particular, make sure to cite the DOI(s) for the specific TCIA datasets you used in addition to the following paper!\n",
        "\n",
        "## TCIA Citation\n",
        "\n",
        "Clark, K., Vendt, B., Smith, K., Freymann, J., Kirby, J., Koppel, P., Moore, S., Phillips, S., Maffitt, D., Pringle, M., Tarbox, L., & Prior, F. (2013). The Cancer Imaging Archive (TCIA): Maintaining and Operating a Public Information Repository. Journal of Digital Imaging, 26(6), 1045–1057. https://doi.org/10.1007/s10278-013-9622-7"
      ],
      "metadata": {
        "id": "DYXsNGcY93B8"
      }
    }
  ]
}