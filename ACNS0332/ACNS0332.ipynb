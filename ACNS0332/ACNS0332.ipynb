{
  "nbformat": 4,
  "nbformat_minor": 0,
  "metadata": {
    "colab": {
      "provenance": [],
      "collapsed_sections": [
        "SmeqJoR5k9z0",
        "CSTkcuXMgCDd",
        "7YGlC_ajggC8",
        "nj6P7YCmll4S",
        "I9_O-nq1lr7c",
        "JkCZMxa_ua6P",
        "BJEBAyTyqcU5",
        "YMIPh4vzqfN5",
        "9Zp_hWmXsKZ9"
      ],
      "toc_visible": true,
      "include_colab_link": true
    },
    "kernelspec": {
      "name": "python3",
      "display_name": "Python 3"
    },
    "language_info": {
      "name": "python"
    }
  },
  "cells": [
    {
      "cell_type": "markdown",
      "metadata": {
        "id": "view-in-github",
        "colab_type": "text"
      },
      "source": [
        "<a href=\"https://colab.research.google.com/github/kirbyju/TCIA_Notebooks/blob/main/ACNS0332/ACNS0332.ipynb\" target=\"_parent\"><img src=\"https://colab.research.google.com/assets/colab-badge.svg\" alt=\"Open In Colab\"/></a>"
      ]
    },
    {
      "cell_type": "markdown",
      "source": [
        "# Accessing DICOM images and annotations from the ACNS0332 dataset hosted on TCIA\n",
        "\n",
        "This notebook is focused on accessing the **\"Annotations for Chemotherapy and Radiation Therapy in Treating Young Patients With Newly Diagnosed, Previously Untreated, High-Risk Medulloblastoma/PNET (ACNS0332)\"** dataset hosted on [The Cancer Imaging Archive(TCIA)](https://cancerimagingarchive.net). \n"
      ],
      "metadata": {
        "id": "KmXfYFZtja2F"
      }
    },
    {
      "cell_type": "markdown",
      "source": [
        "# 1 Learn about and request access to the datasets\n",
        "\n",
        "The images, annotations (tumor segmentation and seed point labels), and clinical data associated with this trial are described in detail at the following links.  These pages are publicly visible without logging in, and can be used to obtain an understanding of the dataset before going through the trouble of requesting access.\n",
        "\n",
        "1.  [Image Collection Summary](https://doi.org/10.7937/TCIA.582B-XZ89)\n",
        "2.  [Annotation Summary](https://doi.org/10.7937/D8A8-6252)\n",
        "3.  [Clinical datasets](https://nctn-data-archive.nci.nih.gov/node/838)\n",
        "\n",
        "**Note:** You can use the links above to view data dictionaries outlining the specific clinical variables that were collected before requesting access.\n",
        "\n",
        "### Requesting access to the data\n",
        "To download the actual data, you must request access through the NCTN Data Archive via the following steps:\n",
        " \n",
        " 1. [Register an account on the NCTN Data Archive](https://nctn-data-archive.nci.nih.gov/).  \n",
        " 2. After logging in, use the \"Request Data\" link in the left side menu.  \n",
        " 3. Follow the on-screen instructions and enter _**NCT00392327**_ when asked which trial you want to request.  \n",
        " 4. In step 2 of the Create Request form, be sure to select “Imaging Data Requested”. \n",
        " \n",
        "Once you are approved for access, you'll be able to download the clinical data from the NCTN Archive.  You will then be asked to create an account on TCIA with the same email address to access the imaging data.  Please contact NCINCTNDataArchive@mail.nih.gov for any questions about access requests.  "
      ],
      "metadata": {
        "id": "AruUGe3lmjkh"
      }
    },
    {
      "cell_type": "markdown",
      "source": [
        "# 2 Import tcia_utils\n",
        "\n",
        "The following imports a variety of useful functions for accessing TCIA via Jupyter/Python."
      ],
      "metadata": {
        "id": "bqulqBEDMSS6"
      }
    },
    {
      "cell_type": "code",
      "source": [
        "import requests\n",
        "import pandas as pd\n",
        "\n",
        "tcia_utils_text = requests.get(\"https://github.com/kirbyju/TCIA_Notebooks/raw/main/tcia_utils.py\")\n",
        "with open('tcia_utils.py', 'wb') as f:\n",
        "    f.write(tcia_utils_text.content)"
      ],
      "metadata": {
        "id": "p3zEqnxi9rk2"
      },
      "execution_count": null,
      "outputs": []
    },
    {
      "cell_type": "code",
      "source": [
        "import tcia_utils as tcia"
      ],
      "metadata": {
        "id": "zP4VRfgg-QXU"
      },
      "execution_count": null,
      "outputs": []
    },
    {
      "cell_type": "markdown",
      "source": [
        "# 3 Downloading images and annotations with the NBIA Data Retriever\n",
        "\n",
        "TCIA uses software called NBIA to manage its DICOM data.  One way to download TCIA data is to install the [linux command-line version of the NBIA Data Retriever](https://wiki.cancerimagingarchive.net/x/2QKPBQ) using the following steps.  This tool provides a number of useful features such as auto-retry if there are any problems, saving data in an organized hierarchy on your hard drive (Collection > Patient > Study > Series > Images), and providing a CSV file containing key DICOM metadata about the images you've downloaded.\n",
        "\n",
        "_**Note:**_ It's also possible to download these data via our REST API if you can't or don't want to install the NBIA Data Retriever. This is covered later in the notebook."
      ],
      "metadata": {
        "id": "aUw6d8fbgb8Z"
      }
    },
    {
      "cell_type": "markdown",
      "source": [
        "## 3.1 Install the NBIA Data Retriever CLI package"
      ],
      "metadata": {
        "id": "RtLE_18NoaJ8"
      }
    },
    {
      "cell_type": "code",
      "metadata": {
        "id": "B714bOkDk8kd"
      },
      "source": [
        "# Install NBIA Data Retriever CLI software for downloading images later in this notebook.\n",
        "\n",
        "!mkdir /usr/share/desktop-directories/\n",
        "!wget -P /content/NBIA-Data-Retriever https://cbiit-download.nci.nih.gov/nbia/releases/ForTCIA/NBIADataRetriever_4.4/nbia-data-retriever-4.4.deb\n",
        "!dpkg -i /content/NBIA-Data-Retriever/nbia-data-retriever-4.4.deb\n",
        "\n",
        "# NOTE: If you're working on a Linux OS that uses RPM packages, you can change the wget line above to point to\n",
        "#       https://cbiit-download.nci.nih.gov/nbia/releases/ForTCIA/NBIADataRetriever_4.4/NBIADataRetriever-4.4-1.x86_64.rpm"
      ],
      "execution_count": null,
      "outputs": []
    },
    {
      "cell_type": "markdown",
      "source": [
        "## 3.2 Set up your credential file\n",
        "Since this Collection requires logging in, you must setup a **credentials.txt** file that contains your user name and password. We will leverage the **tcia.makeCredentialFile()** function to do this."
      ],
      "metadata": {
        "id": "cQedyBiFIbRo"
      }
    },
    {
      "cell_type": "code",
      "source": [
        "tcia.makeCredentialFile()"
      ],
      "metadata": {
        "id": "fhxiUyja-SzB"
      },
      "execution_count": null,
      "outputs": []
    },
    {
      "cell_type": "markdown",
      "source": [
        "## 3.3 Download data\n",
        "The NBIA Data Retriever software works by ingesting a \"manifest\" file that contains the DICOM Series Instance UIDs of the scans you want to download. The manifest files can be downloaded from [this page](https://doi.org/10.7937/D8A8-6252), but you can also obtain these manifests with the commands below.\n",
        "\n",
        "* Annotations - segmentations, seed points, and Negative Findings Assessments \n",
        "* Source images used to create segmentations & seed points\n",
        "* Source images used to create Negative Assessment Reports"
      ],
      "metadata": {
        "id": "2uMbL1nwIJ5f"
      }
    },
    {
      "cell_type": "code",
      "source": [
        "# Annotations - segmentations, seed points, and Negative Findings Assessments\n",
        "manifest = requests.get(\"https://wiki.cancerimagingarchive.net/download/attachments/119703167/ACNS0332-Tumor-Annotations-manifest_10-04-2022.tcia?api=v2\")\n",
        "with open('ACNS0332-Tumor-Annotations-manifest_10-04-2022.tcia', 'wb') as f:\n",
        "    f.write(manifest.content)"
      ],
      "metadata": {
        "id": "yNJmSdWk4STr"
      },
      "execution_count": null,
      "outputs": []
    },
    {
      "cell_type": "code",
      "source": [
        "# Source images used to create segmentations & seed points\n",
        "manifest = requests.get(\"https://wiki.cancerimagingarchive.net/download/attachments/119703167/ACNS0332-OriginalMRs-SEGSandSeedpoints-manifest_10-04-2022.tcia?api=v2\")\n",
        "with open('ACNS0332-OriginalMRs-SEGSandSeedpoints-manifest_10-04-2022.tcia', 'wb') as f:\n",
        "    f.write(manifest.content)\n"
      ],
      "metadata": {
        "id": "GQ6y0K4Z4SKw"
      },
      "execution_count": null,
      "outputs": []
    },
    {
      "cell_type": "code",
      "source": [
        "# Source images used to create Negative Assessment Reports\n",
        "# (no segmentation or seed points created for the scan)\n",
        "manifest = requests.get(\"https://wiki.cancerimagingarchive.net/download/attachments/119703167/ACNS0332-OriginalMRs-NegativeAssessments-manifest_10-04-2022.tcia?api=v2\")\n",
        "with open('ACNS0332-OriginalMRs-NegativeAssessments-manifest_10-04-2022.tcia', 'wb') as f:\n",
        "    f.write(manifest.content)"
      ],
      "metadata": {
        "id": "00sVKS7H4SBC"
      },
      "execution_count": null,
      "outputs": []
    },
    {
      "cell_type": "markdown",
      "source": [
        "A manifest containing sample images and annotations for a single subject has also been created for use with this notebook to facilitate quick testing and demonstrations."
      ],
      "metadata": {
        "id": "rVspqXGGOlct"
      }
    },
    {
      "cell_type": "code",
      "source": [
        "# Single subject manifest containing examples of each annotation type\n",
        "# Use this one for a quick demo.\n",
        "manifest = requests.get(\"https://github.com/kirbyju/TCIA_Notebooks/raw/main/ACNS0332/acns0332-demo-PARJIR.tcia\")\n",
        "with open('acns0332-demo-PARJIR.tcia', 'wb') as f:\n",
        "    f.write(manifest.content)"
      ],
      "metadata": {
        "id": "BzGvAkiP4RME"
      },
      "execution_count": null,
      "outputs": []
    },
    {
      "cell_type": "markdown",
      "source": [
        "Now we can open the sample manifest file with the NBIA Data Retriever to download the actual data. You can repeat this step for each manifest you want to download by changing the path.\n",
        "\n",
        "**<font color='red'>After running the following command, click in the output cell, type \"y,\" and press Enter to agree with the TCIA Data Usage Policy and start the download.</font>**"
      ],
      "metadata": {
        "id": "luCkOp79iHmG"
      }
    },
    {
      "cell_type": "code",
      "source": [
        "!/opt/nbia-data-retriever/nbia-data-retriever --cli '/content/acns0332-demo-PARJIR.tcia' -d /content/ -l /content/credentials.txt"
      ],
      "metadata": {
        "id": "a4lklpk4Xwpc"
      },
      "execution_count": null,
      "outputs": []
    },
    {
      "cell_type": "markdown",
      "metadata": {
        "id": "SmeqJoR5k9z0"
      },
      "source": [
        "# 4 Accessing the REST APIs \n",
        "The NBIA REST APIs allow TCIA users to query metadata and download image data.  Since this dataset is \"limited access,\" we'll need to use the \"NBIA Search with Authentication REST API\" described at https://wiki.cancerimagingarchive.net/x/X4ATBg, which enables you to use your login credentials to create API tokens to access this Collection.  However, we'll rely heavily on [tcia_utils](https://github.com/kirbyju/TCIA_Notebooks/blob/main/tcia_utils.py) to simplify things.  "
      ]
    },
    {
      "cell_type": "markdown",
      "source": [
        "## 4.1 Create an API token\n",
        "\n",
        "We'll use **tcia.getToken()** to generate an access token to query restricted Collections on TCIA.  **<font color='red'>Tokens are valid for 2 hours and must be refreshed after that point.</font>** See https://wiki.cancerimagingarchive.net/x/X4ATBg for more details. "
      ],
      "metadata": {
        "id": "eUww-ijsQNvz"
      }
    },
    {
      "cell_type": "code",
      "source": [
        "access_token = tcia.getToken()"
      ],
      "metadata": {
        "id": "rVfeOAV7Zb7h"
      },
      "execution_count": null,
      "outputs": []
    },
    {
      "cell_type": "markdown",
      "source": [
        "## 4.2 Explore the data with REST API queries\n",
        "\n",
        "Let's start by looking at what body parts and modalities are contained in the Collection.  For this dataset, the 3D segmentations are SEG modality. RTSTRUCTs were used to record seed points and scans where no tumor was found."
      ],
      "metadata": {
        "id": "nj6P7YCmll4S"
      }
    },
    {
      "cell_type": "code",
      "source": [
        "# count patients for each modality\n",
        "data = tcia.getModalityCounts(collection = \"ACNS0332\")\n",
        "\n",
        "# format results in dataframe\n",
        "df = pd.DataFrame(data)\n",
        "df.rename(columns = {'criteria':'Modality', 'count':'PatientCount'}, inplace = True)\n",
        "df.PatientCount = df.PatientCount.astype(int)\n",
        "display(df.sort_values(by='PatientCount', ascending=False, ignore_index = True))"
      ],
      "metadata": {
        "id": "oLDN4BAhbhvZ"
      },
      "execution_count": null,
      "outputs": []
    },
    {
      "cell_type": "code",
      "source": [
        "# Count patients for each body part examined\n",
        "data = tcia.getBodyPartCounts(collection = \"ACNS0332\")\n",
        "\n",
        "# format results in dataframe\n",
        "df = pd.DataFrame(data)\n",
        "df.rename(columns = {'criteria':'BodyPartExamined', 'count':'PatientCount'}, inplace = True)\n",
        "df.PatientCount = df.PatientCount.astype(int)\n",
        "display(df.sort_values(by='PatientCount', ascending=False, ignore_index = True))"
      ],
      "metadata": {
        "id": "JXH-W2ygB3P9"
      },
      "execution_count": null,
      "outputs": []
    },
    {
      "cell_type": "markdown",
      "source": [
        "Now let's run some queries to see what we can learn about the patient cohort from the DICOM metadata.  This information can include things like age, gender, and ethnicity.  However, in the case of ACNS0332, most of this information is also available in the clinical data at https://nctn-data-archive.nci.nih.gov/node/838."
      ],
      "metadata": {
        "id": "W_qx6ufbkGql"
      }
    },
    {
      "cell_type": "code",
      "source": [
        "# obtain patient details (e.g. species, gender, ethnicity) for the collection \n",
        "data = tcia.getPatient(collection = \"ACNS0332\", api_url = \"restricted\")\n",
        "\n",
        "# format as dataframe\n",
        "df = pd.DataFrame(data)\n",
        "display(df)\n",
        "\n",
        "# optional - save to CSV file\n",
        "# df.to_csv('patient_metadata.csv')"
      ],
      "metadata": {
        "id": "XUBlXp7P_JI8"
      },
      "execution_count": null,
      "outputs": []
    },
    {
      "cell_type": "code",
      "source": [
        "# obtain study/visit details (e.g. anonymized study date, age at the time of visit)\n",
        "data = tcia.getStudy(collection = \"ACNS0332\", api_url = \"restricted\")\n",
        "\n",
        "# format as dataframe\n",
        "df = pd.DataFrame(data)\n",
        "display(df)\n",
        "\n",
        "# optional - save to CSV file\n",
        "# df.to_csv('study_metadata.csv')"
      ],
      "metadata": {
        "id": "5Kn8nhMSB5u1"
      },
      "execution_count": null,
      "outputs": []
    },
    {
      "cell_type": "markdown",
      "source": [
        "We can also create a report that gives useful metadata about each scan in the dataset (e.g. series description, modality, scanner manufacturer & software version, number of images)."
      ],
      "metadata": {
        "id": "3DsmSgvZlYEb"
      }
    },
    {
      "cell_type": "code",
      "source": [
        "# obtain scan/series metadata for a collection as JSON\n",
        "collection_series = tcia.getSeries(collection = \"ACNS0332\", api_url = \"restricted\")\n",
        "\n",
        "# format as dataframe\n",
        "df = pd.DataFrame(collection_series)\n",
        "display(df)\n",
        "\n",
        "# optional - save to CSV file\n",
        "# df.to_csv('series_metadata.csv')"
      ],
      "metadata": {
        "id": "EUsiN5N60Cai"
      },
      "execution_count": null,
      "outputs": []
    },
    {
      "cell_type": "markdown",
      "source": [
        "Finally, we can use the results from the getSeries() query to generate some summary statistics about the scans in the collection."
      ],
      "metadata": {
        "id": "f5Mm6Tf-IpcP"
      }
    },
    {
      "cell_type": "code",
      "source": [
        "# Calculate summary statistics for a given collection \n",
        "tcia.makeSeriesReport(collection_series)"
      ],
      "metadata": {
        "id": "DmBIApWdz_2W"
      },
      "execution_count": null,
      "outputs": []
    },
    {
      "cell_type": "markdown",
      "source": [
        "## 4.3 Downloading data with the REST API\n",
        "Next we'll cover using the API to download data.  This can be useful if you'd like to download results from API queries rather than using an existing manifest file.  It's also useful if you can't install the NBIA Data Retriever or want to integrate TCIA downloads into other pipelines/tools.  \n",
        "\n",
        "As a reminder, many of the scans in the ACNS0332 Collection were not annotated by the authors of https://doi.org/10.7937/D8A8-6252.  The reasons are outlined in the Annotation Protocol on that page.  As a result, you may want to download only a subset of the scans such as:\n",
        "\n",
        "1. Seed point labels (RTSTRUCTs)\n",
        "2. 3d segmentation labels (SEGs)\n",
        "3. All source images used to create either seed points or segmentations\n",
        "4. Source images used to create segmentations\n",
        "5. Source images with negative finding assessments\n",
        "\n",
        "The following examples demonstrate how to tackle each of these use cases. "
      ],
      "metadata": {
        "id": "oLIs83GT7tvp"
      }
    },
    {
      "cell_type": "markdown",
      "source": [
        "### 4.3.1 tcia_utils download functions\n",
        "**tcia_utils** contains two functions for downloading data, **downloadSampleSeries()** and **downloadSeries()**.   The only difference between them is that **downloadSampleSeries()** only grabs the first three scans in the list of scans to download, which is useful for demonstration and testing purposes.\n",
        "\n",
        "Both functions ingest a set of seriesUids to download.  By default, the functions expect JSON data containing \"SeriesInstanceUID\" elements, which can be generated using **getSeries()**.  However, if you have a series UID list from some other source, you can set **input_type = \"list\"** to pass a regular list of series UIDs instead of JSON. Both functions return a dataframe of the series metadata describing the data that were downloaded.  You can optionally export a CSV of the series metadata by specifying the **csv_filename** parameter."
      ],
      "metadata": {
        "id": "Y5H23z-Djep_"
      }
    },
    {
      "cell_type": "markdown",
      "source": [
        "### 4.3.2 Download a sample subject\n",
        "Before downloading data for the entire cohort, let's take a quick look at the various types of data for a single subject.  We'll use the **acns0332-demo-PARJIR.tcia** manifest file in this example to tell **tcia.downloadSeries()** what to download.\n",
        "\n",
        "TCIA manifest files contain several lines of download parameters that precede a list of Series Instance UIDs to download.  The steps below will put the Series UIDs into a list and ignore the parameters in the first six lines of the manifest so that we have a clean list to feed to **tcia.downloadSeries()**."
      ],
      "metadata": {
        "id": "LHbh-qSHDhs3"
      }
    },
    {
      "cell_type": "code",
      "source": [
        "# initialize variable\n",
        "series_data = []\n",
        "\n",
        "# open file\n",
        "with open(\"acns0332-demo-PARJIR.tcia\") as f:\n",
        "    for line in f:\n",
        "        series_data.append(line.rstrip())\n",
        "\n",
        "# remove the parameters from the list\n",
        "del series_data[:6]\n",
        "#print(series_data)\n",
        "\n",
        "print(\"Result contains\", len(series_data), \"Series Instance UIDs (scans).\")\n"
      ],
      "metadata": {
        "id": "kjXZG-YodVuv"
      },
      "execution_count": null,
      "outputs": []
    },
    {
      "cell_type": "markdown",
      "source": [
        "Now we can download the series in the list and return the metadata to a dataframe. "
      ],
      "metadata": {
        "id": "UG--djUgH2UA"
      }
    },
    {
      "cell_type": "code",
      "source": [
        "df = tcia.downloadSeries(series_data, input_type = \"list\", api_url = \"restricted\")\n"
      ],
      "metadata": {
        "id": "9s1l6qFpeSvd"
      },
      "execution_count": null,
      "outputs": []
    },
    {
      "cell_type": "markdown",
      "source": [
        "Here's what the metadata looks like in the dataframe."
      ],
      "metadata": {
        "id": "2GMyfBFIakHz"
      }
    },
    {
      "cell_type": "code",
      "source": [
        "display(df)"
      ],
      "metadata": {
        "id": "0GU-MlmQaZ9R"
      },
      "execution_count": null,
      "outputs": []
    },
    {
      "cell_type": "markdown",
      "source": [
        "### 4.3.3 Download subsets of the data\n",
        "To identify the subsets for the other use cases, we'll leverage the **annotation metadata** spreadsheet the authors provided, which you can download from https://doi.org/10.7937/D8A8-6252 or retrieve directly into a dataframe with the code below."
      ],
      "metadata": {
        "id": "bTCcpXplCJh2"
      }
    },
    {
      "cell_type": "code",
      "source": [
        "# load annotation metadata spreadsheet to dataframe\n",
        "\n",
        "annotation_Metadata = pd.read_csv('https://wiki.cancerimagingarchive.net/download/attachments/119703167/ACNS0332_annotations_metadata-2022-10-04.csv?api=v2')\n",
        "\n",
        "display(annotation_Metadata)"
      ],
      "metadata": {
        "id": "dFyGPStsLgeL"
      },
      "execution_count": null,
      "outputs": []
    },
    {
      "cell_type": "markdown",
      "source": [
        "#### Download seed points\n",
        "Since we're working with Series UIDs from a dataframe instead of JSON output from the API, we'll use the  **input_type = \"list\"** parameter in the remaining download steps.  Options to download a sample (three scans) or the entire dataset are provided.  We'll also specify a **csv_filename** to save the related metadata to a file."
      ],
      "metadata": {
        "id": "kgkWxt-QUM3i"
      }
    },
    {
      "cell_type": "code",
      "source": [
        "# filter dataframe to only include seed point rows\n",
        "seedPoints = annotation_Metadata[annotation_Metadata['StructureSetLabel'] == 'Seed Points']\n",
        "#display(seedPoints)\n",
        "\n",
        "# extract series UID column to list for downloading\n",
        "series_data = seedPoints[\"SeriesInstanceUID\"].tolist()\n",
        "\n",
        "# download a sample set of three scans \n",
        "# return metadata dataframe as dataframe\n",
        "# save a CSV of the metadata \n",
        "df = tcia.downloadSampleSeries(series_data, api_url = \"restricted\", input_type = \"list\", csv_filename = \"acns0332_seedPoints\")\n",
        "\n",
        "# If you'd rather download the full dataset, run the following.\n",
        "# df = tcia.downloadSeries(series_data, api_url = \"restricted\", input_type = \"list\", csv_filename = \"acns0332_seedPoints\")"
      ],
      "metadata": {
        "id": "QjEXYvGinWlu"
      },
      "execution_count": null,
      "outputs": []
    },
    {
      "cell_type": "markdown",
      "source": [
        "#### Download 3D segmentations"
      ],
      "metadata": {
        "id": "1irWBSZvU05T"
      }
    },
    {
      "cell_type": "code",
      "source": [
        "# filter dataframe to only include segmentations\n",
        "segs = annotation_Metadata[annotation_Metadata['DICOM Type'] == 'SEG']\n",
        "# display(segs)\n",
        "\n",
        "# extract series UID column to list for downloading\n",
        "series_data = segs[\"SeriesInstanceUID\"].tolist()\n",
        "\n",
        "# download a sample set of three scans \n",
        "# return metadata dataframe as dataframe\n",
        "# save a CSV of the metadata \n",
        "df = tcia.downloadSampleSeries(series_data, api_url = \"restricted\", input_type = \"list\", csv_filename = \"acns0332_SEGs\")\n",
        "\n",
        "# If you'd rather download the full dataset, run the following.\n",
        "# df = tcia.downloadSeries(series_data, api_url = \"restricted\", input_type = \"list\", csv_filename = \"acns0332_SEGs\")"
      ],
      "metadata": {
        "id": "2v8TAvsIndS5"
      },
      "execution_count": null,
      "outputs": []
    },
    {
      "cell_type": "markdown",
      "source": [
        "#### Download source images for seed points AND segmentations"
      ],
      "metadata": {
        "id": "83yGuURz-qKk"
      }
    },
    {
      "cell_type": "code",
      "source": [
        "# filter dataframe to only include seg and seed point rows (remove \"no findings\")\n",
        "ref_Series = annotation_Metadata[(annotation_Metadata['StructureSetLabel'] == 'Seed Points') |\n",
        "                                 (annotation_Metadata['DICOM Type'] == 'SEG')]\n",
        "\n",
        "# remove duplicate ReferencedSeriesUIDs\n",
        "clean_refSeries = ref_Series.drop_duplicates(subset='ReferencedSeriesInstanceUID')\n",
        "# display(clean_refSeries)\n",
        "\n",
        "# extract series UID column to list for downloading\n",
        "series_data = clean_refSeries[\"ReferencedSeriesInstanceUID\"].tolist()\n",
        "\n",
        "# download a sample set of three scans \n",
        "# return metadata dataframe as dataframe\n",
        "# save a CSV of the metadata \n",
        "df = tcia.downloadSampleSeries(series_data, api_url = \"restricted\", input_type = \"list\", csv_filename = \"seg_seed_source_images\")\n",
        "\n",
        "# If you'd rather download the full dataset, run the following.\n",
        "# df = tcia.downloadSeries(series_data, api_url = \"restricted\", input_type = \"list\", csv_filename = \"acns0332_seg_seed_MRIs\")"
      ],
      "metadata": {
        "id": "1xkU4f7LGEyy"
      },
      "execution_count": null,
      "outputs": []
    },
    {
      "cell_type": "markdown",
      "source": [
        "#### Download source images for segmentations (excludes MRIs that only had seed points without segmentations)"
      ],
      "metadata": {
        "id": "-Z24k7pjGnZp"
      }
    },
    {
      "cell_type": "code",
      "source": [
        "# filter dataframe to only include seg\n",
        "ref_Series = annotation_Metadata[annotation_Metadata['DICOM Type'] == 'SEG']\n",
        "# display(ref_Series)\n",
        "\n",
        "# remove duplicate ReferencedSeriesUIDs\n",
        "clean_refSeries = ref_Series.drop_duplicates(subset='ReferencedSeriesInstanceUID')\n",
        "# display(clean_refSeries)\n",
        "\n",
        "# extract series UID column to list for downloading\n",
        "series_data = clean_refSeries[\"ReferencedSeriesInstanceUID\"].tolist()\n",
        "\n",
        "# download a sample set of three scans \n",
        "# return metadata dataframe as dataframe\n",
        "# save a CSV of the metadata \n",
        "df = tcia.downloadSampleSeries(series_data, api_url = \"restricted\", input_type = \"list\", csv_filename = \"acns0332_seg_MRIs\")\n",
        "\n",
        "# If you'd rather download the full dataset, run the following.\n",
        "# df = tcia.downloadSeries(series_data, api_url = \"restricted\", input_type = \"list\", csv_filename = \"acns0332_seg_MRIs\")"
      ],
      "metadata": {
        "id": "TTc8xngVnS7i"
      },
      "execution_count": null,
      "outputs": []
    },
    {
      "cell_type": "markdown",
      "source": [
        "The following code will download the MRI scans for images with negative finding assessments.  These are cases where the authors of the dataset did not find anything that could be annotated.  Downloading these scans could be useful if you are training a tumor/metastases detection model."
      ],
      "metadata": {
        "id": "sBKxqkISxBa-"
      }
    },
    {
      "cell_type": "code",
      "source": [
        "# filter dataframe to only include MRIs with \"no findings\"\n",
        "ref_Series = annotation_Metadata[annotation_Metadata['StructureSetLabel'] == 'No Findings']\n",
        "\n",
        "# remove duplicate ReferencedSeriesUIDs\n",
        "clean_refSeries = ref_Series.drop_duplicates(subset='ReferencedSeriesInstanceUID')\n",
        "\n",
        "# extract series UID column to list for downloading\n",
        "series_data = clean_refSeries[\"ReferencedSeriesInstanceUID\"].tolist()\n",
        "\n",
        "# download a sample set of three scans\n",
        "# return metadata dataframe as dataframe\n",
        "# save a CSV of the metadata \n",
        "df = tcia.downloadSampleSeries(series_data, api_url = \"restricted\", input_type = \"list\", csv_filename = \"acns0332_noFinding_MRIs\")\n",
        "\n",
        "# If you'd rather download the full dataset, run the following.\n",
        "# df = tcia.downloadSeries(series_data, api_url = \"restricted\", input_type = \"list\", csv_filename = \"acns0332_noFinding_MRIs\")"
      ],
      "metadata": {
        "id": "zNR1Op_RnhOS"
      },
      "execution_count": null,
      "outputs": []
    },
    {
      "cell_type": "markdown",
      "source": [
        "# Acknowledgements\n",
        "[The Cancer Imaging Archive (TCIA)](https://www.cancerimagingarchive.net/) is a service that de-identifies and hosts a large, publicly available, archive of medical images of cancer.  TCIA is funded by the [Cancer Imaging Program (CIP)](https://imaging.cancer.gov/), a part of the United States [National Cancer Institute (NCI)](https://www.cancer.gov/), and is managed by the [Frederick National Laboratory for Cancer Research (FNLCR)](https://frederick.cancer.gov/).\n",
        "\n",
        "This notebook was created by [Justin Kirby](https://www.linkedin.com/in/justinkirby82/).  If you leverage TCIA datasets in your work, please be sure to comply with the [TCIA Data Usage Policy](https://wiki.cancerimagingarchive.net/x/c4hF). Upon receiving access, you must also abide by the terms of your NCTN/NCORP Data Archive’s Data Use Agreement (DUA). You are not allowed to redistribute the data or use it for other purposes. Attribution should include references to the following citations:\n",
        "\n",
        "## Data Citations\n",
        "\n",
        "1. Hwang, E. I., Kool, M., Burger, P. C., Capper, D., Chavez, L., Brabetz, S., Williams-Hughes, C., Billups, C., Heier, L., Jaju, A., Michalski, J., Li, Y., Leary, S., Zhou, T., von Deimling, A., Jones, D. T. W., Fouladi, M., Pollack, I. F., Gajjar, A., … Olson, J. M. (2021). Chemotherapy and Radiation Therapy in Treating Young Patients With Newly Diagnosed, Previously Untreated, High-Risk Medulloblastoma/PNET (ACNS0332) [Data set]. The Cancer Imaging Archive. https://doi.org/10.7937/TCIA.582B-XZ89\n",
        "2. Rozenfeld, M., & Jordan, P. (2022). Annotations for Chemotherapy and Radiation Therapy in Treating Young Patients With Newly Diagnosed, Previously Untreated, High-Risk Medulloblastoma/PNET (ACNS0332-Tumor-Annotations) (Version 1) [Data set]. The Cancer Imaging Archive. https://doi.org/10.7937/D8A8-6252\n",
        "\n",
        "## Publication Citation\n",
        "\n",
        "Hwang, E. I., Kool, M., Burger, P. C., Capper, D., Chavez, L., Brabetz, S., Williams-Hughes, C., Billups, C., Heier, L., Jaju, A., Michalski, J., Li, Y., Leary, S., Zhou, T., von Deimling, A., Jones, D. T. W., Fouladi, M., Pollack, I. F., Gajjar, A., … Olson, J. M. (2018). Extensive Molecular and Clinical Heterogeneity in Patients With Histologically Diagnosed CNS-PNET Treated as a Single Entity: A Report From the Children’s Oncology Group Randomized ACNS0332 Trial. Journal of Clinical Oncology, 36(34), 3388–3395. https://doi.org/10.1200/jco.2017.76.4720. Epub ahead of print. PMID: 30332335.\n",
        "\n",
        "## TCIA Citation\n",
        "\n",
        "Clark, K., Vendt, B., Smith, K., Freymann, J., Kirby, J., Koppel, P., Moore, S., Phillips, S., Maffitt, D., Pringle, M., Tarbox, L., & Prior, F. (2013). The Cancer Imaging Archive (TCIA): Maintaining and Operating a Public Information Repository. Journal of Digital Imaging, 26(6), 1045–1057. https://doi.org/10.1007/s10278-013-9622-7"
      ],
      "metadata": {
        "id": "DCOM4lO4_tET"
      }
    }
  ]
}