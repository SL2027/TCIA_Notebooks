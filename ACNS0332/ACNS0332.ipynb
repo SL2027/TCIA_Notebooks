{
  "nbformat": 4,
  "nbformat_minor": 0,
  "metadata": {
    "colab": {
      "provenance": [],
      "collapsed_sections": [
        "SmeqJoR5k9z0",
        "CSTkcuXMgCDd",
        "7YGlC_ajggC8",
        "nj6P7YCmll4S",
        "I9_O-nq1lr7c",
        "JkCZMxa_ua6P",
        "BJEBAyTyqcU5",
        "YMIPh4vzqfN5",
        "9Zp_hWmXsKZ9"
      ],
      "include_colab_link": true
    },
    "kernelspec": {
      "name": "python3",
      "display_name": "Python 3"
    },
    "language_info": {
      "name": "python"
    }
  },
  "cells": [
    {
      "cell_type": "markdown",
      "metadata": {
        "id": "view-in-github",
        "colab_type": "text"
      },
      "source": [
        "<a href=\"https://colab.research.google.com/github/kirbyju/TCIA_Notebooks/blob/main/ACNS0332/ACNS0332.ipynb\" target=\"_parent\"><img src=\"https://colab.research.google.com/assets/colab-badge.svg\" alt=\"Open In Colab\"/></a>"
      ]
    },
    {
      "cell_type": "markdown",
      "source": [
        "# Accessing and visualizing DICOM annotations from the ACNS0332 dataset hosted on TCIA\n",
        "\n",
        "This notebook is focused on accessing the **\"Chemotherapy and Radiation Therapy in Treating Young Patients With Newly Diagnosed, Previously Untreated, High-Risk Medulloblastoma/PNET (ACNS0332)\"** Collection hosted on [The Cancer Imaging Archive(TCIA)](https://cancerimagingarchive.net).  This dataset includes [DICOM MRI images](https://doi.org/10.7937/TCIA.582B-XZ89) hosted on TCIA and [clinical data](https://nctn-data-archive.nci.nih.gov/node/838) hosted by the NCTN Data Archive.  The National Cancer Institute has also funded an activity to generate and publish [annotations (3d segmentation labels and seed points)](https://doi.org/10.7937/D8A8-6252) on TCIA to help jumpstart research on tumor detection and auto-segmentation methods.  \n"
      ],
      "metadata": {
        "id": "KmXfYFZtja2F"
      }
    },
    {
      "cell_type": "markdown",
      "source": [
        "# 1 Learn about and request access to the ACNS0332 datasets\n",
        "\n",
        "The imaging, clinical and annotation data for ACNS0332 are described in detail at the following links.  These pages are publicly visible without logging in so you can obtain an understanding of the dataset before going through the trouble of requesting access:\n",
        "\n",
        "1.  [ACNS0332 Collection Summary](https://doi.org/10.7937/TCIA.582B-XZ89)\n",
        "2.  [ACNS0332 Annotation Summary](https://doi.org/10.7937/D8A8-6252)\n",
        "3.  Descriptions of the 3 clinical datasets can be viewed at https://nctn-data-archive.nci.nih.gov/node/838.  Clicking on each dataset also allows you to view a detailed Data Dictionary outlining the types of clinical variables that were collected.\n",
        "\n",
        "### Requesting Access to the data\n",
        "In order to download the actual data you must request access through the NCTN Data Archive via the following steps:\n",
        " \n",
        " 1. [Register an account on the NCTN Data Archive](https://nctn-data-archive.nci.nih.gov/).  \n",
        " 2. After logging in, use the \"Request Data\" link in the left side menu.  \n",
        " 3. Follow the on screen instructions, and enter ***NCT00392327*** when asked which trial you want to request.  \n",
        " 4. In step 2 of the Create Request form, be sure to select “Imaging Data Requested”. \n",
        " \n",
        "Once you are approved for access you'll be able to download the clinical data from the NCTN Archive.  You will then be asked to create an account on TCIA with the same email address so that you can access the imaging data.  Please contact NCINCTNDataArchive@mail.nih.gov for any questions about access requests.  "
      ],
      "metadata": {
        "id": "AruUGe3lmjkh"
      }
    },
    {
      "cell_type": "markdown",
      "source": [
        "# 2 Set up your TCIA credential file\n",
        "\n",
        "Since the ACNS0332 collection requires logging in you must setup a TCIA credential file which contains your user name and password. \n",
        "\n",
        "**NOTE:** You must enter your real user name and password before you run this, or go and edit the resulting text file with your real credentials after it's created. "
      ],
      "metadata": {
        "id": "43oCjc4R09HJ"
      }
    },
    {
      "cell_type": "code",
      "source": [
        "# Create the credential file\n",
        "\n",
        "lines = ['userName=YourUserName', 'passWord=YourPassword']\n",
        "with open('credentials.txt', 'w') as f:\n",
        "    f.write('\\n'.join(lines))"
      ],
      "metadata": {
        "id": "oWk-EEVF2aFs"
      },
      "execution_count": null,
      "outputs": []
    },
    {
      "cell_type": "markdown",
      "source": [
        "# 3 Downloading images and annotations with NBIA Data Retriever\n",
        "\n",
        "TCIA utilizes software called NBIA to manage its DICOM data.  One way to download TCIA data is to install the [linux command-line version of the NBIA Data Retriever](https://wiki.cancerimagingarchive.net/x/2QKPBQ) using the following steps.  This tool provides a number of useful features such as multi-threaded downloads, auto-retry if there are any problems, saving data in an organized hierarchy on your hard drive (Collection > Patient > Study > Series > Images) and providing a CSV file continaing key DICOM metadata about the images you've downloaded."
      ],
      "metadata": {
        "id": "aUw6d8fbgb8Z"
      }
    },
    {
      "cell_type": "markdown",
      "source": [
        "### 3.1 Install the NBIA Data Retriever CLI package"
      ],
      "metadata": {
        "id": "RtLE_18NoaJ8"
      }
    },
    {
      "cell_type": "code",
      "metadata": {
        "id": "B714bOkDk8kd"
      },
      "source": [
        "# install NBIA Data Retriever CLI software for downloading images later in this notebook\n",
        "\n",
        "!mkdir /usr/share/desktop-directories/\n",
        "!wget -P /content/NBIA-Data-Retriever https://cbiit-download.nci.nih.gov/nbia/releases/ForTCIA/NBIADataRetriever_4.4/nbia-data-retriever-4.4.deb\n",
        "!dpkg -i /content/NBIA-Data-Retriever/nbia-data-retriever-4.4.deb\n",
        "\n",
        "# NOTE: If you're working on a Linux OS that uses RPM packages you can change the wget line above to point to\n",
        "#       https://cbiit-download.nci.nih.gov/nbia/releases/ForTCIA/NBIADataRetriever_4.4/NBIADataRetriever-4.4-1.x86_64.rpm"
      ],
      "execution_count": null,
      "outputs": []
    },
    {
      "cell_type": "markdown",
      "source": [
        "### 3.2 Download the full dataset using NBIA Data Retriever CLI\n",
        "The Data Retriever software works by ingesting a \"manifest\" file that contains the DICOM Series Instance UIDs of the scans you'd like to download. The manifest files can be downloaded from [this page](https://doi.org/10.7937/D8A8-6252), but you can also use wget to obtain these manifests with the commands below.\n",
        "\n",
        "* ACNS0332 Annotations -- Segmentations, Seed Points, and Negative Findings Assessments \n",
        "* Original ACNS0332 Images used to create Segmentations & Seed Points\n",
        "* Original ACNS0332 Images used to create Negative Assessment reports\n",
        "* Manifest containing examples of each annotation type for a single subject/study (useful for quick testing/demos)"
      ],
      "metadata": {
        "id": "2uMbL1nwIJ5f"
      }
    },
    {
      "cell_type": "code",
      "source": [
        "# ACNS0332 Annotations -- Segmentations, Seed Points, and Negative Findings Assessments\n",
        "!wget -O /content/ACNS0332-Tumor-Annotations-manifest.tcia https://wiki.cancerimagingarchive.net/download/attachments/119703167/ACNS0332-Tumor-Annotations-manifest.tcia?api=v2\n",
        "\n",
        "# Original ACNS0332 Images used to create Segmentations & Seed Points\n",
        "!wget -O /content/ACNS0332-OriginalMRs-SEGSandSeedpoints-manifest.tcia https://wiki.cancerimagingarchive.net/download/attachments/119703167/ACNS0332-OriginalMRs-SEGSandSeedpoints-manifest.tcia?api=v2\n",
        "\n",
        "# Original ACNS0332 Images used to create Negative Assessment reports\n",
        "# (no segmentation or seed points created for the scan)\n",
        "!wget -O /content/ACNS0332-OriginalMRs-NegativeAssessments-manifest.tcia https://wiki.cancerimagingarchive.net/download/attachments/119703167/ACNS0332-OriginalMRs-NegativeAssessments-manifest.tcia?api=v2\n",
        "\n",
        "# Single subject manifest containing examples of each annotation type\n",
        "# Use this one for a quick demo\n",
        "!wget -O /content/acns0332-demo-PARJIR.tcia https://github.com/kirbyju/TCIA_Notebooks/raw/main/ACNS0332/acns0332-demo-PARJIR.tcia"
      ],
      "metadata": {
        "id": "pAtUWEcSHiO5"
      },
      "execution_count": null,
      "outputs": []
    },
    {
      "cell_type": "markdown",
      "source": [
        "Now we can open the manifest file(s) with the NBIA Data Retriever to download the actual data. ***Please note*** that after running the following command you have to ***click in the output cell and type \"y\"*** to agree with the TCIA Data Usage Policy to start the download.\n",
        "\n",
        "You can repeat this step for each manifest you'd like to download by changing the path.  For demonstration purposes we'll use the single subject manifest."
      ],
      "metadata": {
        "id": "luCkOp79iHmG"
      }
    },
    {
      "cell_type": "code",
      "source": [
        "# download the original MRI scans, seed points, and segmentations\n",
        "\n",
        "!/opt/nbia-data-retriever/nbia-data-retriever --cli '/content/acns0332-demo-PARJIR.tcia' -d /content/ -l /content/credentials.txt"
      ],
      "metadata": {
        "id": "a4lklpk4Xwpc"
      },
      "execution_count": null,
      "outputs": []
    },
    {
      "cell_type": "markdown",
      "metadata": {
        "id": "SmeqJoR5k9z0"
      },
      "source": [
        "# 4 Accessing the REST APIs \n",
        "The NBIA REST APIs are another way to query metadata and download image data.  Since the ACNS0332 dataset is \"limited access\" we'll need to use the \"NBIA Search with Authentication REST API\" described at https://wiki.cancerimagingarchive.net/x/X4ATBg which enables you to use your login credentials to create API tokens to access this Collection.\n",
        "\n",
        "In the following examples we'll use the API to construct queries to explore and download ACNS0332 data.  Many of these queries shown below allow for additional query parameters to refine your search results.  These are covered in the aforementioned documentation."
      ]
    },
    {
      "cell_type": "code",
      "source": [
        "# imports\n",
        "\n",
        "import requests\n",
        "import pandas as pd"
      ],
      "metadata": {
        "id": "ewKGFmuCa3xi"
      },
      "execution_count": null,
      "outputs": []
    },
    {
      "cell_type": "markdown",
      "source": [
        "### 4.1 Use credential file to create an API token\n",
        "\n",
        "These steps use the credential file you created previously to generate an access token to query restricted Collections on TCIA.  \n",
        "\n",
        "***Note:*** Tokens are valid for 2 hours and must be refreshed after that point. See https://wiki.cancerimagingarchive.net/x/X4ATBg for more details. "
      ],
      "metadata": {
        "id": "l0piv_H6DM9U"
      }
    },
    {
      "cell_type": "code",
      "source": [
        "# extract the user/pw from the credential file to variables for use in subsequent API calls and downloads          \n",
        "\n",
        "credentialFilePath = 'credentials.txt'\n",
        "mylines = []                                  \n",
        "with open (credentialFilePath, 'rt') as myfile: \n",
        "    for myline in myfile:                     \n",
        "        mylines.append(myline)   \n",
        "\n",
        "userName = mylines[0].rstrip('\\n').split(r'userName=')[1]\n",
        "passWord = mylines[1].rstrip('\\n').split(r'passWord=')[1]  "
      ],
      "metadata": {
        "id": "xT5XMXiXl5nV"
      },
      "execution_count": null,
      "outputs": []
    },
    {
      "cell_type": "code",
      "source": [
        "# request token\n",
        "\n",
        "token_url = \"https://services.cancerimagingarchive.net/nbia-api/oauth/token?username=\"+userName+\"&password=\"+passWord+\"&grant_type=password&client_id=nbiaRestAPIClient&client_secret=ItsBetweenUAndMe\"\n",
        "access_token = requests.get(token_url).json()[\"access_token\"]\n",
        "print (access_token)\n"
      ],
      "metadata": {
        "id": "RoJJAIsqNV75"
      },
      "execution_count": null,
      "outputs": []
    },
    {
      "cell_type": "markdown",
      "source": [
        "### 4.2 Explore the data with REST API Queries\n",
        "\n",
        "Now we'll set some variables that will apply to the remaining queries."
      ],
      "metadata": {
        "id": "nj6P7YCmll4S"
      }
    },
    {
      "cell_type": "code",
      "source": [
        "# set base URL to use the NBIA Search API w/ Authentication.\n",
        "# Documentation about this API is at https://wiki.cancerimagingarchive.net/x/X4ATBg\n",
        "base_url = \"https://services.cancerimagingarchive.net/nbia-api/services/v2/\"\n",
        "\n",
        "# set Advanced URL to use the NBIA Advanced API.\n",
        "# Documentation about this API is at https://wiki.cancerimagingarchive.net/x/YoATBg\n",
        "adv_url = \"https://services.cancerimagingarchive.net/nbia-api/services/\"\n",
        "\n",
        "# set collection you want to explore\n",
        "collection = \"ACNS0332\"\n",
        "\n",
        "# set API call headers to use the access token we created\n",
        "api_call_headers = {'Authorization': 'Bearer ' + access_token}"
      ],
      "metadata": {
        "id": "gllB2LddIVrQ"
      },
      "execution_count": null,
      "outputs": []
    },
    {
      "cell_type": "markdown",
      "source": [
        "Next let's run some queries to learn about what types of images are available in this Collection."
      ],
      "metadata": {
        "id": "RE5DqHzMj4Al"
      }
    },
    {
      "cell_type": "code",
      "source": [
        "# print body part(s) examined in the collection as JSON\n",
        "\n",
        "data_url = base_url + \"getBodyPartValues?Collection=\" + collection\n",
        "data = requests.get(data_url, headers = api_call_headers)\n",
        "if data.text != \"\":\n",
        "    data = data.json()\n",
        "    print (data)\n",
        "else:\n",
        "    print(\"Collection not found\")"
      ],
      "metadata": {
        "id": "aQBt2TrC6m0H"
      },
      "execution_count": null,
      "outputs": []
    },
    {
      "cell_type": "code",
      "source": [
        "# print modalities in the collection as JSON\n",
        "\n",
        "data_url = base_url + \"getModalityValues?Collection=\" + collection\n",
        "data = requests.get(data_url, headers = api_call_headers)\n",
        "if data.text != \"\":\n",
        "    data = data.json()\n",
        "    print (data)\n",
        "else:\n",
        "    print(\"Collection not found\")"
      ],
      "metadata": {
        "id": "ucDhWS7-MiIm"
      },
      "execution_count": null,
      "outputs": []
    },
    {
      "cell_type": "code",
      "source": [
        "# Count the number of patients with a given modality in the collection\n",
        "# For ACNS0332 the 3D segmentations are SEG modality. \n",
        "# RTSTRUCT was used to record seed points and scans where no tumor was found.\n",
        "\n",
        "# get list of available body parts examined\n",
        "data_url = adv_url + \"getModalityValuesAndCounts?Collection=\" + collection\n",
        "data = requests.get(data_url, headers = api_call_headers)\n",
        "\n",
        "# count unique patients for each modality\n",
        "if data.text != \"\":\n",
        "    df = pd.DataFrame(data.json())\n",
        "    df.rename(columns = {'criteria':'Modality', 'count':'PatientCount'}, inplace = True)\n",
        "    df.PatientCount = df.PatientCount.astype(int)\n",
        "    display(df.sort_values(by='PatientCount', ascending=False))\n",
        "else:\n",
        "    print(\"Collection not found.\")"
      ],
      "metadata": {
        "id": "F6SCRbynPrZV"
      },
      "execution_count": null,
      "outputs": []
    },
    {
      "cell_type": "code",
      "source": [
        "# Count the number of patients with a given body part examined in the collection\n",
        "\n",
        "# get list of available body parts examined\n",
        "data_url = adv_url + \"getBodyPartValuesAndCounts?Collection=\" + collection\n",
        "data = requests.get(data_url, headers = api_call_headers)\n",
        "\n",
        "# count unique patients for each modality\n",
        "if data.text != \"\":\n",
        "    df = pd.DataFrame(data.json())\n",
        "    df.rename(columns = {'criteria':'BodyPartExamined', 'count':'PatientCount'}, inplace = True)\n",
        "    df.PatientCount = df.PatientCount.astype(int)\n",
        "    display(df.sort_values(by='PatientCount', ascending=False))\n",
        "else:\n",
        "    print(\"Collection not found.\")"
      ],
      "metadata": {
        "id": "JXH-W2ygB3P9"
      },
      "execution_count": null,
      "outputs": []
    },
    {
      "cell_type": "markdown",
      "source": [
        "Now let's run some queries to see what we can learn about the patient cohort from the DICOM metadata.  This information can include things like age, gender, and ethnicity.  However, in the case of ACNS0332, most of this information is also available in the clinical data at https://nctn-data-archive.nci.nih.gov/node/838."
      ],
      "metadata": {
        "id": "W_qx6ufbkGql"
      }
    },
    {
      "cell_type": "code",
      "source": [
        "# obtain patient details (e.g. species, gender, ethnicity) for the collection \n",
        "# as JSON and create pandas dataframe w/ optional file export\n",
        "\n",
        "data_url = base_url + \"getPatient?Collection=\" + collection\n",
        "data = requests.get(data_url, headers = api_call_headers)\n",
        "if data.text != \"\":\n",
        "    df = pd.DataFrame(data.json())\n",
        "    display(df)\n",
        "    # optional - to save to JSON or CSV file\n",
        "    df.to_csv(collection + '_patient_metadata.csv')\n",
        "    # df.to_json(collection + '_patient_metadata.json')\n",
        "else:\n",
        "    print(\"Collection not found.\")"
      ],
      "metadata": {
        "id": "jHk_1s3cJ4KI"
      },
      "execution_count": null,
      "outputs": []
    },
    {
      "cell_type": "code",
      "source": [
        "# obtain study/visit details (e.g. anonymized study date, age at the time of visit) for \n",
        "# each patient in a given collection as JSON and create pandas dataframe w/ optional file export\n",
        "\n",
        "data_url = base_url + \"getPatientStudy?Collection=\" + collection\n",
        "data = requests.get(data_url, headers = api_call_headers)\n",
        "if data.text != \"\":\n",
        "    df = pd.DataFrame(data.json()).sort_values(by=['PatientID','StudyDate'])\n",
        "    display(df)\n",
        "    # optional - to save to JSON or CSV file\n",
        "    df.to_csv(collection + '_study_metadata.csv')\n",
        "    # df.to_json(collection + '_study_metadata.json')\n",
        "else:\n",
        "    print(\"Collection not found.\")"
      ],
      "metadata": {
        "id": "rQKeGsmxMTW_"
      },
      "execution_count": null,
      "outputs": []
    },
    {
      "cell_type": "markdown",
      "source": [
        "We can also create a report that gives useful metadata about each scan in the dataset (e.g. series description, modality, scanner manufacturer & software version, number of images).  \n",
        "\n",
        "***Note:*** We'll define a function for this so it can be used later in the notebook."
      ],
      "metadata": {
        "id": "3DsmSgvZlYEb"
      }
    },
    {
      "cell_type": "code",
      "source": [
        "# obtain scan/series metadata for a collection as JSON\n",
        "\n",
        "def getSeries(collection):\n",
        "    data_url = base_url + \"getSeries?Collection=\" + collection\n",
        "    data = requests.get(data_url, headers = api_call_headers)\n",
        "    if data.text != \"\":\n",
        "        df = pd.DataFrame(data.json()).sort_values(by=['PatientID','SeriesDate'])\n",
        "        # optional - save to CSV file\n",
        "        df.to_csv(collection + '_scan_metadata.csv')\n",
        "        return df\n",
        "    else:\n",
        "        print(\"Collection not found.\")\n",
        "\n",
        "df = getSeries(collection)\n",
        "display(df)"
      ],
      "metadata": {
        "id": "EUsiN5N60Cai"
      },
      "execution_count": null,
      "outputs": []
    },
    {
      "cell_type": "markdown",
      "source": [
        "Finally, we can use that scan report dataframe to generate some helpful summary statistics about the Collection."
      ],
      "metadata": {
        "id": "f5Mm6Tf-IpcP"
      }
    },
    {
      "cell_type": "code",
      "source": [
        "# Calculate summary statistics for a given collection \n",
        "\n",
        "# Summarize patients\n",
        "print('Summary Statistics for', collection,'\\n')\n",
        "print('Subjects: ', len(df['PatientID'].value_counts()), 'subjects')\n",
        "print('Subjects: ', len(df['StudyInstanceUID'].value_counts()), 'studies')\n",
        "print('Subjects: ', len(df['SeriesInstanceUID'].value_counts()), 'series')\n",
        "print('Images: ', df['ImageCount'].sum(), 'images\\n')\n",
        "\n",
        "# Summarize modalities\n",
        "print(\"Series Counts - Modality:\")\n",
        "print(df['Modality'].value_counts(dropna=False),'\\n')\n",
        "\n",
        "# Summarize body parts\n",
        "print(\"Series Counts - Body Parts Examined:\")\n",
        "print(df['BodyPartExamined'].value_counts(dropna=False),'\\n')\n",
        "\n",
        "# Summarize manufacturers\n",
        "print(\"Series Counts - Device Manufacturers:\")\n",
        "print(df['Manufacturer'].value_counts(dropna=False))"
      ],
      "metadata": {
        "id": "DmBIApWdz_2W"
      },
      "execution_count": null,
      "outputs": []
    },
    {
      "cell_type": "markdown",
      "source": [
        "### 4.3 Downloading data with the REST API\n",
        "Now we'll walk through using the API to download data.  This can be useful if you'd like to download specific scans from previous API queries rather than using an existing manifest file or if you can't install the NBIA Data Retriever.  \n",
        "\n",
        "As a reminder, many of the scans in the ACNS0332 Collection were not annotated by the authors of https://doi.org/10.7937/D8A8-6252.  The reasons for this are outlined in the Annotation Protocol on that page.  As a result, you may wish to download only a subset of the scans such as:\n",
        "\n",
        "1. Seed points\n",
        "2. 3d segmentations\n",
        "3. All MRI images used to create either seed points or segmentations\n",
        "4. Only MRI images used to create to seed points\n",
        "5. Only MRI images used to create segmentations\n",
        "6. Only MRI images with negative finding assessments\n",
        "\n",
        "The following examples will demonstrate how to download the full collection as well as how to tackle each of these specialized use cases.  \n",
        "\n",
        "***Note: By default only the first 3 scans for each use case below will be downloaded for demonstration purposes. If you'd like to download the full collection you must comment out the relevant lines.***"
      ],
      "metadata": {
        "id": "oLIs83GT7tvp"
      }
    },
    {
      "cell_type": "code",
      "source": [
        "# download imports\n",
        "import requests, zipfile\n",
        "from io import BytesIO"
      ],
      "metadata": {
        "id": "frMk7ZBtgV2T"
      },
      "execution_count": null,
      "outputs": []
    },
    {
      "cell_type": "markdown",
      "source": [
        "First, let's define a generic download function that we can re-use for the various use cases.  This will take a list of series UIDs as the input, download each scan, and create a dataframe/CSV that contains the metadata about each of those scans.  It also accepts an optional parameter to specify a file name if you'd like a CSV export of the dataframe."
      ],
      "metadata": {
        "id": "Y5H23z-Djep_"
      }
    },
    {
      "cell_type": "code",
      "source": [
        "# define a function to accept a list of seriesInstanceUIDs and download it\n",
        "# reminder: this only downloads the first 3 scans unless you comment out that section\n",
        "\n",
        "def downloadSeries(series_data, csv_filename=\"\"):  \n",
        "    manifestDF=pd.DataFrame()\n",
        "    seriesUID = ''\n",
        "    count = 0\n",
        "    for x in series_data:\n",
        "        seriesUID = x\n",
        "        data_url = base_url + \"getImage?SeriesInstanceUID=\" + seriesUID\n",
        "        print(\"Downloading \" + data_url)\n",
        "        data = requests.get(data_url, headers = api_call_headers)\n",
        "        file = zipfile.ZipFile(BytesIO(data.content))\n",
        "        # print(file.namelist())\n",
        "        file.extractall(path = \"apiDownload/\" + collection + \"/\" + seriesUID)\n",
        "        # write the series metadata to a dataframe\n",
        "        metadata_url = base_url + \"getSeriesMetaData?SeriesInstanceUID=\" + seriesUID\n",
        "        metadata = requests.get(metadata_url, headers = api_call_headers).json()\n",
        "        newRow = pd.DataFrame.from_dict(metadata)\n",
        "        tmpManifest = pd.concat([manifestDF, newRow], ignore_index = True)\n",
        "        tmpManifest.reset_index()\n",
        "        manifestDF = tmpManifest\n",
        "        # Repeat n times for demo purposes - comment out these next 3 lines to download a full results\n",
        "        count += 1;\n",
        "        if count == 3:\n",
        "            break  \n",
        "    # display manifest dataframe and/or save manifest to CSV file\n",
        "    if csv_filename != \"\":\n",
        "        manifestDF.to_csv(csv_filename + '.csv')\n",
        "        display(manifestDF)\n",
        "    else:\n",
        "        display(manifestDF)"
      ],
      "metadata": {
        "id": "9J-Ne4q8jdyy"
      },
      "execution_count": null,
      "outputs": []
    },
    {
      "cell_type": "markdown",
      "source": [
        "The most basic use case would be to simply download the entire Collection.  This will provide all of the annotation data (seed points, segmentations, negative finding reports) as well as all of the original scans in the ACNS0332 collection.  Make sure you have enough disk space (~95 GBytes) if you comment out the code that limits the download to the first 3 scans!  The following code will also save important metadata about the scans into a Pandas dataframe and CSV file.  "
      ],
      "metadata": {
        "id": "LHbh-qSHDhs3"
      }
    },
    {
      "cell_type": "code",
      "source": [
        "# call getSeries function to retrieve scan metadata for the whole collection\n",
        "df = getSeries(collection)\n",
        "\n",
        "# extract the SeriesInstanceUID column\n",
        "series_data = list(df['SeriesInstanceUID'])\n",
        "\n",
        "# feed series_data to our downloadSeries function\n",
        "downloadSeries(series_data, collection + \"_full_Collection\")"
      ],
      "metadata": {
        "id": "3U3a1RMdHUpq"
      },
      "execution_count": null,
      "outputs": []
    },
    {
      "cell_type": "markdown",
      "source": [
        "To identify the subsets for the other use cases we'll leverage the supplemental spreadsheet the authors provided, which you can download directly from https://doi.org/10.7937/D8A8-6252 or retrieve with ***wget*** using the command below."
      ],
      "metadata": {
        "id": "bTCcpXplCJh2"
      }
    },
    {
      "cell_type": "code",
      "source": [
        "# wget ACNS0332 annotation metadata file\n",
        "\n",
        "!wget -O /content/ACNS0332_annotations_metadata-2022-09-22.csv https://wiki.cancerimagingarchive.net/download/attachments/119703167/ACNS0332_annotations_metadata-2022-09-22.csv?api=v2"
      ],
      "metadata": {
        "id": "zUAmewanHS-a"
      },
      "execution_count": null,
      "outputs": []
    },
    {
      "cell_type": "markdown",
      "source": [
        "Let's take a look at the contents of the spreadsheet using a Pandas dataframe.  "
      ],
      "metadata": {
        "id": "bBux7D-slGFz"
      }
    },
    {
      "cell_type": "code",
      "source": [
        "# load annotation metadata spreadsheet to df\n",
        "\n",
        "annotation_Metadata = pd.read_csv('ACNS0332_annotations_metadata-2022-09-22.csv')\n",
        "\n",
        "display(annotation_Metadata)"
      ],
      "metadata": {
        "id": "dFyGPStsLgeL"
      },
      "execution_count": null,
      "outputs": []
    },
    {
      "cell_type": "markdown",
      "source": [
        "The following cells will let you build a list of Series Instance UIDs to download based on the previously mentioned use cases."
      ],
      "metadata": {
        "id": "wO3hIwOVmxkF"
      }
    },
    {
      "cell_type": "code",
      "source": [
        "# Use case: Download seed point RTSTRUCTs\n",
        "\n",
        "# filter dataframe to only include seed point rows\n",
        "seedPoints = annotation_Metadata[annotation_Metadata['StructureSetLabel'] == 'Seed Points']\n",
        "#display(seedPoints)\n",
        "\n",
        "# extract series UID column to list for downloading\n",
        "series_data = seedPoints[\"SeriesInstanceUID\"].tolist()\n",
        "\n",
        "# feed series_data to our downloadSeries function\n",
        "downloadSeries(series_data, collection + \"_seedPoints\")"
      ],
      "metadata": {
        "id": "QjEXYvGinWlu"
      },
      "execution_count": null,
      "outputs": []
    },
    {
      "cell_type": "code",
      "source": [
        "# Use case: Download 3d segmentations\n",
        "\n",
        "# filter dataframe to only include segmentations\n",
        "segs = annotation_Metadata[annotation_Metadata['DICOM Type'] == 'SEG']\n",
        "# display(segs)\n",
        "\n",
        "# extract series UID column to list for downloading\n",
        "series_data = segs[\"SeriesInstanceUID\"].tolist()\n",
        "\n",
        "# feed series_data to our downloadSeries function\n",
        "downloadSeries(series_data, collection + \"_segs\")"
      ],
      "metadata": {
        "id": "2v8TAvsIndS5"
      },
      "execution_count": null,
      "outputs": []
    },
    {
      "cell_type": "markdown",
      "source": [
        "The following cells will download the corresponding MRIs that were annotated.  ***There is significant overlap in the MRIs used between these two sets, so if you're doing full downloads you should only utilize one of the 3 cells below depending on your use case:***\n",
        "1. All MRIs used for both segmentations ***and*** seedpoints\n",
        "2. Only MRIs used for segmentations\n",
        "3. Only MRIs used for seed points"
      ],
      "metadata": {
        "id": "83yGuURz-qKk"
      }
    },
    {
      "cell_type": "code",
      "source": [
        "# Use case: Download all MRIs for segmentations AND seed points\n",
        "\n",
        "# filter dataframe to only include seg and seed point rows (remove \"no findings\")\n",
        "ref_Series = annotation_Metadata[(annotation_Metadata['StructureSetLabel'] == 'Seed Points') |\n",
        "                                 (annotation_Metadata['DICOM Type'] == 'SEG')]\n",
        "\n",
        "# remove duplicate ReferencedSeriesUIDs\n",
        "clean_refSeries = ref_Series.drop_duplicates(subset='ReferencedSeriesInstanceUID')\n",
        "# display(clean_refSeries)\n",
        "\n",
        "# extract series UID column to list for downloading\n",
        "series_data = clean_refSeries[\"ReferencedSeriesInstanceUID\"].tolist()\n",
        "\n",
        "# feed series_data to our downloadSeries function\n",
        "downloadSeries(series_data, collection + \"_seg_seed_MRIs\")"
      ],
      "metadata": {
        "id": "1xkU4f7LGEyy"
      },
      "execution_count": null,
      "outputs": []
    },
    {
      "cell_type": "code",
      "source": [
        "# Use case: Download only MRI images used to create seed points\n",
        "# ONLY USE THIS OPTION IF YOU DO NOT WANT THE ADDITIONAL \n",
        "# MRI SCANS FOR SEGMENTATIONS \n",
        "\n",
        "# filter dataframe to only include seed point rows\n",
        "ref_Series = annotation_Metadata[annotation_Metadata['StructureSetLabel'] == 'Seed Points']\n",
        "# display(ref_Series)\n",
        "\n",
        "# remove duplicate ReferencedSeriesUIDs\n",
        "clean_refSeries = ref_Series.drop_duplicates(subset='ReferencedSeriesInstanceUID')\n",
        "# display(clean_refSeries)\n",
        "\n",
        "# extract series UID column to list for downloading\n",
        "series_data = clean_refSeries[\"ReferencedSeriesInstanceUID\"].tolist()\n",
        "\n",
        "# feed series_data to our downloadSeries function\n",
        "downloadSeries(series_data, collection + \"_seed_MRIs\")"
      ],
      "metadata": {
        "id": "6PTND63YnI8T"
      },
      "execution_count": null,
      "outputs": []
    },
    {
      "cell_type": "code",
      "source": [
        "# Use case: Download only MRI images used to create 3D segmentations\n",
        "# ONLY USE THIS OPTION IF YOU DO NOT WANT THE ADDITIONAL \n",
        "# MRI SCANS USED FOR SEED POINTS \n",
        "\n",
        "# filter dataframe to only include seg\n",
        "ref_Series = annotation_Metadata[annotation_Metadata['DICOM Type'] == 'SEG']\n",
        "# display(ref_Series)\n",
        "\n",
        "# remove duplicate ReferencedSeriesUIDs\n",
        "clean_refSeries = ref_Series.drop_duplicates(subset='ReferencedSeriesInstanceUID')\n",
        "# display(clean_refSeries)\n",
        "\n",
        "# extract series UID column to list for downloading\n",
        "series_data = clean_refSeries[\"ReferencedSeriesInstanceUID\"].tolist()\n",
        "\n",
        "# feed series_data to our downloadSeries function\n",
        "downloadSeries(series_data, collection + \"_seg_MRIs\")"
      ],
      "metadata": {
        "id": "TTc8xngVnS7i"
      },
      "execution_count": null,
      "outputs": []
    },
    {
      "cell_type": "markdown",
      "source": [
        "The following code will download the MRI scans for images with negative finding assessments.  These are cases where the authors of the dataset did not find anything that could be annotated.  Downloading these scans could be useful if you are training a tumor/metastases detection model."
      ],
      "metadata": {
        "id": "sBKxqkISxBa-"
      }
    },
    {
      "cell_type": "code",
      "source": [
        "# Use case: Download only images with negative finding assessments\n",
        "# ONLY USE THIS OPTION IF YOU WANT TO REVIEW THE ADDITIONAL \n",
        "# MRI SCANS WHERE THE AUTHORS INDICATED THERE WAS NOTHING TO ANNOTATE \n",
        "\n",
        "# filter dataframe to only include MRIs with \"no findings\"\n",
        "ref_Series = annotation_Metadata[annotation_Metadata['StructureSetLabel'] == 'No Findings']\n",
        "\n",
        "# remove duplicate ReferencedSeriesUIDs\n",
        "clean_refSeries = ref_Series.drop_duplicates(subset='ReferencedSeriesInstanceUID')\n",
        "\n",
        "# extract series UID column to list for downloading\n",
        "series_data = clean_refSeries[\"ReferencedSeriesInstanceUID\"].tolist()\n",
        "\n",
        "# feed series_data to our downloadSeries function\n",
        "downloadSeries(series_data, collection + \"_noFinding_MRIs\")"
      ],
      "metadata": {
        "id": "zNR1Op_RnhOS"
      },
      "execution_count": null,
      "outputs": []
    },
    {
      "cell_type": "code",
      "source": [
        "# TROUBLESHOOTING ONLY - CAN DELETE IN FINAL COPY\n",
        "# calculate diff between MRI UIDs for seed/seg to see if there is any\n",
        "\n",
        "# filter dataframe to only include no findings rows\n",
        "noFindings = annotation_Metadata[annotation_Metadata['StructureSetLabel'] == 'No Findings']\n",
        "#display(noFindings)\n",
        "print(len(noFindings))\n",
        "\n",
        "# remove duplicates\n",
        "clean_noFindings = noFindings.drop_duplicates(subset='ReferencedSeriesInstanceUID')\n",
        "#display(clean_noFindings)\n",
        "print(len(clean_noFindings))\n",
        "\n",
        "# extract no findings ref series UID column\n",
        "noFinding_refSeries = clean_noFindings[\"ReferencedSeriesInstanceUID\"].tolist()\n",
        "#print(len(seedPoint_refSeries))\n",
        "#print(seedPoint_refSeries)\n",
        "\n",
        "# filter dataframe to only include seed point rows\n",
        "seedPoints = annotation_Metadata[annotation_Metadata['StructureSetLabel'] == 'Seed Points']\n",
        "#display(seedPoints)\n",
        "print(len(seedPoints))\n",
        "\n",
        "# remove duplicates\n",
        "clean_seedPoints = seedPoints.drop_duplicates(subset='ReferencedSeriesInstanceUID')\n",
        "#display(clean_seedPoints)\n",
        "print(len(clean_seedPoints))\n",
        "\n",
        "# extract seed point ref series UID column\n",
        "seedPoint_refSeries = clean_seedPoints[\"ReferencedSeriesInstanceUID\"].tolist()\n",
        "#print(len(seedPoint_refSeries))\n",
        "#print(seedPoint_refSeries)\n",
        "\n",
        "# filter dataframe to only include seg rows\n",
        "segs = annotation_Metadata[annotation_Metadata['DICOM Type'] == 'SEG']\n",
        "#display(segs)\n",
        "print(len(segs))\n",
        "\n",
        "# remove duplicates\n",
        "clean_segs = segs.drop_duplicates(subset='ReferencedSeriesInstanceUID')\n",
        "#display(clean_segs)\n",
        "print(len(clean_segs))\n",
        "\n",
        "# extract seg ref series UID column\n",
        "seg_refSeries = clean_segs[\"ReferencedSeriesInstanceUID\"].tolist()\n",
        "#print(len(seg_refSeries))\n",
        "#print(seg_refSeries)\n",
        "\n",
        "# compare ref series UID columns for seed vs seg\n",
        "diff = []\n",
        "for element in seedPoint_refSeries:\n",
        "    if element not in seg_refSeries:\n",
        "        diff.append(element)\n",
        "print('List seed point reference UIDs that are not in the segmentation list')\n",
        "print(len(diff))\n",
        "print(diff)\n",
        "\n",
        "# compare ref series UID columns for seg vs seed\n",
        "diff = []\n",
        "for element in seg_refSeries:\n",
        "    if element not in seedPoint_refSeries:\n",
        "        diff.append(element)\n",
        "print('List segmentation reference UIDs that are not in the seed point list')\n",
        "print(len(diff))\n",
        "print(diff)\n",
        "\n",
        "# compare ref series UID columns for no finding vs seg\n",
        "diff = []\n",
        "for element in seg_refSeries:\n",
        "    if element not in noFinding_refSeries:\n",
        "        diff.append(element)\n",
        "print(len(diff))\n",
        "print(diff)\n",
        "\n",
        "# compare ref series UID columns for no finding vs seed\n",
        "diff = []\n",
        "for element in seedPoint_refSeries:\n",
        "    if element not in noFinding_refSeries:\n",
        "        diff.append(element)\n",
        "print(len(diff))\n",
        "print(diff)"
      ],
      "metadata": {
        "id": "c95PMfPWtqym"
      },
      "execution_count": null,
      "outputs": []
    },
    {
      "cell_type": "markdown",
      "source": [
        "# Acknowledgements\n",
        "[The Cancer Imaging Archive (TCIA)](https://www.cancerimagingarchive.net/) is a service which de-identifies and hosts a large publicly available archive of medical images of cancer.  TCIA is funded by the [Cancer Imaging Program (CIP)](https://imaging.cancer.gov/), a part of the United States [National Cancer Institute (NCI)](https://www.cancer.gov/), and is managed by the [Frederick National Laboratory for Cancer Research (FNLCR)](https://frederick.cancer.gov/).\n",
        "\n",
        "This notebook was created by [Justin Kirby](https://www.linkedin.com/in/justinkirby82/), [Petr Jordan](https://www.linkedin.com/in/petrjordan/) and Qinyan Pan.  If you leverage the ACNS0332 or any other TCIA datasets in your work please be sure to comply with the [TCIA Data Usage Policy](https://wiki.cancerimagingarchive.net/x/c4hF). Upon receiving access, you must also abide by the terms of your NCTN/NCORP Data Archive’s Data Use Agreement (DUA). You are not allowed to redistribute the data or use it for other purposes. Attribution should include references to the following citations:\n",
        "\n",
        "## Data Citations\n",
        "\n",
        "1. Hwang, E. I., Kool, M., Burger, P. C., Capper, D., Chavez, L., Brabetz, S., Williams-Hughes, C., Billups, C., Heier, L., Jaju, A., Michalski, J., Li, Y., Leary, S., Zhou, T., von Deimling, A., Jones, D. T. W., Fouladi, M., Pollack, I. F., Gajjar, A., … Olson, J. M. (2021). Chemotherapy and Radiation Therapy in Treating Young Patients With Newly Diagnosed, Previously Untreated, High-Risk Medulloblastoma/PNET (ACNS0332) [Data set]. The Cancer Imaging Archive. https://doi.org/10.7937/TCIA.582B-XZ89\n",
        "2. Rozenfeld, M., & Jordan, P. (2022). Annotations for Chemotherapy and Radiation Therapy in Treating Young Patients With Newly Diagnosed, Previously Untreated, High-Risk Medulloblastoma/PNET (ACNS0332-Tumor-Annotations) (Version 1) [Data set]. The Cancer Imaging Archive. https://doi.org/10.7937/D8A8-6252\n",
        "\n",
        "## Publication Citation\n",
        "\n",
        "Hwang, E. I., Kool, M., Burger, P. C., Capper, D., Chavez, L., Brabetz, S., Williams-Hughes, C., Billups, C., Heier, L., Jaju, A., Michalski, J., Li, Y., Leary, S., Zhou, T., von Deimling, A., Jones, D. T. W., Fouladi, M., Pollack, I. F., Gajjar, A., … Olson, J. M. (2018). Extensive Molecular and Clinical Heterogeneity in Patients With Histologically Diagnosed CNS-PNET Treated as a Single Entity: A Report From the Children’s Oncology Group Randomized ACNS0332 Trial. Journal of Clinical Oncology, 36(34), 3388–3395. https://doi.org/10.1200/jco.2017.76.4720. Epub ahead of print. PMID: 30332335.\n",
        "\n",
        "## TCIA Citation\n",
        "\n",
        "Clark, K., Vendt, B., Smith, K., Freymann, J., Kirby, J., Koppel, P., Moore, S., Phillips, S., Maffitt, D., Pringle, M., Tarbox, L., & Prior, F. (2013). The Cancer Imaging Archive (TCIA): Maintaining and Operating a Public Information Repository. Journal of Digital Imaging, 26(6), 1045–1057. https://doi.org/10.1007/s10278-013-9622-7"
      ],
      "metadata": {
        "id": "DCOM4lO4_tET"
      }
    }
  ]
}