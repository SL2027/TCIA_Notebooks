{
  "nbformat": 4,
  "nbformat_minor": 0,
  "metadata": {
    "colab": {
      "provenance": [],
      "toc_visible": true,
      "include_colab_link": true
    },
    "kernelspec": {
      "name": "python3",
      "display_name": "Python 3"
    },
    "language_info": {
      "name": "python"
    }
  },
  "cells": [
    {
      "cell_type": "markdown",
      "metadata": {
        "id": "view-in-github",
        "colab_type": "text"
      },
      "source": [
        "<a href=\"https://colab.research.google.com/github/kirbyju/TCIA_Notebooks/blob/main/TCIA_REST_API_Downloads.ipynb\" target=\"_parent\"><img src=\"https://colab.research.google.com/assets/colab-badge.svg\" alt=\"Open In Colab\"/></a>"
      ]
    },
    {
      "cell_type": "markdown",
      "source": [
        "# Summary\n",
        "\n",
        "Access to large, high quality data is essential for researchers to understand disease and precision medicine pathways, especially in cancer. However HIPAA constraints make sharing medical images outside an individual institution a complex process. [The Cancer Imaging Archive (TCIA)](https://www.cancerimagingarchive.net/) is a public service funded by the National Cancer Institute which addresses this challenge by providing hosting and de-identification services to take major burdens of data sharing off researchers. \n",
        "\n",
        "**This notebook is focused on basic use cases for leveraging TCIA's REST APIs to query and download data.**  If you're interested in additional TCIA notebooks and coding examples check out https://github.com/kirbyju/TCIA_Notebooks. "
      ],
      "metadata": {
        "id": "KmXfYFZtja2F"
      }
    },
    {
      "cell_type": "markdown",
      "source": [
        "# 1 Learn about available Collections on the TCIA website\n",
        "\n",
        "[Browsing Collections](https://www.cancerimagingarchive.net/collections) and [Analysis Results](https://www.cancerimagingarchive.net/tcia-analysis-results/) datasets on TCIA are the easiest ways to become familiar with what is available.  These pages will help you quickly identify datasets of interest, find valuable supporting data that are not available via our APIs (e.g. clinical spreadsheets, non-DICOM segmentation data), and answer most common questions you might have about the datasets.  "
      ],
      "metadata": {
        "id": "AruUGe3lmjkh"
      }
    },
    {
      "cell_type": "markdown",
      "metadata": {
        "id": "SmeqJoR5k9z0"
      },
      "source": [
        "# 2 REST API Overview \n",
        "TCIA uses software called NBIA to manage DICOM data.  The NBIA REST APIs include:\n",
        "1. [NBIA Search REST APIs](https://wiki.cancerimagingarchive.net/x/fILTB) that allow you to perform basic queries and download data from **public** collections. This API does not require a TCIA account.\n",
        "2. [NBIA Search with Authentication REST APIs](https://wiki.cancerimagingarchive.net/x/X4ATBg) that allow you to perform basic queries and download data from **public and limited-access** collections. This API requires a TCIA account for creation of authentication tokens.\n",
        "3. [NBIA Advanced REST APIs](https://wiki.cancerimagingarchive.net/x/YoATBg) that allow access to **public and limited-access** collections, but provide query endpoints mostly geared towards developers seeking to integrate searching and downloading TCIA data into web and desktop applications.  This API requires a TCIA account for creation of authentication tokens.\n",
        "\n",
        "**This notebook will focus on the NBIA Search REST APIs (not the Advanced API).**  "
      ]
    },
    {
      "cell_type": "markdown",
      "source": [
        "# 3 Import tcia_utils\n",
        "\n",
        "The following cells import [**tcia_utils**](https://github.com/kirbyju/TCIA_Notebooks/raw/main/tcia_utils.py) which contain a variety of useful functions for accessing TCIA via Jupyter/Python. It includes two functions for downloading data. These are **downloadSampleSeries()** and **downloadSeries()**. The only difference between them is that **downloadSampleSeries()** only grabs the first 3 scans in the list of scans to download, which is useful for demonstration and testing purposes.\n",
        "\n",
        "Both functions ingest a set of series UIDs to download.  By default, they expect JSON data containing \"SeriesInstanceUID\" elements which can be generated using **getSeries()** in **tcia_utils**.  However, if you have a series UID list from some other source you can set **input_type = \"list\"** to pass a python list of series UIDs instead of JSON. \n",
        "\n",
        "The **api_url** parameter can be omitted in most cases.  However, it must be set to **api_url = \"nlst\"** to access the [National Lung Screening Trial (NLST)](https://doi.org/10.7937/TCIA.HMQ8-J677) collection and you must use **api_url = \"restricted\"** for datasets that require logging in.  To download restricted data you must first use **getToken()** to create an API token with your username and password.\n",
        "\n",
        "In addition to downloading the data, these functions return a dataframe of the series metadata describing the data that were downloaded.  You can optionally export a CSV of the series metadata by specifying the **csv_filename** parameter."
      ],
      "metadata": {
        "id": "bqulqBEDMSS6"
      }
    },
    {
      "cell_type": "code",
      "source": [
        "# imports\n",
        "import requests\n",
        "import pandas as pd\n",
        "\n",
        "# download tcia_utils\n",
        "tcia_utils_text = requests.get(\"https://github.com/kirbyju/TCIA_Notebooks/raw/main/tcia_utils.py\")\n",
        "with open('tcia_utils.py', 'wb') as f:\n",
        "    f.write(tcia_utils_text.content)"
      ],
      "metadata": {
        "id": "p3zEqnxi9rk2"
      },
      "execution_count": null,
      "outputs": []
    },
    {
      "cell_type": "code",
      "source": [
        "import tcia_utils as tcia"
      ],
      "metadata": {
        "id": "zP4VRfgg-QXU"
      },
      "execution_count": null,
      "outputs": []
    },
    {
      "cell_type": "markdown",
      "source": [
        "# 4 Download Examples\n",
        "\n",
        "In this section we'll cover downloading data via the REST API for the following use cases:\n",
        "\n",
        "1.   Download a full TCIA collection\n",
        "2.   Download custom results of an API query\n",
        "3.   Download a \"[Shared Cart](https://wiki.cancerimagingarchive.net/display/NBIA/TCIA+Radiology+Portal+User+Guide#TCIARadiologyPortalUserGuide-SharingDatainYourCart)\" that was created via https://nbia.cancerimagingarchive.net/\n",
        "4.   Download data from a TCIA manifest file\n",
        "5.   Download data from a **restricted** collection that requires creating an API token"
      ],
      "metadata": {
        "id": "iao1mstCf8Vl"
      }
    },
    {
      "cell_type": "markdown",
      "source": [
        "## 4.1 Download a full collection\n",
        "\n",
        "You can [Browse Collections](https://www.cancerimagingarchive.net/collections) on our website to figure out what you might want to download, but you can also get a list of available collections via the API as shown below."
      ],
      "metadata": {
        "id": "fwj_OZjphcWP"
      }
    },
    {
      "cell_type": "code",
      "source": [
        "# get list of available collections as JSON\n",
        "tcia.getCollections()\n"
      ],
      "metadata": {
        "id": "II1o1709zq1d"
      },
      "execution_count": null,
      "outputs": []
    },
    {
      "cell_type": "markdown",
      "source": [
        "Let's say that we're interested in downloading the entire **Soft-tissue-Sarcoma** collection.  First we need to get a list of all Series Instance UIDs in that collection.  We can use **tcia.getSeries()** to return JSON metadata about all series (scans) in this collection."
      ],
      "metadata": {
        "id": "Jbmm5DIU4Exy"
      }
    },
    {
      "cell_type": "code",
      "source": [
        "tcia.getSeries(collection = \"Soft-tissue-Sarcoma\")"
      ],
      "metadata": {
        "id": "eVnVh_yv7Av3"
      },
      "execution_count": null,
      "outputs": []
    },
    {
      "cell_type": "markdown",
      "source": [
        "If we save the JSON that is returned to a variable we can pass that to the our download functions and view/save the metadata for what was downloaded."
      ],
      "metadata": {
        "id": "wfkCWxiK8nQz"
      }
    },
    {
      "cell_type": "code",
      "source": [
        "# save output of getSeries()\n",
        "data = tcia.getSeries(collection = \"Soft-tissue-Sarcoma\")\n",
        "\n",
        "# feed data to our downloadSampleSeries function\n",
        "df = tcia.downloadSampleSeries(data)\n",
        "display(df)\n",
        "\n",
        "# Or download the full results using downloadSeries...\n",
        "#df = tcia.downloadSeries(data, csv_filename = \"Soft-tissue-Sarcoma\")\n",
        "#display(df)"
      ],
      "metadata": {
        "id": "2XVUkw5vgMZX"
      },
      "execution_count": null,
      "outputs": []
    },
    {
      "cell_type": "markdown",
      "source": [
        "## 4.2 Download custom API query\n",
        "The REST API allows for a variety of different query options as demonstrated in [this notebook](https://github.com/kirbyju/TCIA_Notebooks/blob/main/TCIA_REST_API_Queries_for_Public_Datasets.ipynb).  For this use case, let's assume that you are only interested in the MR scans from the [TCGA-BRCA](https://doi.org/10.7937/K9/TCIA.2016.AB2NAZRP) collection that were acquired on Siemens scanners."
      ],
      "metadata": {
        "id": "i7Pw0jvy4HO8"
      }
    },
    {
      "cell_type": "code",
      "source": [
        "# getSeries with query parameters\n",
        "data = tcia.getSeries(collection = \"TCGA-BRCA\", \n",
        "               modality = \"MR\", \n",
        "               manufacturer = \"SIEMENS\")\n",
        "\n",
        "print(len(data), 'Series returned')"
      ],
      "metadata": {
        "id": "6Y-uSUCBE_bJ"
      },
      "execution_count": null,
      "outputs": []
    },
    {
      "cell_type": "markdown",
      "source": [
        "Once again, let's pass those Series Instance UIDs to our download functions."
      ],
      "metadata": {
        "id": "mzDBsCavGuHR"
      }
    },
    {
      "cell_type": "code",
      "source": [
        "# feed series_data to our downloadSampleSeries function\n",
        "df = tcia.downloadSampleSeries(data)\n",
        "display(df)\n",
        "\n",
        "# Or download the full results using downloadSeries...\n",
        "#df = tcia.downloadSeries(data, csv_filename = \"TCGA-BRCA_Siemens_MRIs\")\n",
        "#display(df)"
      ],
      "metadata": {
        "id": "d5TAEkFmVtgg"
      },
      "execution_count": null,
      "outputs": []
    },
    {
      "cell_type": "markdown",
      "source": [
        "## 4.3 Download custom NLST API query\n",
        "Let's show a similar example where we look for a specific modality and manufacturer within the [National Lung Screening Trial (NLST) Collection](https://doi.org/10.7937/TCIA.HMQ8-J677).  We have to set **api_url = \"nlst\"** in our functions for this to work, but otherwise the steps are the same."
      ],
      "metadata": {
        "id": "JEKzWV7a7Q4M"
      }
    },
    {
      "cell_type": "code",
      "source": [
        "# getSeries with query parameters\n",
        "data = tcia.getSeries(collection = \"NLST\", \n",
        "               modality = \"CT\", \n",
        "               manufacturer = \"Philips\",\n",
        "               api_url = \"nlst\")\n",
        "\n",
        "print(len(data), 'Series returned')"
      ],
      "metadata": {
        "id": "zGlhMzna7wgS"
      },
      "execution_count": null,
      "outputs": []
    },
    {
      "cell_type": "code",
      "source": [
        "# feed series_data to our downloadSampleSeries function\n",
        "df = tcia.downloadSampleSeries(data, api_url = \"nlst\")\n",
        "display(df)\n",
        "\n",
        "# Or download the full results using downloadSeries...\n",
        "#df = tcia.downloadSeries(series_data, api_url = \"nlst\", csv_filename = \"NLST_Philips_CTs\")\n",
        "#display(df)"
      ],
      "metadata": {
        "id": "D58Jjiqp8UVE"
      },
      "execution_count": null,
      "outputs": []
    },
    {
      "cell_type": "markdown",
      "source": [
        "## 4.4 Download a \"shared cart\"\n",
        "It's possible to use https://nbia.cancerimagingarchive.net to create a \"[Shared Cart](https://wiki.cancerimagingarchive.net/display/NBIA/TCIA+Radiology+Portal+User+Guide#TCIARadiologyPortalUserGuide-SharingDatainYourCart)\" which includes a specific set of scans you'd like to share with others. After creating a Shared Cart you receive a URL like https://nbia.cancerimagingarchive.net/nbia-search/?saved-cart=nbia-49121659384603347 which can be shared with others.  Try clicking the link to see what this looks like on the TCIA website.  Then use the code below to see how you can use the cart name to download the related scans via the API."
      ],
      "metadata": {
        "id": "AJw430rwTkJ0"
      }
    },
    {
      "cell_type": "code",
      "source": [
        "# getSharedCart metadata\n",
        "data = tcia.getSharedCart(name = \"nbia-49121659384603347\")\n",
        "print(len(data), 'Series returned')"
      ],
      "metadata": {
        "id": "Wdv62WPyhEg7"
      },
      "execution_count": null,
      "outputs": []
    },
    {
      "cell_type": "code",
      "source": [
        "# feed series_data to our downloadSampleSeries function\n",
        "df = tcia.downloadSampleSeries(data)\n",
        "display(df)\n",
        "\n",
        "# Or download the full results using downloadSeries...\n",
        "#df = tcia.downloadSeries(data, csv_filename = \"my_shared_cart\")\n",
        "#display(df)"
      ],
      "metadata": {
        "id": "LlyJYA-rTlGY"
      },
      "execution_count": null,
      "outputs": []
    },
    {
      "cell_type": "markdown",
      "source": [
        "## 4.4 Download data from a TCIA manifest file\n",
        "\n",
        "When working with manifest files in a notebook you can install the NBIA Data Retriever to open the manifest and download the data as shown in [this notebook](https://github.com/kirbyju/TCIA_Notebooks/blob/main/TCIA_Linux_Data_Retriever_App.ipynb).  However, there may be cases where you don't have administrative rights to install software or prefer using the REST API to download a manifest.  \n",
        "\n",
        "In order to demonstrate this use case, let's assume that after you [Browse Collections](https://www.cancerimagingarchive.net/collections) you decided you are interested in the [RIDER Breast MRI](https://doi.org/10.7937/K9/TCIA.2015.H1SXNUXL) collection.  We can find the URL of the manifest to download the full collection by looking at the blue \"Download\" button on that page.  Then we can download the manifest with the following commands."
      ],
      "metadata": {
        "id": "60vpsOC2S6ff"
      }
    },
    {
      "cell_type": "code",
      "source": [
        "# download manifest file from RIDER Breast MRI page\n",
        "manifest = requests.get(\"https://wiki.cancerimagingarchive.net/download/attachments/22512757/doiJNLP-Fo0H1NtD.tcia?version=1&modificationDate=1534787017928&api=v2\")\n",
        "with open('RIDER_Breast_MRI.tcia', 'wb') as f:\n",
        "    f.write(manifest.content)\n"
      ],
      "metadata": {
        "id": "pAtUWEcSHiO5"
      },
      "execution_count": null,
      "outputs": []
    },
    {
      "cell_type": "markdown",
      "source": [
        "If you open the manifest file in a text editor you'll see that it contains six lines of download parameters that precede a list of Series Instance UIDs.  The code below will put the Series UIDs into a list while ignoring the parameter text."
      ],
      "metadata": {
        "id": "LHbh-qSHDhs3"
      }
    },
    {
      "cell_type": "code",
      "source": [
        "# initialize variable\n",
        "data = []\n",
        "\n",
        "# open file and write lines to a list\n",
        "with open(\"RIDER_Breast_MRI.tcia\") as f:\n",
        "    for line in f:\n",
        "        data.append(line.rstrip())\n",
        "\n",
        "# remove the parameters from the list\n",
        "del data[:6]\n",
        "#print(data)\n",
        "\n",
        "print(\"Result contains\", len(data), \"Series Instance UIDs (scans).\")\n"
      ],
      "metadata": {
        "id": "CYylO0PCWKJ3"
      },
      "execution_count": null,
      "outputs": []
    },
    {
      "cell_type": "markdown",
      "source": [
        "Now we can pass this data to our download functions.  Note that we need to use the **input_type = \"list\"** parameter this time since the series UIDs are a list rather than JSON format."
      ],
      "metadata": {
        "id": "e6nN87uOWKJ3"
      }
    },
    {
      "cell_type": "code",
      "source": [
        "# feed series_data to our downloadSampleSeries function\n",
        "df = tcia.downloadSampleSeries(data, input_type = \"list\")\n",
        "display(df)\n",
        "\n",
        "# Or download the full results using downloadSeries...\n",
        "#df = tcia.downloadSeries(data, input_type = \"list\", csv_filename = \"RIDER_Breast_MRI\")\n",
        "#display(df)"
      ],
      "metadata": {
        "id": "tmx0Ej70WKJ4"
      },
      "execution_count": null,
      "outputs": []
    },
    {
      "cell_type": "markdown",
      "source": [
        "## 4.5 Download data from a restricted collection\n",
        "In some cases, you must specifically request access to collections before you can download them.  These are listed as **limited access** on the [Browse Collections](https://www.cancerimagingarchive.net/collections/) page. The steps to request access may vary depending on the collection, but will always require that you first [create a TCIA user account](https://wiki.cancerimagingarchive.net/x/xgHDAg). Once you've created an account, you can use your login/password to create an API token with the **getToken()** function from **tcia_utils** to verify your permissions. **<font color='red'>Tokens are valid for 2 hours and must be refreshed after that point.</font>**"
      ],
      "metadata": {
        "id": "A3exO0oNHtMY"
      }
    },
    {
      "cell_type": "code",
      "source": [
        "tcia.getToken()"
      ],
      "metadata": {
        "id": "ZzwyJcNYIIsq"
      },
      "execution_count": null,
      "outputs": []
    },
    {
      "cell_type": "markdown",
      "source": [
        "Let's say that we're interested in the [QIN-Breast-02](https://doi.org/10.7937/TCIA.2019.4cfm06rr) collection. As you can see on the collection page, you must email help@cancerimagingarchive.net to request access to the data. Once you've recieved approval we can use **tcia.getSeries()** to get a full list of series UIDs in this restricted collection by including **api_url = \"restricted\"** as a parameter."
      ],
      "metadata": {
        "id": "f1NLNszIIKOS"
      }
    },
    {
      "cell_type": "code",
      "source": [
        "# getSeries with query parameters\n",
        "data = tcia.getSeries(collection = \"QIN-Breast-02\", \n",
        "                      api_url = \"restricted\")\n",
        "\n",
        "print(len(data), 'Series returned')"
      ],
      "metadata": {
        "id": "IAnZc6kdTYRL"
      },
      "execution_count": null,
      "outputs": []
    },
    {
      "cell_type": "markdown",
      "source": [
        "Don't forget to include **api_url = \"restricted\"** in the download functions as well!"
      ],
      "metadata": {
        "id": "vxYch98LmtC0"
      }
    },
    {
      "cell_type": "code",
      "source": [
        "# feed series_data to our downloadSampleSeries function\n",
        "df = tcia.downloadSampleSeries(data, \n",
        "                               api_url = \"restricted\")\n",
        "display(df)\n",
        "\n",
        "# Or download the full results using downloadSeries...\n",
        "#df = tcia.downloadSeries(data, api_url = \"restricted\", csv_filename = \"QIN-Breast-02\")\n",
        "#display(df)\n"
      ],
      "metadata": {
        "id": "DGaaZxx7JKK2"
      },
      "execution_count": null,
      "outputs": []
    },
    {
      "cell_type": "markdown",
      "source": [
        "# Acknowledgements\n",
        "TCIA is funded by the [Cancer Imaging Program (CIP)](https://imaging.cancer.gov/), a part of the United States [National Cancer Institute (NCI)](https://www.cancer.gov/), and is managed by the [Frederick National Laboratory for Cancer Research (FNLCR)](https://frederick.cancer.gov/).\n",
        "\n",
        "This notebook was created by [Justin Kirby](https://www.linkedin.com/in/justinkirby82/).  If you leverage this notebook or any TCIA datasets in your work please be sure to comply with the [TCIA Data Usage Policy](https://wiki.cancerimagingarchive.net/x/c4hF). In particular, make sure to cite the DOI(s) for the specific TCIA datasets you used in addition to the following paper!\n",
        "\n",
        "## TCIA Citation\n",
        "\n",
        "Clark, K., Vendt, B., Smith, K., Freymann, J., Kirby, J., Koppel, P., Moore, S., Phillips, S., Maffitt, D., Pringle, M., Tarbox, L., & Prior, F. (2013). The Cancer Imaging Archive (TCIA): Maintaining and Operating a Public Information Repository. Journal of Digital Imaging, 26(6), 1045–1057. https://doi.org/10.1007/s10278-013-9622-7"
      ],
      "metadata": {
        "id": "DYXsNGcY93B8"
      }
    }
  ]
}