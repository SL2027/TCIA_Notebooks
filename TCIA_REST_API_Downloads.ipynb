{
  "cells": [
    {
      "cell_type": "markdown",
      "source": [
        "You can download and run this notebook locally, or you can run it for free in a cloud environment using Colab or Sagemaker Studio Lab:\n",
        "\n",
        "[![Open In Colab](https://colab.research.google.com/assets/colab-badge.svg)](https://colab.research.google.com/github/kirbyju/TCIA_Notebooks/blob/main/TCIA_REST_API_Downloads.ipynb)\n",
        "\n",
        "[![Open In SageMaker Studio Lab](https://studiolab.sagemaker.aws/studiolab.svg)](https://studiolab.sagemaker.aws/import/github.com/kirbyju/TCIA_Notebooks/blob/main/TCIA_REST_API_Downloads.ipynb)"
      ],
      "metadata": {
        "id": "mScj_P-dOMr2"
      }
    },
    {
      "cell_type": "markdown",
      "metadata": {
        "id": "KmXfYFZtja2F"
      },
      "source": [
        "# Summary\n",
        "\n",
        "Access to large, high quality data is essential for researchers to understand disease and precision medicine pathways, especially in cancer. However HIPAA constraints make sharing medical images outside an individual institution a complex process. [The Cancer Imaging Archive (TCIA)](https://www.cancerimagingarchive.net/) is a public service funded by the National Cancer Institute which addresses this challenge by providing hosting and de-identification services to take major burdens of data sharing off researchers. \n",
        "\n",
        "**This notebook is focused on basic use cases for leveraging TCIA's REST APIs to query and download data.**  If you're interested in additional TCIA notebooks and coding examples check out https://github.com/kirbyju/TCIA_Notebooks. "
      ]
    },
    {
      "cell_type": "markdown",
      "metadata": {
        "id": "AruUGe3lmjkh"
      },
      "source": [
        "# 1 Learn about available Collections on the TCIA website\n",
        "\n",
        "[Browsing Collections](https://www.cancerimagingarchive.net/collections) and [Analysis Results](https://www.cancerimagingarchive.net/tcia-analysis-results/) datasets on TCIA are the easiest ways to become familiar with what is available.  These pages will help you quickly identify datasets of interest, find valuable supporting data that are not available via our APIs (e.g. clinical spreadsheets, non-DICOM segmentation data), and answer most common questions you might have about the datasets.  "
      ]
    },
    {
      "cell_type": "markdown",
      "metadata": {
        "id": "SmeqJoR5k9z0"
      },
      "source": [
        "# 2 REST API Overview \n",
        "TCIA uses software called NBIA to manage DICOM data.  The NBIA REST APIs include:\n",
        "1. [NBIA Search REST APIs](https://wiki.cancerimagingarchive.net/x/fILTB) that allow you to perform basic queries and download data from **public** collections. This API does not require a TCIA account.\n",
        "2. [NBIA Search with Authentication REST APIs](https://wiki.cancerimagingarchive.net/x/X4ATBg) that allow you to perform basic queries and download data from **public and limited-access** collections. This API requires a TCIA account for creation of authentication tokens.\n",
        "3. [NBIA Advanced REST APIs](https://wiki.cancerimagingarchive.net/x/YoATBg) that allow access to **public and limited-access** collections, but provide query endpoints mostly geared towards developers seeking to integrate searching and downloading TCIA data into web and desktop applications.  This API requires a TCIA account for creation of authentication tokens."
      ]
    },
    {
      "cell_type": "markdown",
      "metadata": {
        "id": "bqulqBEDMSS6"
      },
      "source": [
        "# 3 Import tcia_utils\n",
        "\n",
        "The following cells import [**tcia_utils**](https://github.com/kirbyju/TCIA_Notebooks/raw/main/tcia_utils.py) which contain a variety of useful functions for accessing TCIA via Jupyter/Python. \n",
        "\n",
        "**tcia_utils** contains a **downloadSeries()** function that has multiple options for specifying the seriesUids you'd like to download.  By default, the function expects JSON data containing \"SeriesInstanceUID\" elements, which can be generated using **getSeries()** or **getCart()**.  However, if you have a series UID list from some other source, you can set **input_type = \"list\"** to pass a regular list of series UIDs instead of JSON. Or, if you'd like to download a single series, you can set **input_type = \"uid\"** to pass a single Series Instance UID.  \n",
        "\n",
        "You can also specify **number = n** to tell the function to only download the first **n** scans of your seriesUids.  Remove this parameter in the examples below to download the full dataset. \n",
        "\n",
        "The function returns a dataframe of the series metadata describing the scans that were downloaded, and you can optionally export a CSV of the series metadata by specifying the **csv_filename** parameter.\n",
        "\n",
        "The **api_url** parameter can be omitted in most cases.  However, it must be set to **api_url = \"nlst\"** to access the [National Lung Screening Trial (NLST)](https://doi.org/10.7937/TCIA.HMQ8-J677) collection and you must use **api_url = \"restricted\"** for datasets that require logging in.  \n",
        "\n",
        "In addition to downloading the data, these functions return a dataframe of the series metadata describing the data that were downloaded.  You can optionally export a CSV of the series metadata by specifying the **csv_filename** parameter.\n",
        "\n",
        "Last but not least, there is some logic built in to detect whether you've already downloaded a series.  If a directory named after the seriesUid already exists the function will assume it's already been downloaded and skip that series."
      ]
    },
    {
      "cell_type": "code",
      "execution_count": null,
      "metadata": {
        "id": "p3zEqnxi9rk2"
      },
      "outputs": [],
      "source": [
        "# imports\n",
        "import requests\n",
        "import pandas as pd\n",
        "\n",
        "# download tcia_utils\n",
        "tcia_utils_text = requests.get(\"https://github.com/kirbyju/TCIA_Notebooks/raw/main/tcia_utils.py\")\n",
        "with open('tcia_utils.py', 'wb') as f:\n",
        "    f.write(tcia_utils_text.content)"
      ]
    },
    {
      "cell_type": "code",
      "execution_count": null,
      "metadata": {
        "id": "zP4VRfgg-QXU"
      },
      "outputs": [],
      "source": [
        "import tcia_utils as tcia"
      ]
    },
    {
      "cell_type": "markdown",
      "metadata": {
        "id": "iao1mstCf8Vl"
      },
      "source": [
        "# 4 Download Examples\n",
        "\n",
        "In this section we'll cover downloading data via the REST API for the following use cases:\n",
        "\n",
        "1.   Download a full TCIA collection\n",
        "2.   Download custom results of an API query\n",
        "3.   Download a \"[Shared Cart](https://wiki.cancerimagingarchive.net/display/NBIA/TCIA+Radiology+Portal+User+Guide#TCIARadiologyPortalUserGuide-SharingDatainYourCart)\" that was created via https://nbia.cancerimagingarchive.net/\n",
        "4.   Download data from a TCIA manifest file\n",
        "5.   Download data from a **restricted** collection that requires creating an API token"
      ]
    },
    {
      "cell_type": "markdown",
      "metadata": {
        "id": "fwj_OZjphcWP"
      },
      "source": [
        "## 4.1 Download a full collection\n",
        "\n",
        "You can [Browse Collections](https://www.cancerimagingarchive.net/collections) on our website to figure out what you might want to download, but you can also get a list of available collections via the API as shown below."
      ]
    },
    {
      "cell_type": "code",
      "execution_count": null,
      "metadata": {
        "id": "II1o1709zq1d"
      },
      "outputs": [],
      "source": [
        "# get list of available collections as JSON\n",
        "tcia.getCollections()\n"
      ]
    },
    {
      "cell_type": "markdown",
      "metadata": {
        "id": "Jbmm5DIU4Exy"
      },
      "source": [
        "Let's say that we're interested in downloading the entire **Soft-tissue-Sarcoma** collection.  First we need to get a list of all Series Instance UIDs in that collection.  We can use **tcia.getSeries()** to return JSON metadata about all series (scans) in this collection."
      ]
    },
    {
      "cell_type": "code",
      "execution_count": null,
      "metadata": {
        "id": "eVnVh_yv7Av3"
      },
      "outputs": [],
      "source": [
        "data = tcia.getSeries(collection = \"Soft-tissue-Sarcoma\")\n",
        "print(data)"
      ]
    },
    {
      "cell_type": "markdown",
      "metadata": {
        "id": "wfkCWxiK8nQz"
      },
      "source": [
        "We can then pass that to the our download functions and view/save the metadata for what was downloaded.  We'll leverage the **number** parameter here to just grab the first 3 scans as a test."
      ]
    },
    {
      "cell_type": "code",
      "execution_count": null,
      "metadata": {
        "id": "2XVUkw5vgMZX"
      },
      "outputs": [],
      "source": [
        "df = tcia.downloadSeries(data, number = 3)"
      ]
    },
    {
      "cell_type": "markdown",
      "source": [
        "We can display the resulting dataframe to view more information about what was downloaded."
      ],
      "metadata": {
        "id": "SzVNKfz-K-yK"
      }
    },
    {
      "cell_type": "code",
      "source": [
        "display(df)"
      ],
      "metadata": {
        "id": "3jqWhs6pLDSF"
      },
      "execution_count": null,
      "outputs": []
    },
    {
      "cell_type": "markdown",
      "metadata": {
        "id": "i7Pw0jvy4HO8"
      },
      "source": [
        "## 4.2 Download custom API query\n",
        "The REST API allows for a variety of different query options as demonstrated in [this notebook](https://github.com/kirbyju/TCIA_Notebooks/blob/main/TCIA_REST_API_Queries.ipynb).  For this use case, let's assume that you are only interested in the MR scans from the [TCGA-BRCA](https://doi.org/10.7937/K9/TCIA.2016.AB2NAZRP) collection that were acquired on Siemens scanners."
      ]
    },
    {
      "cell_type": "code",
      "execution_count": null,
      "metadata": {
        "id": "6Y-uSUCBE_bJ"
      },
      "outputs": [],
      "source": [
        "# getSeries with query parameters\n",
        "data = tcia.getSeries(collection = \"TCGA-BRCA\", \n",
        "               modality = \"MR\", \n",
        "               manufacturer = \"SIEMENS\")\n",
        "\n",
        "print(len(data), 'Series returned')"
      ]
    },
    {
      "cell_type": "markdown",
      "metadata": {
        "id": "mzDBsCavGuHR"
      },
      "source": [
        "Once again, let's pass those Series Instance UIDs to our download function."
      ]
    },
    {
      "cell_type": "code",
      "execution_count": null,
      "metadata": {
        "id": "d5TAEkFmVtgg"
      },
      "outputs": [],
      "source": [
        "# feed series_data to our downloadSampleSeries function\n",
        "df = tcia.downloadSeries(data, number = 3)\n",
        "display(df)"
      ]
    },
    {
      "cell_type": "markdown",
      "metadata": {
        "id": "JEKzWV7a7Q4M"
      },
      "source": [
        "## 4.3 Download custom NLST API query\n",
        "Let's show a similar example where we look for a specific modality and manufacturer within the [National Lung Screening Trial (NLST) Collection](https://doi.org/10.7937/TCIA.HMQ8-J677).  We have to set **api_url = \"nlst\"** in our functions for this to work, but otherwise the steps are the same."
      ]
    },
    {
      "cell_type": "code",
      "execution_count": null,
      "metadata": {
        "id": "zGlhMzna7wgS"
      },
      "outputs": [],
      "source": [
        "# getSeries with query parameters\n",
        "data = tcia.getSeries(collection = \"NLST\", \n",
        "               modality = \"CT\", \n",
        "               manufacturer = \"Philips\",\n",
        "               api_url = \"nlst\")\n",
        "\n",
        "print(len(data), 'Series returned')"
      ]
    },
    {
      "cell_type": "code",
      "execution_count": null,
      "metadata": {
        "id": "D58Jjiqp8UVE"
      },
      "outputs": [],
      "source": [
        "# feed series_data to our downloadSampleSeries function\n",
        "df = tcia.downloadSeries(data, number = 3, api_url = \"nlst\")\n",
        "display(df)"
      ]
    },
    {
      "cell_type": "markdown",
      "metadata": {
        "id": "AJw430rwTkJ0"
      },
      "source": [
        "## 4.4 Download a \"shared cart\"\n",
        "It's possible to use https://nbia.cancerimagingarchive.net to create a \"[Shared Cart](https://wiki.cancerimagingarchive.net/display/NBIA/TCIA+Radiology+Portal+User+Guide#TCIARadiologyPortalUserGuide-SharingDatainYourCart)\" which includes a specific set of scans you'd like to share with others. After creating a Shared Cart you receive a URL like https://nbia.cancerimagingarchive.net/nbia-search/?saved-cart=nbia-49121659384603347 which can be shared with others.  Try clicking the link to see what this looks like on the TCIA website.  Then use the code below to see how you can use the cart name at the end of the URL to download the related scans via the API."
      ]
    },
    {
      "cell_type": "code",
      "execution_count": null,
      "metadata": {
        "id": "Wdv62WPyhEg7"
      },
      "outputs": [],
      "source": [
        "# getSharedCart metadata\n",
        "data = tcia.getSharedCart(name = \"nbia-49121659384603347\")\n",
        "print(len(data), 'Series returned')"
      ]
    },
    {
      "cell_type": "markdown",
      "source": [
        "We'll skip the use of the **number** parameter this time since the full cart is only 4 series."
      ],
      "metadata": {
        "id": "-ga_N66rMWvK"
      }
    },
    {
      "cell_type": "code",
      "execution_count": null,
      "metadata": {
        "id": "LlyJYA-rTlGY"
      },
      "outputs": [],
      "source": [
        "# feed series_data to our downloadSampleSeries function\n",
        "df = tcia.downloadSeries(data)\n",
        "display(df)"
      ]
    },
    {
      "cell_type": "markdown",
      "metadata": {
        "id": "60vpsOC2S6ff"
      },
      "source": [
        "## 4.4 Download data from a TCIA manifest file\n",
        "\n",
        "When working with manifest files you can install the NBIA Data Retriever to open the manifest and download the data as shown in [this notebook](https://github.com/kirbyju/TCIA_Notebooks/blob/main/TCIA_Linux_Data_Retriever_App.ipynb).  However, there may be cases where you don't have administrative rights to install software or prefer using the REST API to download a manifest.  \n",
        "\n",
        "In order to demonstrate this use case, let's assume that after you [Browse Collections](https://www.cancerimagingarchive.net/collections) yyou are interested in the [RIDER Breast MRI](https://doi.org/10.7937/K9/TCIA.2015.H1SXNUXL) collection.  We can find the URL of the manifest to download the full collection by looking at the blue \"Download\" button on that page.  Then we can download the manifest with the following commands."
      ]
    },
    {
      "cell_type": "code",
      "execution_count": null,
      "metadata": {
        "id": "pAtUWEcSHiO5"
      },
      "outputs": [],
      "source": [
        "# download manifest file from RIDER Breast MRI page\n",
        "manifest = requests.get(\"https://wiki.cancerimagingarchive.net/download/attachments/22512757/doiJNLP-Fo0H1NtD.tcia?version=1&modificationDate=1534787017928&api=v2\")\n",
        "with open('RIDER_Breast_MRI.tcia', 'wb') as f:\n",
        "    f.write(manifest.content)\n"
      ]
    },
    {
      "cell_type": "markdown",
      "metadata": {
        "id": "LHbh-qSHDhs3"
      },
      "source": [
        "If you open this manifest file in a text editor you'll notice that it contains several lines of download parameters that precede a list of Series Instance UIDs to download.  The **manifestToList()** function in **tcia_utils** will put the Series UIDs into a Python list and ignore the parameters in the first six lines of the manifest so that we can feed it to **tcia.downloadSeries()**."
      ]
    },
    {
      "cell_type": "code",
      "execution_count": null,
      "metadata": {
        "id": "CYylO0PCWKJ3"
      },
      "outputs": [],
      "source": [
        "# enter manifest path/filename\n",
        "manifest = \"RIDER_Breast_MRI.tcia\"\n",
        "\n",
        "# converts manifest to list of UIDs\n",
        "uids = tcia.manifestToList(manifest)"
      ]
    },
    {
      "cell_type": "markdown",
      "metadata": {
        "id": "e6nN87uOWKJ3"
      },
      "source": [
        "Now we can pass this data to our download function.  Note that we need to use the **input_type = \"list\"** parameter this time since the series UIDs are a list rather than JSON format."
      ]
    },
    {
      "cell_type": "code",
      "execution_count": null,
      "metadata": {
        "id": "tmx0Ej70WKJ4"
      },
      "outputs": [],
      "source": [
        "# feed series_data to our downloadSampleSeries function\n",
        "df = tcia.downloadSeries(uids, input_type = \"list\", number = 3)\n",
        "display(df)"
      ]
    },
    {
      "cell_type": "markdown",
      "metadata": {
        "id": "A3exO0oNHtMY"
      },
      "source": [
        "## 4.5 Download data from a restricted collection\n",
        "In some cases, you must specifically request access to collections before you can download them.  These are listed as **limited access** on the [Browse Collections](https://www.cancerimagingarchive.net/collections/) page. The steps to request access may vary depending on the collection, but will always require that you first [create a TCIA user account](https://wiki.cancerimagingarchive.net/x/xgHDAg). Once you've created an account, you can use your login/password to create an API token with the **getToken()** function from **tcia_utils** to verify your permissions. **<font color='red'>Tokens are valid for 2 hours and must be refreshed after that point.</font>**"
      ]
    },
    {
      "cell_type": "code",
      "execution_count": null,
      "metadata": {
        "id": "ZzwyJcNYIIsq"
      },
      "outputs": [],
      "source": [
        "tcia.getToken()"
      ]
    },
    {
      "cell_type": "markdown",
      "metadata": {
        "id": "f1NLNszIIKOS"
      },
      "source": [
        "Let's say that we're interested in the [QIN-Breast-02](https://doi.org/10.7937/TCIA.2019.4cfm06rr) collection. As you can see on the collection page, you must email help@cancerimagingarchive.net to request access to the data. Once you've recieved approval we can use **tcia.getSeries()** to get a full list of series UIDs in this restricted collection by including **api_url = \"restricted\"** as a parameter."
      ]
    },
    {
      "cell_type": "code",
      "execution_count": null,
      "metadata": {
        "id": "IAnZc6kdTYRL"
      },
      "outputs": [],
      "source": [
        "# getSeries with query parameters\n",
        "data = tcia.getSeries(collection = \"QIN-Breast-02\", \n",
        "                      api_url = \"restricted\")\n",
        "\n",
        "print(len(data), 'Series returned')"
      ]
    },
    {
      "cell_type": "markdown",
      "metadata": {
        "id": "vxYch98LmtC0"
      },
      "source": [
        "Now we can download those scans.  Don't forget to include **api_url = \"restricted\"** in the download functions as well!"
      ]
    },
    {
      "cell_type": "code",
      "execution_count": null,
      "metadata": {
        "id": "DGaaZxx7JKK2"
      },
      "outputs": [],
      "source": [
        "# feed series_data to our downloadSampleSeries function\n",
        "df = tcia.downloadSeries(data, number = 3, api_url = \"restricted\")\n",
        "display(df)"
      ]
    },
    {
      "cell_type": "markdown",
      "metadata": {
        "id": "DYXsNGcY93B8"
      },
      "source": [
        "# Acknowledgements\n",
        "TCIA is funded by the [Cancer Imaging Program (CIP)](https://imaging.cancer.gov/), a part of the United States [National Cancer Institute (NCI)](https://www.cancer.gov/).  It is managed by the [Frederick National Laboratory for Cancer Research (FNLCR)](https://frederick.cancer.gov/) and hosted by the [University of Arkansas for Medical Sciences (UAMS)](https://www.uams.edu/)\n",
        "\n",
        "This notebook was created by [Justin Kirby](https://www.linkedin.com/in/justinkirby82/). If you leverage this notebook or any TCIA datasets in your work, please be sure to comply with the [TCIA Data Usage Policy](https://wiki.cancerimagingarchive.net/x/c4hF). In particular, make sure to cite the DOI(s) for the specific TCIA datasets you used in addition to the following paper!\n",
        "\n",
        "## TCIA Citation\n",
        "\n",
        "Clark, K., Vendt, B., Smith, K., Freymann, J., Kirby, J., Koppel, P., Moore, S., Phillips, S., Maffitt, D., Pringle, M., Tarbox, L., & Prior, F. (2013). The Cancer Imaging Archive (TCIA): Maintaining and Operating a Public Information Repository. Journal of Digital Imaging, 26(6), 1045–1057. https://doi.org/10.1007/s10278-013-9622-7"
      ]
    }
  ],
  "metadata": {
    "colab": {
      "provenance": [],
      "toc_visible": true
    },
    "kernelspec": {
      "display_name": "Python 3",
      "name": "python3"
    },
    "language_info": {
      "name": "python"
    }
  },
  "nbformat": 4,
  "nbformat_minor": 0
}