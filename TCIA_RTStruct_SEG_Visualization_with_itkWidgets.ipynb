{
 "cells": [
  {
   "cell_type": "markdown",
   "metadata": {
    "colab_type": "text",
    "id": "view-in-github"
   },
   "source": [
    "You can either download this notebook and run it locally, or you can run it in the cloud:<br>\n",
    "\n",
    "&nbsp;&nbsp;&nbsp;&nbsp;&nbsp;&nbsp;&nbsp;&nbsp;&nbsp;\n",
    "<a href=\"https://colab.research.google.com/github/kirbyju/TCIA_Notebooks/blob/main/TCIA_RTStruct_SEG_Visualization_with_itkWidgets.ipynb\" target=\"_parent\"><img src=\"https://colab.research.google.com/assets/colab-badge.svg\" alt=\"Open In Colab\"/></a>\n",
    "\n",
    "&nbsp;&nbsp;&nbsp;&nbsp;&nbsp;&nbsp;&nbsp;&nbsp;&nbsp;[![Open In SageMaker Studio Lab](https://studiolab.sagemaker.aws/studiolab.svg)](https://studiolab.sagemaker.aws/import/github.com/kirbyju/TCIA_RTStruct_SEG_Visualization_with_itkWidgets.ipynb)"
   ]
  },
  {
   "cell_type": "markdown",
   "metadata": {
    "id": "KmXfYFZtja2F"
   },
   "source": [
    "# Summary\n",
    "Access to large, high-quality data is essential for researchers to understand disease and precision medicine pathways, especially in cancer. However, HIPAA constraints make sharing medical images outside an individual institution a complex process. [The Cancer Imaging Archive (TCIA)](https://www.cancerimagingarchive.net/) is a public service funded by the National Cancer Institute that addresses this challenge by providing hosting and de-identification services to take major burdens of data sharing off researchers.\n",
    "\n",
    "## DICOM Image Objects\n",
    "Most of TCIA data is available as DICOM objects. A wide variety of toolkits are able to read DICOM images, but fewer are able to convert them into volumetric representations, and still fewer correctly maintain the metadata necessary to interpret how that volume maps into physical space (i.e., its origin, axis orientation, and the physical distance between its voxels).  Such information is critical to subsequent analysis of those images.\n",
    "\n",
    "[ITK](https://github.com/InsightSoftwareConsortium/ITK) is used to read DICOM images.\n",
    "\n",
    "## DICOM SEG and RTStruct Objects\n",
    "There are often DICOM SEG (labelmap) and DICOM RTStruct (contour) files that provide annotations for the DICOM images.  Reading and mapping those objects onto medical images, and converting contours to labelmaps and preserving the origin, spacing, and direction information in those labelmaps can also be challenging.\n",
    "\n",
    "Herein, we explore a common AI research workflow.  We demonstrate basic methods for downloading DICOM objects from TCIA, converting them into images and labelmaps, and visualizing them within this Jupyter Notebook using itkWidgets.   \n",
    "\n",
    "[RT-Utils](https://github.com/qurit/rt-utils) (built on top of pydicom) is used to convert RTStruct contours to labelmaps.\n",
    "\n",
    "[pydicom-seg](https://github.com/razorx89/pydicom-seg) (also built on top of pydicom) is used to convert SEG labelmaps to images.\n",
    "\n",
    "## Visualization\n",
    "While Jupyter systems (JupyterLab, Jupyter Notebooks, Google Colab, AWS SageMaker, etc.) are outstanding tools for interactive programming and algorithm sharing, the ability to visualize data within them has traditionally be limited to plots and sparse 2D slices - which are insufficient when dealing with 3D clinical data. This limitation is particularly challenging when using cloud-based jupyter systems such as Google Colab and AWS SageMaker. 3D interactive visualization of data when using those cloud systems traditionally requires downloading that data to your local machine and then running a separate visualization application. itkWidgets addresses those visualization challenges by providing interacitve 3D (and 2D) visualizations within the cells of your Jupyter scripts.\n",
    "\n",
    "[itkWidgets](https://github.com/InsightSoftwareConsortium/itkwidgets) is used to visualize images, point sets, and 3D geometry in Jupyter systems (Jupyter Notebooks, JupyterLab, AWS SageMaker, and Google Colab). Despite its name, itkWidgets does not require the use of ITK. It can directly visualize numpy arrays, torch tensors, DASK arrays, VTK polydata, and a multitude of other Python data structures."
   ]
  },
  {
   "cell_type": "markdown",
   "metadata": {
    "id": "GRNgpdI3hdkf"
   },
   "source": [
    "# Outline\n",
    "\n",
    "1. Setup\n",
    "2. TCIA Basics\n",
    "2. itkWidgets Basics\n",
    "3. Use Cases\n",
    "    1. Load and visualize DICOM Images and RTStruct objects from TCIA\n",
    "    2. Load and visualize DICOM Images and SEG objects from TCIA"
   ]
  },
  {
   "cell_type": "markdown",
   "metadata": {
    "id": "q8EUgWtnhdkf"
   },
   "source": [
    "# 1. Setup\n",
    "\n",
    "These are the initial steps for running notebooks within various Jupyter environments."
   ]
  },
  {
   "cell_type": "code",
   "execution_count": 1,
   "metadata": {
    "id": "m1N3PETXhdkg"
   },
   "outputs": [],
   "source": [
    "import os\n",
    "import sys\n",
    "\n",
    "# Upgrade pip, just in case...\n",
    "!{sys.executable} -m pip install --upgrade -q pip"
   ]
  },
  {
   "cell_type": "code",
   "execution_count": 2,
   "metadata": {
    "id": "aEYeJ97Whdkh"
   },
   "outputs": [],
   "source": [
    "# If running on SageMaker or Studio Lab, install essential packages and extensions.\n",
    "if \"studio-lab-user\" in os.getcwd():\n",
    "    print(\"Upgrading dependencies\")\n",
    "    !conda install --yes -q --prefix {sys.prefix} -c conda-forge opencv nodejs"
   ]
  },
  {
   "cell_type": "markdown",
   "metadata": {},
   "source": [
    "**On many systems you must manually install the imjoy-jupyter-extension!!**\n",
    "\n",
    "If you do not see a blue 'ImJoy' icon on the menu bar in this notebook:\n",
    "   1) Enable Extensions:  Many Jupyter Lab systems disable jupyter extensions by default,\n",
    "      and they must be enabled for this notebook to work.\n",
    "      Use the Jupyter interface to select the extension manager (left-hand side, icon that\n",
    "      looks like a piece of a puzzle) and select the Enable button if it appears.\n",
    "   2) Install imjoy extension: In the extension manager, search for 'imjoy' and install\n",
    "      the 'imjoy-jupyter-extension'.\n",
    "      The installation can take several minutes. It may also prompt you to rebuild, save,\n",
    "      and reload your jupyter environment as part of this process.  In the end, you should see\n",
    "      a blue 'ImJoy' icon on the left side of the menu bar in this notebook."
   ]
  },
  {
   "cell_type": "markdown",
   "metadata": {
    "id": "w6vIuyxbhdkh"
   },
   "source": [
    "# 2. TCIA Basics\n",
    "\n",
    "[Browsing Collections](https://www.cancerimagingarchive.net/collections) and viewing [Analysis Results](https://www.cancerimagingarchive.net/tcia-analysis-results/) of datasets on TCIA are the easiest ways to become familiar with what is available.  These pages will help you quickly identify datasets of interest, find valuable supporting data that are not available via our APIs (e.g. clinical spreadsheets, non-DICOM segmentation data), and answer the most common questions you might have about the datasets.  \n",
    "\n",
    "If you are new to accessing TCIA via notebooks, you can find additional tutorials on querying and downloading data at https://github.com/kirbyju/TCIA_Notebooks."
   ]
  },
  {
   "cell_type": "code",
   "execution_count": 3,
   "metadata": {
    "id": "eJ1LCaI4hdkh",
    "outputId": "5a2e1a42-b767-48c0-ea4d-093909c3ab9c"
   },
   "outputs": [],
   "source": [
    "# Install the common library for TCIA\n",
    "!{sys.executable} -m pip install --upgrade -q requests\n",
    "!{sys.executable} -m pip install --upgrade -q pandas"
   ]
  },
  {
   "cell_type": "code",
   "execution_count": 4,
   "metadata": {},
   "outputs": [],
   "source": [
    "import requests\n",
    "\n",
    "tcia_utils_text = requests.get(\"https://github.com/kirbyju/TCIA_Notebooks/raw/main/tcia_utils.py\")\n",
    "with open('tcia_utils.py', 'wb') as f:\n",
    "    f.write(tcia_utils_text.content)"
   ]
  },
  {
   "cell_type": "code",
   "execution_count": 5,
   "metadata": {},
   "outputs": [],
   "source": [
    "import tcia_utils as tcia"
   ]
  },
  {
   "cell_type": "code",
   "execution_count": 6,
   "metadata": {
    "colab": {
     "base_uri": "https://localhost:8080/",
     "height": 577
    },
    "id": "3ZhBVocK14y2",
    "outputId": "6afb14d1-97ef-4156-c355-f3f86897b537"
   },
   "outputs": [
    {
     "name": "stdout",
     "output_type": "stream",
     "text": [
      "Calling...  https://services.cancerimagingarchive.net/nbia-api/services/v1/getContentsByName?name=nbia-49121659384603347\n",
      "Downloading 4 Series Instance UIDs (scans).\n",
      "Downloading... https://services.cancerimagingarchive.net/nbia-api/services/v1/getImage?NewFileNames=Yes&SeriesInstanceUID=1.2.276.0.7230010.3.1.3.1070885483.15960.1599120307.701\n",
      "Downloading... https://services.cancerimagingarchive.net/nbia-api/services/v1/getImage?NewFileNames=Yes&SeriesInstanceUID=1.3.6.1.4.1.14519.5.2.1.144673070302354240405004153445986965004\n",
      "Downloading... https://services.cancerimagingarchive.net/nbia-api/services/v1/getImage?NewFileNames=Yes&SeriesInstanceUID=1.3.6.1.4.1.14519.5.2.1.66734119033932110513438442707181367414\n",
      "Downloading... https://services.cancerimagingarchive.net/nbia-api/services/v1/getImage?NewFileNames=Yes&SeriesInstanceUID=1.3.6.1.4.1.14519.5.2.1.7311.5101.206828891270520544417996275680\n",
      "Download Complete: 4 Series Instance UIDs (scans).\n"
     ]
    },
    {
     "data": {
      "text/html": [
       "<div>\n",
       "<style scoped>\n",
       "    .dataframe tbody tr th:only-of-type {\n",
       "        vertical-align: middle;\n",
       "    }\n",
       "\n",
       "    .dataframe tbody tr th {\n",
       "        vertical-align: top;\n",
       "    }\n",
       "\n",
       "    .dataframe thead th {\n",
       "        text-align: right;\n",
       "    }\n",
       "</style>\n",
       "<table border=\"1\" class=\"dataframe\">\n",
       "  <thead>\n",
       "    <tr style=\"text-align: right;\">\n",
       "      <th></th>\n",
       "      <th>Series UID</th>\n",
       "      <th>Collection</th>\n",
       "      <th>3rd Party Analysis</th>\n",
       "      <th>Data Description URI</th>\n",
       "      <th>Subject ID</th>\n",
       "      <th>Study UID</th>\n",
       "      <th>Study Description</th>\n",
       "      <th>Study Date</th>\n",
       "      <th>Series Description</th>\n",
       "      <th>Manufacturer</th>\n",
       "      <th>Modality</th>\n",
       "      <th>SOP Class UID</th>\n",
       "      <th>Number of Images</th>\n",
       "      <th>File Size</th>\n",
       "      <th>Series Number</th>\n",
       "      <th>License Name</th>\n",
       "      <th>License URL</th>\n",
       "      <th>Annotation Size</th>\n",
       "    </tr>\n",
       "  </thead>\n",
       "  <tbody>\n",
       "    <tr>\n",
       "      <th>0</th>\n",
       "      <td>1.2.276.0.7230010.3.1.3.1070885483.15960.15991...</td>\n",
       "      <td>PROSTATEx</td>\n",
       "      <td>yes</td>\n",
       "      <td>https//doi.org/10.7937/tcia.nbb4-4655</td>\n",
       "      <td>ProstateX-0004</td>\n",
       "      <td>1.3.6.1.4.1.14519.5.2.1.7311.5101.170561193612...</td>\n",
       "      <td>MR prostaat kanker detectie WDSmc MCAPRODETW</td>\n",
       "      <td>10-18-2011</td>\n",
       "      <td>Segmentation</td>\n",
       "      <td>QIICR</td>\n",
       "      <td>SEG</td>\n",
       "      <td>1.2.840.10008.5.1.4.1.1.66.4</td>\n",
       "      <td>1</td>\n",
       "      <td>1450544</td>\n",
       "      <td>300.000000</td>\n",
       "      <td>Creative Commons Attribution 3.0 Unported License</td>\n",
       "      <td>http://creativecommons.org/licenses/by/3.0/</td>\n",
       "      <td>0</td>\n",
       "    </tr>\n",
       "    <tr>\n",
       "      <th>1</th>\n",
       "      <td>1.3.6.1.4.1.14519.5.2.1.1446730703023542404050...</td>\n",
       "      <td>Pediatric-CT-SEG</td>\n",
       "      <td>NO</td>\n",
       "      <td>https://doi.org/10.7937/TCIA.X0H0-1706</td>\n",
       "      <td>Pediatric-CT-SEG-00DCF4D6</td>\n",
       "      <td>1.3.6.1.4.1.14519.5.2.1.8859670961354389003042...</td>\n",
       "      <td>CT</td>\n",
       "      <td>10-09-2009</td>\n",
       "      <td>RTSTRUCT</td>\n",
       "      <td>Varian Medical Systems</td>\n",
       "      <td>RTSTRUCT</td>\n",
       "      <td>1.2.840.10008.5.1.4.1.1.481.3</td>\n",
       "      <td>1</td>\n",
       "      <td>15459192</td>\n",
       "      <td>2.000000</td>\n",
       "      <td>Creative Commons Attribution-NonCommercial 4.0...</td>\n",
       "      <td>https://creativecommons.org/licenses/by-nc/4.0/</td>\n",
       "      <td>0</td>\n",
       "    </tr>\n",
       "    <tr>\n",
       "      <th>2</th>\n",
       "      <td>1.3.6.1.4.1.14519.5.2.1.6673411903393211051343...</td>\n",
       "      <td>Pediatric-CT-SEG</td>\n",
       "      <td>NO</td>\n",
       "      <td>https://doi.org/10.7937/TCIA.X0H0-1706</td>\n",
       "      <td>Pediatric-CT-SEG-00DCF4D6</td>\n",
       "      <td>1.3.6.1.4.1.14519.5.2.1.8859670961354389003042...</td>\n",
       "      <td>CT</td>\n",
       "      <td>10-09-2009</td>\n",
       "      <td>CT</td>\n",
       "      <td>GE MEDICAL SYSTEMS</td>\n",
       "      <td>CT</td>\n",
       "      <td>1.2.840.10008.5.1.4.1.1.2</td>\n",
       "      <td>207</td>\n",
       "      <td>109041294</td>\n",
       "      <td>30144.000000</td>\n",
       "      <td>Creative Commons Attribution-NonCommercial 4.0...</td>\n",
       "      <td>https://creativecommons.org/licenses/by-nc/4.0/</td>\n",
       "      <td>0</td>\n",
       "    </tr>\n",
       "    <tr>\n",
       "      <th>3</th>\n",
       "      <td>1.3.6.1.4.1.14519.5.2.1.7311.5101.206828891270...</td>\n",
       "      <td>PROSTATEx</td>\n",
       "      <td>NaN</td>\n",
       "      <td>https://doi.org/10.7937/K9TCIA.2017.MURS5CL</td>\n",
       "      <td>ProstateX-0004</td>\n",
       "      <td>1.3.6.1.4.1.14519.5.2.1.7311.5101.170561193612...</td>\n",
       "      <td>MR prostaat kanker detectie WDSmc MCAPRODETW</td>\n",
       "      <td>10-18-2011</td>\n",
       "      <td>t2tsetra</td>\n",
       "      <td>SIEMENS</td>\n",
       "      <td>MR</td>\n",
       "      <td>1.2.840.10008.5.1.4.1.1.4</td>\n",
       "      <td>19</td>\n",
       "      <td>5679226</td>\n",
       "      <td>5.000000</td>\n",
       "      <td>Creative Commons Attribution 3.0 Unported License</td>\n",
       "      <td>http://creativecommons.org/licenses/by/3.0/</td>\n",
       "      <td>0</td>\n",
       "    </tr>\n",
       "  </tbody>\n",
       "</table>\n",
       "</div>"
      ],
      "text/plain": [
       "                                          Series UID        Collection  \\\n",
       "0  1.2.276.0.7230010.3.1.3.1070885483.15960.15991...         PROSTATEx   \n",
       "1  1.3.6.1.4.1.14519.5.2.1.1446730703023542404050...  Pediatric-CT-SEG   \n",
       "2  1.3.6.1.4.1.14519.5.2.1.6673411903393211051343...  Pediatric-CT-SEG   \n",
       "3  1.3.6.1.4.1.14519.5.2.1.7311.5101.206828891270...         PROSTATEx   \n",
       "\n",
       "  3rd Party Analysis                         Data Description URI  \\\n",
       "0                yes        https//doi.org/10.7937/tcia.nbb4-4655   \n",
       "1                 NO       https://doi.org/10.7937/TCIA.X0H0-1706   \n",
       "2                 NO       https://doi.org/10.7937/TCIA.X0H0-1706   \n",
       "3                NaN  https://doi.org/10.7937/K9TCIA.2017.MURS5CL   \n",
       "\n",
       "                  Subject ID  \\\n",
       "0             ProstateX-0004   \n",
       "1  Pediatric-CT-SEG-00DCF4D6   \n",
       "2  Pediatric-CT-SEG-00DCF4D6   \n",
       "3             ProstateX-0004   \n",
       "\n",
       "                                           Study UID  \\\n",
       "0  1.3.6.1.4.1.14519.5.2.1.7311.5101.170561193612...   \n",
       "1  1.3.6.1.4.1.14519.5.2.1.8859670961354389003042...   \n",
       "2  1.3.6.1.4.1.14519.5.2.1.8859670961354389003042...   \n",
       "3  1.3.6.1.4.1.14519.5.2.1.7311.5101.170561193612...   \n",
       "\n",
       "                              Study Description  Study Date  \\\n",
       "0  MR prostaat kanker detectie WDSmc MCAPRODETW  10-18-2011   \n",
       "1                                            CT  10-09-2009   \n",
       "2                                            CT  10-09-2009   \n",
       "3  MR prostaat kanker detectie WDSmc MCAPRODETW  10-18-2011   \n",
       "\n",
       "  Series Description            Manufacturer  Modality  \\\n",
       "0       Segmentation                   QIICR       SEG   \n",
       "1           RTSTRUCT  Varian Medical Systems  RTSTRUCT   \n",
       "2                 CT      GE MEDICAL SYSTEMS        CT   \n",
       "3           t2tsetra                 SIEMENS        MR   \n",
       "\n",
       "                   SOP Class UID Number of Images  File Size Series Number  \\\n",
       "0   1.2.840.10008.5.1.4.1.1.66.4                1    1450544    300.000000   \n",
       "1  1.2.840.10008.5.1.4.1.1.481.3                1   15459192      2.000000   \n",
       "2      1.2.840.10008.5.1.4.1.1.2              207  109041294  30144.000000   \n",
       "3      1.2.840.10008.5.1.4.1.1.4               19    5679226      5.000000   \n",
       "\n",
       "                                        License Name  \\\n",
       "0  Creative Commons Attribution 3.0 Unported License   \n",
       "1  Creative Commons Attribution-NonCommercial 4.0...   \n",
       "2  Creative Commons Attribution-NonCommercial 4.0...   \n",
       "3  Creative Commons Attribution 3.0 Unported License   \n",
       "\n",
       "                                       License URL Annotation Size  \n",
       "0      http://creativecommons.org/licenses/by/3.0/               0  \n",
       "1  https://creativecommons.org/licenses/by-nc/4.0/               0  \n",
       "2  https://creativecommons.org/licenses/by-nc/4.0/               0  \n",
       "3      http://creativecommons.org/licenses/by/3.0/               0  "
      ]
     },
     "metadata": {},
     "output_type": "display_data"
    }
   ],
   "source": [
    "# Download a \"Shared Cart\" that has been previously created via the NBIA webset (https://nbia.cancerimagingarchive.net).\n",
    "cartName = \"nbia-49121659384603347\"\n",
    "\n",
    "# retrieve cart metadata\n",
    "cart_data = tcia.getSharedCart(cartName)\n",
    "\n",
    "# download the series_uids list and return dataframe of metadata\n",
    "df = tcia.downloadSeries(cart_data)\n",
    "\n",
    "# display dataframe\n",
    "display(df)"
   ]
  },
  {
   "cell_type": "code",
   "execution_count": 7,
   "metadata": {},
   "outputs": [],
   "source": [
    "# For this demo...\n",
    "\n",
    "# Install itk for DICOM I/O and for reading DICOM into an itkImage \n",
    "#   that manages all DICOM field values, include acquistion details \n",
    "#   such as voxel image, image orientation, and image directions,\n",
    "#   which are critical to image processing and display\n",
    "!{sys.executable} -m pip install --upgrade --pre -q \"itk==5.3rc4.post3\"\n",
    "\n",
    "# Install rt-utils for reading DICOM RT-Struct objects.\n",
    "!{sys.executable} -m pip install --upgrade -q rt-utils\n",
    "\n",
    "# Install pydicom-seg for reading DICOM SEG objects.\n",
    "!{sys.executable} -m pip install --upgrade -q pydicom-seg"
   ]
  },
  {
   "cell_type": "code",
   "execution_count": 8,
   "metadata": {
    "id": "eREa7Et2hdki"
   },
   "outputs": [],
   "source": [
    "import glob\n",
    "\n",
    "# Include ITK for DICOM reading.\n",
    "import itk\n",
    "\n",
    "# Include numpy which is used by pydicom-seg and rt_utils.\n",
    "import numpy as np\n",
    "\n",
    "# Pydicom-Seg is a layer on top of pydicom that handles DICOM SEG objects.\n",
    "import pydicom\n",
    "import pydicom_seg\n",
    "\n",
    "# RT-Utils is a layer on top of pydicom that provides a convenient way to read RT-STRUCT DICOM contours and\n",
    "#   generate labelmaps from them.  Labelmaps are needed for most deep learning segmentation tasks.\n",
    "from rt_utils import RTStructBuilder"
   ]
  },
  {
   "cell_type": "markdown",
   "metadata": {
    "id": "GU-nHGRthdki"
   },
   "source": [
    "# 3. itkWidget Basics\n",
    "\n",
    "[itkWidgets documentation](https://itkwidgets.readthedocs.io/en/latest/?badge=latest) provides a summary and illustrations of itkWidgets for a wide variety of scientific data visualization use cases.  Here we focus on its application to data on TCIA."
   ]
  },
  {
   "cell_type": "code",
   "execution_count": 9,
   "metadata": {
    "id": "ikJLcL3Ehdki",
    "outputId": "895fd6da-6699-4b6d-cb37-29231303161c"
   },
   "outputs": [],
   "source": [
    "# This is the installation required for itkWidgets.\n",
    "!{sys.executable} -m pip install --upgrade --pre -q \"itkwidgets[all]==1.0a20\" imjoy_elfinder"
   ]
  },
  {
   "cell_type": "code",
   "execution_count": 10,
   "metadata": {
    "id": "oasRz2QKhdkj"
   },
   "outputs": [],
   "source": [
    "# This is the most common import command for itkWidgets.\n",
    "#   The view() function opens an interactive viewer for 2D and 3D\n",
    "#   data in a variety of formats.\n",
    "from itkwidgets import view"
   ]
  },
  {
   "cell_type": "markdown",
   "metadata": {
    "id": "nMPSKNz0hdkj"
   },
   "source": [
    "# 4. Use cases\n",
    "In this section, we'll download a few datasets from TCIA to show off the functionality of ITK and itkWidgets by demonstrating the following use cases:\n",
    "\n",
    "3.A. Load and visualize DICOM Image and RTStruct objects from TCIA.<br>\n",
    "3.B. Load and visualize DICOM Image and SEG objects from TCIA.<br>"
   ]
  },
  {
   "cell_type": "markdown",
   "metadata": {
    "id": "RxVvQsNl1vCo",
    "tags": []
   },
   "source": [
    "## 4.A. Load and visualize DICOM Image and RTStruct objects from TCIA"
   ]
  },
  {
   "cell_type": "markdown",
   "metadata": {
    "id": "I2_wyAA_hdkj"
   },
   "source": [
    "### 4.A.1. Identify CT and RTSTRUCT data from the Pediatric-CT-SEG study"
   ]
  },
  {
   "cell_type": "code",
   "execution_count": 11,
   "metadata": {
    "id": "Hq3hHXZW2Ns4"
   },
   "outputs": [],
   "source": [
    "dicom_data_dir = \"tciaDownload\"\n",
    "\n",
    "# The Pediatric-CT-SEG study provides DICOM images and DICOM RTSTRUCT data.\n",
    "ped_study_df = df.query( 'Collection==\"Pediatric-CT-SEG\"')\n",
    "\n",
    "# The series_uid defines their directory where the CT data was stored on disk.\n",
    "ped_ct_series_uid = ped_study_df.at[df.Modality.eq('CT').idxmax(), 'Series UID']\n",
    "ped_ct_dir = os.path.join(dicom_data_dir, ped_ct_series_uid)\n",
    "\n",
    "# The series_uid defines where the RTSTRUCT was stored on disk.  It is stored in a single file.\n",
    "ped_rtstruct_series_uid = ped_study_df.at[df.Modality.eq('RTSTRUCT').idxmax(), 'Series UID']\n",
    "ped_rtstruct_dir = os.path.join(dicom_data_dir, ped_rtstruct_series_uid)\n",
    "ped_rtstruct_file = seg_file = glob.glob(os.path.join(ped_rtstruct_dir, \"*.dcm\"))[0]"
   ]
  },
  {
   "cell_type": "markdown",
   "metadata": {
    "id": "uf-7IrCNhdkj"
   },
   "source": [
    "### 4.A.2. Read and visualize CT and RTSTRUCT data from the Pediatric-CT-SEG study"
   ]
  },
  {
   "cell_type": "code",
   "execution_count": 12,
   "metadata": {
    "colab": {
     "base_uri": "https://localhost:8080/"
    },
    "id": "fqjyR-p13z7r",
    "outputId": "59f4ea91-bb09-41aa-d332-b2f19b700c25"
   },
   "outputs": [
    {
     "name": "stdout",
     "output_type": "stream",
     "text": [
      "['Bones', 'Skin', 'Lung_R', 'UteroCervix', 'Thymus', 'Stomach', 'Spleen', 'Spinal Canal', 'Small Intestine', 'Rectum', 'Prostate', 'Pancreas', 'Liver', 'Large Intestine', 'Kidney Right', 'Kidney Left', 'Heart', 'Gonads', 'Gall Bladder', 'Femoral Head Rig', 'Femoral Head Lef', 'Esophagus', 'Duodenum', 'Breast Right', 'Breast Left', 'Bladder', 'Adrenal Right', 'Adrenal Left', 'Lung_L']\n"
     ]
    }
   ],
   "source": [
    "# Read the DICOM CT series' objects and reconstruct them into a 3D ITK image.\n",
    "#   The itk.F option is added to store the image in memory using floating-point precision pixels (useful if you will filter the image or use it with MONAI)\n",
    "#   For more info on imread, see https://itkpythonpackage.readthedocs.io/en/master/Quick_start_guide.html. \n",
    "ped_ct_image_large = itk.imread(ped_ct_dir, itk.F)\n",
    "\n",
    "# We use RT-Utils to read in the list of contours (ROIs) available in the RT-STRUCT file.  This also requires passing-in the path to the original\n",
    "#   DICOM series (image) so that labelmaps images can be generated from the RT-STRUCT contours.\n",
    "ped_rtstruct = RTStructBuilder.create_from(dicom_series_path=ped_ct_dir, rt_struct_path=ped_rtstruct_file)\n",
    "\n",
    "# RT-Utils has many useful functions, including the ability to list the names of the ROIs available in the RT-STRUCT file.\n",
    "print(ped_rtstruct.get_roi_names())"
   ]
  },
  {
   "cell_type": "code",
   "execution_count": 13,
   "metadata": {
    "id": "6iPqk92thdkk"
   },
   "outputs": [],
   "source": [
    "# Read in the bones contour as a numpy array.  We must also convert it to float (for possible future filtering, MONAI, etc.), and realign the axis to \n",
    "#   correspond with how images are stored by ITK.  This realignment typically isn't needed, but rt-utils requires it.\n",
    "#   Note: The copy() call is required to force the transpose to actually reorder the data in memory versus maintain an abstraction.\n",
    "ped_bones_array = ped_rtstruct.get_roi_mask_by_name(\"Bones\").astype(np.float32).transpose(2,0,1).copy()\n",
    "# As an np array, the rtstruct labelmap is missing critical information about pixel spacing, image origin, image orientation, etc.\n",
    "#    Here we create an itk image from the numpy array, and we copy the critical information from itk image created from the \n",
    "#    original DICOM CT data.\n",
    "ped_bones_labelmap_large = itk.GetImageFromArray(ped_bones_array)\n",
    "ped_bones_labelmap_large.CopyInformation(ped_ct_image_large)"
   ]
  },
  {
   "cell_type": "code",
   "execution_count": 14,
   "metadata": {},
   "outputs": [
    {
     "name": "stdout",
     "output_type": "stream",
     "text": [
      "New spacing = [2.343752, 2.343752, 2.0]\n",
      "New size = [128, 128, 207]\n"
     ]
    }
   ],
   "source": [
    "# This data is huge, so to save time during demos, we subsample it in x and y dims:\n",
    "new_spacing = list(ped_ct_image_large.GetSpacing())\n",
    "new_spacing[:2] = [x*4 for x in new_spacing[:2]]\n",
    "new_size = list(ped_ct_image_large.GetLargestPossibleRegion().GetSize())\n",
    "new_size[:2] = [x//4 for x in new_size[:2]]\n",
    "ped_ct_image = itk.resample_image_filter(Input=ped_ct_image_large,\n",
    "                                         output_spacing=new_spacing, \n",
    "                                         output_origin=ped_ct_image_large.GetOrigin(), \n",
    "                                         output_direction=ped_ct_image_large.GetDirection(),\n",
    "                                         size=new_size)\n",
    "labelmap_interpolator = itk.NearestNeighborInterpolateImageFunction.New(InputImage=ped_bones_labelmap_large)\n",
    "ped_bones_labelmap = itk.resample_image_filter(Input=ped_bones_labelmap_large,\n",
    "                                         Interpolator=labelmap_interpolator,\n",
    "                                         ReferenceImage=ped_ct_image,\n",
    "                                         UseReferenceImage=True)\n",
    "print(f\"New spacing = {new_spacing}\")\n",
    "print(f\"New size = {new_size}\")"
   ]
  },
  {
   "cell_type": "code",
   "execution_count": 15,
   "metadata": {
    "id": "DSicmPcUhdkk",
    "outputId": "681eb7ae-3d35-4dd1-aafc-194dedb15b23"
   },
   "outputs": [
    {
     "data": {
      "text/html": [
       "<div />"
      ],
      "text/plain": [
       "<IPython.core.display.HTML object>"
      ]
     },
     "metadata": {},
     "output_type": "display_data"
    },
    {
     "data": {
      "application/javascript": [
       "window.connectPlugin && window.connectPlugin(\"04c368c1-1e29-4c02-b9c2-0cd2b75e04e0\")"
      ],
      "text/plain": [
       "<IPython.core.display.Javascript object>"
      ]
     },
     "metadata": {},
     "output_type": "display_data"
    },
    {
     "data": {
      "text/html": [
       "<div id=\"f5f47758-b1cc-46f3-84db-6dfb864ee096\"></div>"
      ],
      "text/plain": [
       "<IPython.core.display.HTML object>"
      ]
     },
     "metadata": {},
     "output_type": "display_data"
    }
   ],
   "source": [
    "# This generates a default 3D visualization, with the bone labelmap coloring the bones \"red.\" \n",
    "\n",
    "viewerA = view(image=ped_ct_image, label_image=ped_bones_labelmap)\n",
    "\n",
    "# Please be patient..this is a huge dataset and it loads slowly when run on Colab or Sagemaker.   Those systems limit data transfer rates \n",
    "#   and packet sizes, so itkWidgets must create an multi-scale image and transfer it via incremental streaming.\n",
    "# Visualization should be fast when run using local resources."
   ]
  },
  {
   "cell_type": "code",
   "execution_count": 16,
   "metadata": {
    "id": "OwVi0omHhdkk"
   },
   "outputs": [],
   "source": [
    "# Here we demonstrate how to programmatically set some of the common volume rendering options.\n",
    "viewerA.set_background_color([0.1,0.1,0.1])\n",
    "viewerA.set_image_color_map(\"CT-Muscle\")\n",
    "viewerA.set_image_gradient_opacity(0.45)\n",
    "viewerA.set_image_gradient_opacity_scale(0.35)\n",
    "viewerA.set_image_color_range([-1000,1000])"
   ]
  },
  {
   "cell_type": "code",
   "execution_count": 17,
   "metadata": {
    "id": "m7VVNNyihdkl"
   },
   "outputs": [],
   "source": [
    "# In case you haven't seen it, here we open the user interface panel so that you can manually manipulate the visualization.\n",
    "viewerA.set_ui_collapsed(False)\n",
    "\n",
    "# For example, clicking on the colored cubes in the second row in this panel will switch to a 2D view with the labelmap overlaid."
   ]
  },
  {
   "cell_type": "markdown",
   "metadata": {
    "id": "hSvGdTAShdkl",
    "tags": []
   },
   "source": [
    "## 4.B. Load and visualizing DICOM image and SEG objects from TCIA"
   ]
  },
  {
   "cell_type": "markdown",
   "metadata": {
    "id": "kewWwiKRhdkl"
   },
   "source": [
    "### 4.B.1. Identify MR and SEG data from the PROSTATEx study"
   ]
  },
  {
   "cell_type": "code",
   "execution_count": 18,
   "metadata": {
    "id": "nD9gw942hdkl"
   },
   "outputs": [],
   "source": [
    "# The PROSTATEx study provides DICOM images and DICOM SEG data.\n",
    "pro_study_df = df.query( 'Collection==\"PROSTATEx\"' )\n",
    "\n",
    "# The series_uid defines their directory where the MR data was stored on disk.\n",
    "pro_mr_series_uid = pro_study_df.at[df.Modality.eq('MR').idxmax(), 'Series UID']\n",
    "pro_mr_dir = os.path.join(dicom_data_dir, pro_mr_series_uid)\n",
    "\n",
    "# The series_uid defines where the RTSTRUCT was stored on disk.  It is stored in a single file.\n",
    "pro_seg_series_uid = pro_study_df.at[df.Modality.eq('SEG').idxmax(), 'Series UID']\n",
    "pro_seg_dir = os.path.join(dicom_data_dir, pro_seg_series_uid) \n",
    "pro_seg_file = glob.glob(os.path.join(pro_seg_dir, \"*.dcm\"))[0]"
   ]
  },
  {
   "cell_type": "markdown",
   "metadata": {
    "id": "59a7Heymhdkm"
   },
   "source": [
    "### 4.B.2. Read MR and SEG data and restore SEG data's physical info"
   ]
  },
  {
   "cell_type": "code",
   "execution_count": 19,
   "metadata": {
    "id": "XhwXooTrhdkm",
    "outputId": "529f5be2-7b76-43e5-9c75-3c115ba6597d"
   },
   "outputs": [
    {
     "name": "stdout",
     "output_type": "stream",
     "text": [
      "WARNING:pydicom_seg.reader:DICOM-SEG does not specify \"(0062, 0013) SegmentsOverlap\", assuming UNDEFINED and checking pixels\n"
     ]
    }
   ],
   "source": [
    "# Read the DICOM MR series' objects and reconstruct them into a 3D ITK image.\n",
    "#   The itk.F option is added to store the image in memory using floating-point precision pixels (useful if you will filter the image or use it with MONAI)\n",
    "#   For more info on imread, see https://itkpythonpackage.readthedocs.io/en/master/Quick_start_guide.html \n",
    "pro_mr_image = itk.imread(pro_mr_dir, itk.F)\n",
    "\n",
    "# Read the DICOM SEG object using pydicom and pydicom_seg.\n",
    "pro_seg_dicom = pydicom.dcmread(pro_seg_file)\n",
    "seg_reader = pydicom_seg.MultiClassReader()\n",
    "pro_seg_obj = seg_reader.read(pro_seg_dicom)\n",
    "\n",
    "# Convert the DICOM SEG object into an itk image, with correct voxel origin, spacing, and directions in physical space.\n",
    "pro_seg_image = itk.GetImageFromArray(pro_seg_obj.data.astype(np.float32))\n",
    "pro_seg_image.SetOrigin(pro_seg_obj.origin)\n",
    "pro_seg_image.SetSpacing(pro_seg_obj.spacing)\n",
    "pro_seg_image.SetDirection(pro_seg_obj.direction)"
   ]
  },
  {
   "cell_type": "markdown",
   "metadata": {
    "id": "0NvzSRB2hdkm"
   },
   "source": [
    "### 4.B.3. Visualize MRI with SEG data overlaid, as slice data"
   ]
  },
  {
   "cell_type": "code",
   "execution_count": 20,
   "metadata": {
    "id": "Xt1eob6qhdkm",
    "outputId": "15e4be0e-b8f3-4c1b-964d-5e6ced2a07a4"
   },
   "outputs": [
    {
     "data": {
      "text/html": [
       "\n",
       "                <img id=\"screenshot_imjoy_window_f852c8e8-0951-43cc-acb7-98b0231148b2\" src=data:image/png;base64,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>\n",
       "                <script type=\"text/javascript\">\n",
       "                    var image = document.getElementById(\"screenshot_imjoy_window_f852c8e8-0951-43cc-acb7-98b0231148b2\");\n",
       "                    image.src = \"data:image/png;base64,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\";\n",
       "                    var viewer = document.getElementById(\"imjoy_window_f852c8e8-0951-43cc-acb7-98b0231148b2\");\n",
       "                    // Hide the static image if the Viewer is visible\n",
       "                    image.style.display = viewer ? \"none\" : \"block\";\n",
       "                </script>\n",
       "            "
      ],
      "text/plain": [
       "<IPython.core.display.HTML object>"
      ]
     },
     "metadata": {},
     "output_type": "display_data"
    },
    {
     "data": {
      "application/javascript": [
       "window.connectPlugin && window.connectPlugin(\"04c368c1-1e29-4c02-b9c2-0cd2b75e04e0\")"
      ],
      "text/plain": [
       "<IPython.core.display.Javascript object>"
      ]
     },
     "metadata": {},
     "output_type": "display_data"
    },
    {
     "data": {
      "text/html": [
       "<div id=\"dd220375-0230-475b-ba00-afb4e6f49eaf\"></div>"
      ],
      "text/plain": [
       "<IPython.core.display.HTML object>"
      ]
     },
     "metadata": {},
     "output_type": "display_data"
    }
   ],
   "source": [
    "viewerB = view(image=pro_mr_image, \n",
    "               label_image=pro_seg_image)"
   ]
  },
  {
   "cell_type": "code",
   "execution_count": 21,
   "metadata": {
    "id": "Xt1eob6qhdkm",
    "outputId": "15e4be0e-b8f3-4c1b-964d-5e6ced2a07a4"
   },
   "outputs": [],
   "source": [
    "viewerB.set_image_color_map(\"Grayscale\")\n",
    "viewerB.set_image_color_range([0,400])\n",
    "viewerB.set_view_mode(\"ZPlane\")\n",
    "viewerB.set_z_slice(53)\n",
    "viewerB.set_ui_collapsed(False)"
   ]
  },
  {
   "cell_type": "markdown",
   "metadata": {
    "id": "DYXsNGcY93B8"
   },
   "source": [
    "# Acknowledgements\n",
    "\n",
    "TCIA is funded by the [Cancer Imaging Program (CIP)](https://imaging.cancer.gov/), a part of the United States [National Cancer Institute (NCI)](https://www.cancer.gov/), and is managed by the [Frederick National Laboratory for Cancer Research (FNLCR)](https://frederick.cancer.gov/).\n",
    "\n",
    "If you leverage this notebook or any TCIA datasets in your work, please be sure to comply with the [TCIA Data Usage Policy](https://wiki.cancerimagingarchive.net/x/c4hF). In particular, make sure to cite the DOI(s) for the specific TCIA datasets you used in addition to TCIA citation provided below!\n",
    "\n",
    "This notebook was created by [Stephen Aylward (Kitware)](https://www.kitware.com/stephen-aylward/), [Justin Kirby (Frederick National Laboratory for Cancer Research)](https://www.linkedin.com/in/justinkirby82/), [Brianna Major (Kitware)](https://www.kitware.com/brianna-major/), and [Matt McCormick (Kitware)](https://www.kitware.com/matt-mccormick/).   The creation of this notebook was funded, in part, by NIBIB and NIGMS R01EB021396, NIBIB R01EB014955, NCI R01CA220681, and NINDS R42NS086295.\n",
    "\n",
    "If you have any questions, suggestions, or issues with itkWidgets, please post them on the [itkwidget issue tracker](https://github.com/InsightSoftwareConsortium/itkwidgets/issues) or feel free to email us at kitware@kitware.com.\n",
    "\n",
    "## Data Citation\n",
    "Some of the data used in this notebook was part of the Pediatric-CT-SEG collection:\n",
    "\n",
    "Jordan, P., Adamson, P. M., Bhattbhatt, V., Beriwal, S., Shen, S., Radermecker, O., Bose, S., Strain, L. S., Offe, M., Fraley, D., Principi, S., Ye, D. H., Wang, A. S., Van Heteren, J., Vo, N.-J., & Schmidt, T. G. (2021). Pediatric Chest/Abdomen/Pelvic CT Exams with Expert Organ Contours (Pediatric-CT-SEG) (Version 2) [Data set]. The Cancer Imaging Archive. https://doi.org/10.7937/TCIA.X0H0-1706\n",
    "\n",
    "Some of the data used in this notebook was part of the ProstateX challenge:\n",
    "\n",
    "Geert Litjens, Oscar Debats, Jelle Barentsz, Nico Karssemeijer, and Henkjan Huisman. \"ProstateX Challenge data\", The Cancer Imaging Archive (2017). DOI: 10.7937/K9TCIA.2017.MURS5CL\n",
    "\n",
    "## Publication Citation\n",
    "Some of the data used in this notebook was part of the Pediatric-CT-SEG collection:\n",
    "\n",
    "Jordan, P., Adamson, P. M., Bhattbhatt, V., Beriwal, S., Shen, S., Radermecker, O., Bose, S., Strain, L. S., Offe, M., Fraley, D., Principi, S., Ye, D. H., Wang, A. S., Heteren, J., Vo, N., & Schmidt, T. G. (2022). Pediatric chest‐abdomen‐pelvis and abdomen‐pelvis CT images with expert organ contours. In Medical Physics (Vol. 49, Issue 5, pp. 3523–3528). Wiley. https://doi.org/10.1002/mp.15485\n",
    "\n",
    "Some of the data used in this notebook was part of the ProstateX challenge:\n",
    "\n",
    "Litjens G, Debats O, Barentsz J, Karssemeijer N, Huisman H. \"Computer-aided detection of prostate cancer in MRI\", IEEE Transactions on Medical Imaging 2014;33:1083-1092. DOI: 10.1109/TMI.2014.2303821\n",
    "\n",
    "## TCIA Citation\n",
    "\n",
    "Clark, K., Vendt, B., Smith, K., Freymann, J., Kirby, J., Koppel, P., Moore, S., Phillips, S., Maffitt, D., Pringle, M., Tarbox, L., & Prior, F. (2013). The Cancer Imaging Archive (TCIA): Maintaining and Operating a Public Information Repository. Journal of Digital Imaging, 26(6), 1045–1057. https://doi.org/10.1007/s10278-013-9622-7"
   ]
  }
 ],
 "metadata": {
  "colab": {
   "include_colab_link": true,
   "provenance": []
  },
  "kernelspec": {
   "display_name": "Python 3 (ipykernel)",
   "language": "python",
   "name": "python3"
  },
  "language_info": {
   "codemirror_mode": {
    "name": "ipython",
    "version": 3
   },
   "file_extension": ".py",
   "mimetype": "text/x-python",
   "name": "python",
   "nbconvert_exporter": "python",
   "pygments_lexer": "ipython3",
   "version": "3.8.10"
  }
 },
 "nbformat": 4,
 "nbformat_minor": 4
}
