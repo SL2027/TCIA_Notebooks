{
 "cells": [
  {
   "cell_type": "markdown",
   "id": "61d4e4b4-80ae-49f9-b08a-354e8d92cc78",
   "metadata": {},
   "source": [
    "This notebook is intended to be downloaded and run locally, or run in cloud environments with persistent environments, like Sagemaker Studio Lab:\n",
    "\n",
    "[![Open In SageMaker Studio Lab](https://studiolab.sagemaker.aws/studiolab.svg)](https://studiolab.sagemaker.aws/import/github.com/kirbyju/TCIA_Notebooks/blob/main/EnvironmentCheck.ipynb)"
   ]
  },
  {
   "cell_type": "markdown",
   "id": "58193a82-4e2d-4f04-8929-e2566b1b13c2",
   "metadata": {},
   "source": [
    "# Environment Check\n",
    "\n",
    "#### This notebook is designed to check the environment that you are running in to make sure that all required dependencies and extensions are correctly installed. Simply select Run All Cells and let everything complete before running the other notebooks in this repository."
   ]
  },
  {
   "cell_type": "code",
   "execution_count": null,
   "id": "36eaad49-3b68-4806-8ba6-56eb0384d1da",
   "metadata": {},
   "outputs": [],
   "source": [
    "import os, sys, re\n",
    "import importlib.util\n",
    "import importlib.metadata"
   ]
  },
  {
   "cell_type": "markdown",
   "id": "7e09f10e-535d-4031-a092-96063969dc9c",
   "metadata": {},
   "source": [
    "#### Define the function to do the checking and install any missing dependencies"
   ]
  },
  {
   "cell_type": "code",
   "execution_count": null,
   "id": "8b49c580-719a-4229-8785-4037162426d7",
   "metadata": {},
   "outputs": [],
   "source": [
    "def _get_version(pkg):\n",
    "    try:\n",
    "        return importlib.metadata.version(pkg)\n",
    "    except:\n",
    "        pass\n",
    "    try:\n",
    "        return sys.modules[pkg].__version__\n",
    "    except:\n",
    "        return ''\n",
    "\n",
    "def check_for_package(req, version=None):\n",
    "    vals = re.split(r\"(\\[.*\\]|==|>=)\", req)\n",
    "    pkg = vals[0]\n",
    "    if len(vals) > 1:\n",
    "        version = vals[-1]\n",
    "    if importlib.util.find_spec(pkg) is None or (version and _get_version(pkg) != version):\n",
    "        print(f\"{pkg} not found, installing {req} now...\")\n",
    "        !{sys.executable} -m pip install -q {req}\n",
    "    print(f\"{pkg} version {_get_version(pkg)} installed.\")\n",
    "    print(\"-----\")"
   ]
  },
  {
   "cell_type": "markdown",
   "id": "871e8e65-5386-4c62-8ec3-bc4d80fada1a",
   "metadata": {},
   "source": [
    "#### List of notebook requirements"
   ]
  },
  {
   "cell_type": "code",
   "execution_count": null,
   "id": "ba6f3698-5af6-4b1f-b433-3804cde13494",
   "metadata": {},
   "outputs": [],
   "source": [
    "reqs = [\n",
    "    \"tcia-utils\",\n",
    "    \"rt-utils\",\n",
    "    \"torch\",\n",
    "    \"pydicom\",\n",
    "    \"pydicom-seg\",\n",
    "    \"scikit-image\",\n",
    "    \"numpy\",\n",
    "    \"pandas\",\n",
    "    \"itk==5.3.0\",\n",
    "    \"vtk\",\n",
    "    \"monai[nibabel,itk,tqdm]==1.0.1\",\n",
    "    \"nibabel\",\n",
    "    \"tqdm\",\n",
    "    \"itkwidgets[all]==1.0a23\",\n",
    "    \"imjoy-elfinder\",\n",
    "    \"imjoy-jupyter-extension\",\n",
    "    \"imjoy-jupyterlab-extension\",\n",
    "]"
   ]
  },
  {
   "cell_type": "markdown",
   "id": "63fb64d6-52bc-41a4-a7a6-6f9cf04ef0e1",
   "metadata": {},
   "source": [
    "#### Upgrade pip, just in case."
   ]
  },
  {
   "cell_type": "code",
   "execution_count": null,
   "id": "45d3f0e8-bf13-4c98-ac43-66901a9a704d",
   "metadata": {},
   "outputs": [],
   "source": [
    "!{sys.executable} -m pip install --upgrade -q pip"
   ]
  },
  {
   "cell_type": "markdown",
   "id": "ff0514d1-53ca-4ff6-9fe4-142947a6aa86",
   "metadata": {},
   "source": [
    "#### Make sure that the package is installed and that it is the correct version."
   ]
  },
  {
   "cell_type": "code",
   "execution_count": null,
   "id": "3e18e98c-575b-405e-bc49-1a7035882aa1",
   "metadata": {
    "tags": []
   },
   "outputs": [],
   "source": [
    "for req in reqs:\n",
    "    check_for_package(req)"
   ]
  },
  {
   "cell_type": "markdown",
   "id": "9218a450-0518-4ddb-8fe4-4b3d31bbb50c",
   "metadata": {},
   "source": [
    "#### Special case specific to running in AWS StudioLab"
   ]
  },
  {
   "cell_type": "code",
   "execution_count": null,
   "id": "556bdaee-a741-4e17-a274-b8f8e1122f44",
   "metadata": {},
   "outputs": [],
   "source": [
    "if \"studio-lab-user\" in os.getcwd():\n",
    "    # Make sure that the imjoy extension is installed in the Jupyter environment\n",
    "    # and not just the kernel environment since they may not be the same\n",
    "    !conda env update -n studiolab -f environment.yml\n",
    "    !conda install --yes -q --prefix {sys.prefix} -c conda-forge opencv nodejs"
   ]
  },
  {
   "cell_type": "markdown",
   "id": "79cacab0-da6c-47f2-b007-d2a1c9305b7f",
   "metadata": {},
   "source": [
    "#### Make sure that the required extension(s) are loaded."
   ]
  },
  {
   "cell_type": "code",
   "execution_count": null,
   "id": "00ad1eed-5fab-4076-8278-cdd393d2634f",
   "metadata": {},
   "outputs": [],
   "source": [
    "%%javascript\n",
    "if (typeof window.loadImJoyRPC === \"undefined\") {\n",
    "  location.reload()\n",
    "}"
   ]
  }
 ],
 "metadata": {
  "kernelspec": {
   "display_name": "Python 3 (ipykernel)",
   "language": "python",
   "name": "python3"
  },
  "language_info": {
   "codemirror_mode": {
    "name": "ipython",
    "version": 3
   },
   "file_extension": ".py",
   "mimetype": "text/x-python",
   "name": "python",
   "nbconvert_exporter": "python",
   "pygments_lexer": "ipython3",
   "version": "3.10.8"
  }
 },
 "nbformat": 4,
 "nbformat_minor": 5
}
