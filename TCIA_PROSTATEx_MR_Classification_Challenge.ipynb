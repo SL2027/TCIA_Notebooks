{
  "nbformat": 4,
  "nbformat_minor": 0,
  "metadata": {
    "colab": {
      "name": "MONAI Dataset Program: Accesing the PROSTATEx MR Classification Challenge hosted on TCIA",
      "provenance": [],
      "authorship_tag": "ABX9TyNxmoQaShA0FHcFlxhvrpyn",
      "include_colab_link": true
    },
    "kernelspec": {
      "name": "python3",
      "display_name": "Python 3"
    },
    "language_info": {
      "name": "python"
    }
  },
  "cells": [
    {
      "cell_type": "markdown",
      "metadata": {
        "id": "view-in-github",
        "colab_type": "text"
      },
      "source": [
        "<a href=\"https://colab.research.google.com/github/kirbyju/TCIA_Notebooks/blob/main/TCIA_PROSTATEx_MR_Classification_Challenge.ipynb\" target=\"_parent\"><img src=\"https://colab.research.google.com/assets/colab-badge.svg\" alt=\"Open In Colab\"/></a>"
      ]
    },
    {
      "cell_type": "markdown",
      "source": [
        "## PROSTATEx Summary\n",
        "\n",
        "The PROSTATEx Challenge (\"SPIE-AAPM-NCI Prostate MR Classification Challenge”) focused on  quantitative image analysis methods for the diagnostic classification of clinically significant prostate cancers and was held in conjunction with the 2017 SPIE Medical Imaging Symposium.  PROSTATEx ran from November 21, 2016 to January 15, 2017, though a \"live\" version has also been established at https://prostatex.grand-challenge.org  which serves as an ongoing way for researchers to benchmark their performance for this task.\n",
        "\n",
        "## Acknowledgements\n",
        "This notebook was created by [Justin Kirby](https://www.linkedin.com/in/justinkirby82/) and [Ahmed Harouni](https://www.linkedin.com/in/ahmed-el-harouni-019a8a22/) as a pilot for the [MONAI](https://monai.io/) Datasets Program. \n",
        "\n",
        "If you publish based on this dataset please include the following citations in your paper as required by the TCIA Data Usage Policy:\n",
        "\n",
        "* Geert Litjens, Oscar Debats, Jelle Barentsz, Nico Karssemeijer, and Henkjan Huisman. \"ProstateX Challenge data\", The Cancer Imaging Archive (2017). DOI: 10.7937/K9TCIA.2017.MURS5CL\n",
        "* Clark K, Vendt B, Smith K, Freymann J, Kirby J, Koppel P, Moore S, Phillips S, Maffitt D, Pringle M, Tarbox L, Prior F. The Cancer Imaging Archive (TCIA): Maintaining and Operating a Public Information Repository, Journal of Digital Imaging, Volume 26, Number 6, December, 2013, pp 1045-1057. DOI: 10.1007/s10278-013-9622-7\n",
        "\n",
        "## Data Description\n",
        "The PROSTATEx dataset is described in full on The Cancer Imaging Archive at https://doi.org/10.7937/K9TCIA.2017.MURS5CL. The majority of the challenge instructions and details about how things are organized are covered on the \"Detailed Description\" tab found beneath the Summary section.\n",
        "\n",
        "Training and test cohorts were established by the challenge organizers and the following types of data were provided:\n",
        "\n",
        "* Images (.tcia manifest for the DICOM files)\n",
        "* Ktrans images (.zip containing .mhd files)\n",
        "* Lesion information (.zip containing .doc and .xls files)\n",
        "* Lesion reference thumbnails (.zip containing .bmp files)\n",
        "\n",
        "Next we will walk through how to download these data from TCIA.\n"
      ],
      "metadata": {
        "id": "KmXfYFZtja2F"
      }
    },
    {
      "cell_type": "markdown",
      "source": [
        "### Downloading and preparing the label data\n",
        "\n",
        "First, let's create our directory structure and download the relevant label files from TCIA. Then we'll unzip the label data into their respective train/test directories."
      ],
      "metadata": {
        "id": "Wl34x0xiUclK"
      }
    },
    {
      "cell_type": "code",
      "source": [
        "# create directories\n",
        "!mkdir -p /content/PROSTATEx/\n",
        "!mkdir -p /content/PROSTATEx/Train\n",
        "!mkdir -p /content/PROSTATEx/Test"
      ],
      "metadata": {
        "id": "LSk2xC6K2N8w"
      },
      "execution_count": null,
      "outputs": []
    },
    {
      "cell_type": "code",
      "source": [
        "# download the Ktrans images (.zip containing .mhd files)\n",
        "!wget -O /content/PROSTATEx/Train/Ktrans-Train.zip https://app.box.com/shared/static/y871i386j4o9rqwcsms5mqni63nojzx1\n",
        "!wget -O /content/PROSTATEx/Test/Ktrans-Test.zip https://app.box.com/shared/static/k3iofc0r3ktjnb4f7105lssdzjon95ie\n",
        "\n",
        "# download the Lesion information (.zip containing .doc and .xls files)\n",
        "!wget -O /content/PROSTATEx/Train/LesionInfo-Train.zip https://wiki.cancerimagingarchive.net/download/attachments/23691656/ProstateX-TrainingLesionInformationv2.zip?version=2&modificationDate=1483479231532&api=v2\n",
        "!wget -O /content/PROSTATEx/Test/LesionInfo-Test.zip https://wiki.cancerimagingarchive.net/download/attachments/23691656/ProstateX-TestLesionInformation.zip?version=2&modificationDate=1483479234096&api=v2\n",
        "\n",
        "# download the Lesion reference thumbnails (.zip containing .bmp files)\n",
        "!wget -O /content/PROSTATEx/Train/LesionThumb-Train.zip https://wiki.cancerimagingarchive.net/download/attachments/23691656/ProstateX-Screenshots-Train.zip?version=1&modificationDate=1479401241653&api=v2\n",
        "!wget -O /content/PROSTATEx/Test/LesionThumb-Test.zip https://app.box.com/shared/static/7jn4jtd3pbi9rlurc4pvnkx554lnfljw"
      ],
      "metadata": {
        "id": "vVs8QulquoFy"
      },
      "execution_count": null,
      "outputs": []
    },
    {
      "cell_type": "code",
      "source": [
        "# unzip the Ktrans images (.zip containing .mhd files)\n",
        "!unzip /content/PROSTATEx/Train/Ktrans-Train.zip -d /content/PROSTATEx/Train/PROSTATExKTrans-Train\n",
        "!unzip /content/PROSTATEx/Test/Ktrans-Test.zip -d /content/PROSTATEx/Test/\n",
        "\n",
        "# unzip the Lesion information (.zip containing .doc and .xls files)\n",
        "!unzip /content/PROSTATEx/Train/LesionInfo-Train.zip -d /content/PROSTATEx/Train/\n",
        "!unzip /content/PROSTATEx/Test/LesionInfo-Test.zip -d /content/PROSTATEx/Test/\n",
        "\n",
        "# unzip the Lesion reference thumbnails (.zip containing .bmp files)\n",
        "!unzip /content/PROSTATEx/Train/LesionThumb-Train.zip -d /content/PROSTATEx/Train/\n",
        "!unzip /content/PROSTATEx/Test/LesionThumb-Test.zip -d /content/PROSTATEx/Test/"
      ],
      "metadata": {
        "id": "jIy_NUhVu1GN"
      },
      "execution_count": null,
      "outputs": []
    },
    {
      "cell_type": "markdown",
      "metadata": {
        "id": "SmeqJoR5k9z0"
      },
      "source": [
        "### Perform the DICOM data download\n",
        "Next, we'll download the DICOM data.  This involves installing a command-line tool called NBIA Data Retriever that reads the \"manifest\" files and downloads the corresponding images from TCIA.  There are 2 separate manifest files (train and test) which we'll need to open with the NBIA Data Retriever.  If there are any network hiccups or other issues the Data Retriever will automatically retry downloading the affected scans.  \n",
        "\n",
        "### Understanding the DICOM organization and available metadata\n",
        "The NBIA Data Retriever download directory will contain a file called **metadata.csv** which contains one row per DICOM scan/series.  Columns include a wide variety of DICOM metadata of potential use including Patient IDs, Study UIDs, Series UIDs, Study Descriptions, Study Dates, Series Descriptions, Image Modality, Scanner Manufacturer, Number of Images per Scan and more.\n",
        "\n",
        "All image data will be saved in the following directory structure:\n",
        "\n",
        "* Collection Name \n",
        "* Patient ID \n",
        "* part of Study Date + part of Study ID + part of Study Description + last 5 digits of Study Instance UID \n",
        "* part of Series Number + part of Series Description + last 5 digits of Series Instance UID \n",
        "\n",
        "The DICOM files in each series folder are first ordered by ordinal position of acquisition number and then by ordinal position of instance number. The files are then assigned numbers with the lowest acquisition being 1 and the lowest instance number within that acquisition being 1, separated by a dash. The numbers are incremented by 1 as the next values are encountered. All values are left-padded with zeros to provide for the ordering within the file system. \n",
        "\n",
        "As an example, a series with 2 acquisition numbers with each acquisition having 42 instance numbers would start with 1-01.dcm for the lowest acquisition number and the lowest instance number in that acquisition. The last file in that acquisition would be 1-42.dcm.  Then the second acquisition would start with 2-01.dcm, ending with 2-42.dcm, in that acquisition. For the purposes of ordering, an empty value in either acquisition number or instance number is lower than a file having a value for those number."
      ]
    },
    {
      "cell_type": "code",
      "metadata": {
        "id": "B714bOkDk8kd"
      },
      "source": [
        "# install NBIA Data Retriever software for downloading images \n",
        "!mkdir /usr/share/desktop-directories/\n",
        "!wget -P /content/NBIA-Data-Retriever https://cbiit-download.nci.nih.gov/nbia/releases/ForTCIA/NBIADataRetriever_4.2/nbia-data-retriever-4.2.deb\n",
        "!dpkg -i /content/NBIA-Data-Retriever/nbia-data-retriever-4.2.deb\n",
        "\n",
        "# NOTE: If you're running this notebook on something that doesn't support .deb packages you can also try changing the wget line above to point to\n",
        "#       https://cbiit-download.nci.nih.gov/nbia/releases/ForTCIA/NBIADataRetriever_4.2/NBIADataRetriever-4.2-1.x86_64.rpm\n",
        "#       Currently it is not possible to use the command line version of the Data Retriever on Mac or Windows, but you can install a GUI version using\n",
        "#       MAC: https://apps.apple.com/us/app/downloader-app/id1399207860?mt=12\n",
        "#       Windows: https://cbiit-download.nci.nih.gov/nbia/releases/ForTCIA/NBIADataRetriever_4.2/NBIA%20Data%20Retriever-4.2.msi"
      ],
      "execution_count": null,
      "outputs": []
    },
    {
      "cell_type": "code",
      "source": [
        "# download the manifest for the DICOM training dataset\n",
        "!wget -O /content/PROSTATEx/Train/PROSTATEx-Train.tcia https://wiki.cancerimagingarchive.net/download/attachments/23691656/PROSTATEx-train.tcia?version=1&modificationDate=1534787030035&api=v2\n",
        "\n",
        "# download the manifest for the DICOM test dataset\n",
        "!wget -O /content/PROSTATEx/Test/PROSTATEx-Test.tcia https://wiki.cancerimagingarchive.net/download/attachments/23691656/PROSTATEx-test.tcia?version=1&modificationDate=1534787450806&api=v2"
      ],
      "metadata": {
        "id": "XnrumwBPn9OM"
      },
      "execution_count": null,
      "outputs": []
    },
    {
      "cell_type": "code",
      "source": [
        "# create copy of DICOM training manifest with only 1st 10 scans for testing purposes\n",
        "!head -n 16 /content/PROSTATEx/Train/PROSTATEx-Train.tcia > /content/PROSTATEx/Train/PROSTATEx-Train-Sample.tcia\n",
        "\n",
        "# create copy of DICOM testing manifest with only 1st 10 scans for testing purposes\n",
        "!head -n 16 /content/PROSTATEx/Test/PROSTATEx-Test.tcia > /content/PROSTATEx/Test/PROSTATEx-Test-Sample.tcia\n"
      ],
      "metadata": {
        "id": "JyW6okqjLiHv"
      },
      "execution_count": null,
      "outputs": []
    },
    {
      "cell_type": "code",
      "source": [
        "# Start by downloading the sample (1st 10 training cases) before uncommenting and downloading the full cohort in the steps below\n",
        "# NOTE: user will have to click to activate the cell below and type \"y\" to agree to the data usage policy and initiate the download\n",
        "\n",
        "!/opt/nbia-data-retriever/nbia-data-retriever --cli /content/PROSTATEx/Train/PROSTATEx-Train-Sample.tcia -d /content/PROSTATEx/Train/DICOM/"
      ],
      "metadata": {
        "id": "Uqt5LCDxPlFu"
      },
      "execution_count": null,
      "outputs": []
    },
    {
      "cell_type": "code",
      "source": [
        "# Start by downloading the sample (1st 10 test cases) before uncommenting and downloading the full cohort in the steps below\n",
        "# NOTE: user will have to click to activate the cell below and type \"y\" to agree to the data usage policy and initiate the download\n",
        "\n",
        "!/opt/nbia-data-retriever/nbia-data-retriever --cli /content/PROSTATEx/Test/PROSTATEx-Test-Sample.tcia -d /content/PROSTATEx/Test/DICOM/"
      ],
      "metadata": {
        "id": "HWH2ZX-rPkOM"
      },
      "execution_count": null,
      "outputs": []
    },
    {
      "cell_type": "code",
      "metadata": {
        "id": "It1qbCTNlAxW"
      },
      "source": [
        "# execute the download of the Training Cohort using the name of the file you saved earlier\n",
        "# NOTE: user will have to click to activate the cell below and type \"y\" to agree to the data usage policy and initiate the download\n",
        "# NOTE: This may take several hours while <x gbytes are downloaded>.  Please verify you have enough disk space before starting.\n",
        "\n",
        "#!/opt/nbia-data-retriever/nbia-data-retriever --cli /content/PROSTATEx/Train/PROSTATEx-Train.tcia -d /content/PROSTATEx/Train/DICOM/"
      ],
      "execution_count": null,
      "outputs": []
    },
    {
      "cell_type": "code",
      "source": [
        "# execute the download of the Test Cohort using the name of the file you saved earlier\n",
        "# NOTE: user will have to activate the cell below and type \"y\" to agree to the data usage policy and initiate the download\n",
        "# NOTE: This may take several hours while <x gbytes are downloaded>. Please verify you have enough disk space before starting.\n",
        "\n",
        "#!/opt/nbia-data-retriever/nbia-data-retriever --cli /content/PROSTATEx/Test/PROSTATEx-Test.tcia -d /content/PROSTATEx/Test/DICOM/"
      ],
      "metadata": {
        "id": "oM3OJHOWTfFb"
      },
      "execution_count": null,
      "outputs": []
    },
    {
      "cell_type": "markdown",
      "source": [
        "# MONAI Section!! Insert your next steps here and let me know if you have any questions."
      ],
      "metadata": {
        "id": "Bbf2CmuBsiW1"
      }
    },
    {
      "cell_type": "code",
      "source": [
        "## import DICOM metadata from the metadata.csv?\n",
        "\n"
      ],
      "metadata": {
        "id": "L9wOksKC99CG"
      },
      "execution_count": null,
      "outputs": []
    }
  ]
}