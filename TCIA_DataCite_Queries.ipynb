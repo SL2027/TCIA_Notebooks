{
  "cells": [
    {
      "cell_type": "markdown",
      "source": [
        "You can download and run this notebook locally, or you can run it for free in a cloud environment using Google Colab or Amazon Sagemaker Studio Lab:\n",
        "\n",
        "[![Open In Colab](https://colab.research.google.com/assets/colab-badge.svg)](https://colab.research.google.com/github/kirbyju/tcia_utils/blob/main/TCIA_DataCite_Queries.ipynb)\n",
        "\n",
        "[![Open In SageMaker Studio Lab](https://studiolab.sagemaker.aws/studiolab.svg)](https://studiolab.sagemaker.aws/import/github.com/kirbyju/tcia_utils/blob/main/TCIA_DataCite_Queries.ipynb)"
      ],
      "metadata": {
        "id": "cpb6dbKi6s4v"
      }
    },
    {
      "cell_type": "markdown",
      "metadata": {
        "id": "KmXfYFZtja2F"
      },
      "source": [
        "# Summary\n",
        "\n",
        "Access to large, high-quality datasets is essential for researchers to understand disease and precision medicine pathways, especially in cancer. However, HIPAA constraints make sharing medical images outside an individual institution complex. [The Cancer Imaging Archive (TCIA)](https://www.cancerimagingarchive.net/) is a public service funded by the National Cancer Institute that addresses this challenge by providing hosting and de-identification services that take major burdens of data sharing off researchers. \n",
        "\n",
        "**This notebook provides documentation for using the DataCite module of [tcia-utils](https://pypi.org/project/tcia-utils/), which is a package that contains functions to simplify common tasks one might perform when interacting with The Cancer Imaging Archive (TCIA) via Python.**  If you're interested in additional TCIA notebooks and coding examples, check out the tutorials at https://github.com/kirbyju/TCIA_Notebooks."
      ]
    },
    {
      "cell_type": "markdown",
      "metadata": {
        "id": "AruUGe3lmjkh"
      },
      "source": [
        "# 1. Introduction\n",
        "TCIA issues a Digital Object Identifier (DOI) for each of its datasets through [DataCite](https://datacite.org/value.html).  The [DataCite API](https://wiki.cancerimagingarchive.net/x/YwD5BQ) can be used to programmatically access Collection metadata such as their DOI URL, title, publication date, licensing information and abstract. \n",
        "\n",
        "Please note that **this API was not developed by TCIA.** See https://support.datacite.org/ for any technical questions.  The TCIA Helpdesk may be able to assist if your inquiry is related to the content of the data itself. \n",
        "\n"
      ]
    },
    {
      "cell_type": "markdown",
      "metadata": {
        "id": "bqulqBEDMSS6"
      },
      "source": [
        "# 2. tcia_utils Overview and Installation\n",
        "\n",
        "The following cells install and import the DataCite module from [**tcia_utils**](https://pypi.org/project/tcia-utils/).\n"
      ]
    },
    {
      "cell_type": "code",
      "execution_count": null,
      "metadata": {
        "id": "p3zEqnxi9rk2"
      },
      "outputs": [],
      "source": [
        "!pip install pip --upgrade -q\n",
        "!pip install tcia-utils --upgrade -q\n",
        "!pip install pandas --upgrade -q"
      ]
    },
    {
      "cell_type": "code",
      "execution_count": null,
      "metadata": {
        "id": "zP4VRfgg-QXU"
      },
      "outputs": [],
      "source": [
        "import requests\n",
        "import pandas as pd\n",
        "from tcia_utils import datacite"
      ]
    },
    {
      "cell_type": "markdown",
      "source": [
        "# 3. DataCite Query Examples\n"
      ],
      "metadata": {
        "id": "wTSE85EQGmzD"
      }
    },
    {
      "cell_type": "markdown",
      "source": [
        "The datacite module contains a single function called **getDOI()**.  This returns metadata for one or more DOIs based on your query parameters.  It returns all TCIA DOIs in **JSON** format if no parameters are specified.\n"
      ],
      "metadata": {
        "id": "-CqMm3tIJ2Fb"
      }
    },
    {
      "cell_type": "code",
      "source": [
        "datacite.getDoi()"
      ],
      "metadata": {
        "id": "jeiV5HOwJ2nH"
      },
      "execution_count": null,
      "outputs": []
    },
    {
      "cell_type": "markdown",
      "source": [
        "Using the **format** parameter allows you to return a dataframe or save a CSV spreadsheet for the DOI records."
      ],
      "metadata": {
        "id": "nlRxiHFSKbjI"
      }
    },
    {
      "cell_type": "code",
      "source": [
        "datacite.getDoi(format = \"df\")"
      ],
      "metadata": {
        "id": "tCRcMYY4KY9b"
      },
      "execution_count": null,
      "outputs": []
    },
    {
      "cell_type": "markdown",
      "source": [
        "Using the **query** parameter searches most metadata fields DataCite uses. Let's say that we were interested to find all TCIA datasets that mention \"lung\" in their titles or abstracts and save the output to a CSV file."
      ],
      "metadata": {
        "id": "2lImNYLvK9au"
      }
    },
    {
      "cell_type": "code",
      "source": [
        "datacite.getDoi(query = \"lung\", format = \"csv\")"
      ],
      "metadata": {
        "id": "ySMbB_ahK9LN"
      },
      "execution_count": null,
      "outputs": []
    },
    {
      "cell_type": "markdown",
      "source": [
        "The **created** parameter lets you filter by the date the DOI was created.  It expects a 4 digit year."
      ],
      "metadata": {
        "id": "Kun_JsXDLVjt"
      }
    },
    {
      "cell_type": "code",
      "source": [
        "datacite.getDoi(created = 2022, format = \"df\")"
      ],
      "metadata": {
        "id": "FfCcuHNWLV-C"
      },
      "execution_count": null,
      "outputs": []
    },
    {
      "cell_type": "markdown",
      "source": [
        "The **license** parameter requires an exact match. Most of our datasets are Creative Commons Attribution licenses. The \"nc\" variants that prevent commercial use are no longer an option for new datasets in TCIA, but there are a handful that used this before the policy changed.  Datasets using the NCTN Data Archive and TCIA Limited Access licenses both require signing data use agreements, but the others do not require special agreements or creating an account.\n",
        "\n",
        "**Note:** Some of the license data is not populated for datasets, and in other cases there are minor differences in the names of the license.  We are working to fix this issue."
      ],
      "metadata": {
        "id": "NN3tA768Lm84"
      }
    },
    {
      "cell_type": "code",
      "source": [
        "datacite.getDoi(license = \"NCTN Data Archive License\", format = \"df\")"
      ],
      "metadata": {
        "id": "gVLeaB0ULmwi"
      },
      "execution_count": null,
      "outputs": []
    },
    {
      "cell_type": "markdown",
      "metadata": {
        "id": "DYXsNGcY93B8"
      },
      "source": [
        "# Acknowledgements\n",
        "TCIA is funded by the [Cancer Imaging Program (CIP)](https://imaging.cancer.gov/), a part of the United States [National Cancer Institute (NCI)](https://www.cancer.gov/).  It is managed by the [Frederick National Laboratory for Cancer Research (FNLCR)](https://frederick.cancer.gov/) and hosted by the [University of Arkansas for Medical Sciences (UAMS)](https://www.uams.edu/)\n",
        "\n",
        "This notebook was created by [Justin Kirby](https://www.linkedin.com/in/justinkirby82/). If you leverage this notebook or any TCIA datasets in your work, please be sure to comply with the [TCIA Data Usage Policy](https://wiki.cancerimagingarchive.net/x/c4hF). In particular, make sure to cite the DOI(s) for the specific TCIA datasets you used in addition to the following paper!\n",
        "\n",
        "## TCIA Citation\n",
        "\n",
        "Clark, K., Vendt, B., Smith, K., Freymann, J., Kirby, J., Koppel, P., Moore, S., Phillips, S., Maffitt, D., Pringle, M., Tarbox, L., & Prior, F. (2013). The Cancer Imaging Archive (TCIA): Maintaining and Operating a Public Information Repository. Journal of Digital Imaging, 26(6), 1045–1057. https://doi.org/10.1007/s10278-013-9622-7"
      ]
    }
  ],
  "metadata": {
    "colab": {
      "provenance": []
    },
    "kernelspec": {
      "display_name": "Python 3",
      "name": "python3"
    },
    "language_info": {
      "name": "python"
    }
  },
  "nbformat": 4,
  "nbformat_minor": 0
}