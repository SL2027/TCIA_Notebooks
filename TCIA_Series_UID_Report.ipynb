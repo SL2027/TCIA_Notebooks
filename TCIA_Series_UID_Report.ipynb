{
  "nbformat": 4,
  "nbformat_minor": 0,
  "metadata": {
    "colab": {
      "provenance": [],
      "include_colab_link": true
    },
    "kernelspec": {
      "name": "python3",
      "display_name": "Python 3"
    },
    "language_info": {
      "name": "python"
    }
  },
  "cells": [
    {
      "cell_type": "markdown",
      "metadata": {
        "id": "view-in-github",
        "colab_type": "text"
      },
      "source": [
        "<a href=\"https://colab.research.google.com/github/kirbyju/TCIA_Notebooks/blob/main/TCIA_Series_UID_Report.ipynb\" target=\"_parent\"><img src=\"https://colab.research.google.com/assets/colab-badge.svg\" alt=\"Open In Colab\"/></a>"
      ]
    },
    {
      "cell_type": "markdown",
      "source": [
        "# Summary\n",
        "\n",
        "This notebook can be used to summarize TCIA data given a set of Series Instance UIDs (e.g. from a TCIA manifest file). The output includes:\n",
        "\n",
        "1.   A detailed report (CSV) containing the Collection Name, Subject ID,\tStudy UID,\tStudy Description,\tStudy Date,\tSeries UID,\tSeries Description,\tNumber of Images,\tFile Size (Bytes), Modality and\tManufacturer for each scan\n",
        "2.   A report summarizing how many Patients/Studies/Series/Images are represented along with a breakdown of collections, modalities, body parts and manufacturers that are included\n",
        "\n",
        "You can import Series UIDs into the notebook in following ways:\n",
        "\n",
        "1.   Upload a TCIA manifest file.\n",
        "2.   Use wget with the URL of manifest file on TCIA.\n",
        "3.   Upload a text file with a list of Series UIDS (one per row)."
      ],
      "metadata": {
        "id": "KmXfYFZtja2F"
      }
    },
    {
      "cell_type": "markdown",
      "source": [
        "# 1 Create a Credential File and Token\n",
        "To ensure you can obtain info about all series UIDs in your list, you must provide your TCIA login/password and create a token using the following steps.\n",
        "\n",
        "\n",
        "\n",
        "\n"
      ],
      "metadata": {
        "id": "2uMbL1nwIJ5f"
      }
    },
    {
      "cell_type": "code",
      "source": [
        "# Create the credential file\n",
        "# NOTE: You must enter your real user name and password before you run this,\n",
        "# or edit the resulting text file with your real credentials after it's created.\n",
        "\n",
        "lines = ['userName=YourUserName', 'passWord=YourPassword']\n",
        "with open('credentials.txt', 'w') as f:\n",
        "    f.write('\\n'.join(lines))"
      ],
      "metadata": {
        "id": "WWRfMGQJmyjR"
      },
      "execution_count": null,
      "outputs": []
    },
    {
      "cell_type": "markdown",
      "source": [
        "After the file is created, you can find it by clicking the folder icon in the left sidebar. Double click to edit the file, enter your login credentials, and then close it to save the file before proceeding to the next step."
      ],
      "metadata": {
        "id": "5Oo7obML6ttA"
      }
    },
    {
      "cell_type": "code",
      "source": [
        "# extract the user/pw from the credential file to variables for use in subsequent API calls and downloads          \n",
        "\n",
        "credentialFilePath = 'credentials.txt'\n",
        "mylines = []                                  \n",
        "with open (credentialFilePath, 'rt') as myfile: \n",
        "    for myline in myfile:                     \n",
        "        mylines.append(myline)   \n",
        "\n",
        "userName = mylines[0].rstrip('\\n').split(r'userName=')[1]\n",
        "passWord = mylines[1].rstrip('\\n').split(r'passWord=')[1] "
      ],
      "metadata": {
        "id": "xT5XMXiXl5nV"
      },
      "execution_count": null,
      "outputs": []
    },
    {
      "cell_type": "markdown",
      "source": [
        "Now we'll use the credential file you created to generate an access token to query restricted collections on TCIA.  \n",
        "\n",
        "_**Note:**_ Tokens are valid for two hours and must be refreshed after that point. See https://wiki.cancerimagingarchive.net/x/X4ATBg for more details. "
      ],
      "metadata": {
        "id": "l0piv_H6DM9U"
      }
    },
    {
      "cell_type": "code",
      "source": [
        "# imports\n",
        "\n",
        "import requests\n",
        "import pandas as pd\n",
        "import io\n",
        "\n",
        "# set API URL\n",
        "base_url = \"https://services.cancerimagingarchive.net/nbia-api/services/v2/\"\n",
        "adv_url = \"https://services.cancerimagingarchive.net/nbia-api/services/\""
      ],
      "metadata": {
        "id": "RoJJAIsqNV75"
      },
      "execution_count": null,
      "outputs": []
    },
    {
      "cell_type": "code",
      "source": [
        "# request token\n",
        "\n",
        "token_url = \"https://services.cancerimagingarchive.net/nbia-api/oauth/token?username=\"+userName+\"&password=\"+passWord+\"&grant_type=password&client_id=nbiaRestAPIClient&client_secret=ItsBetweenUAndMe\"\n",
        "access_token = requests.get(token_url).json()[\"access_token\"]\n",
        "print ('Token created successfully: ', access_token)\n",
        "\n",
        "# set API call headers to use the access token we created\n",
        "api_call_headers = {'Authorization': 'Bearer ' + access_token}"
      ],
      "metadata": {
        "id": "HG7pKnpGR74G"
      },
      "execution_count": null,
      "outputs": []
    },
    {
      "cell_type": "markdown",
      "source": [
        "# Import Series UID file \n",
        "\n",
        "_**The file must contain only Series Instance UIDS with one UID per line (no commas).**_\n",
        "\n",
        "To import a file directly to Colab, use the menu on the left sidebar to upload it.  Once it's uploaded, right click and rename it to \"series-uids.txt.\"\n",
        "\n",
        "To import a file already posted on TCIA, use the WGET command in the next cell by updating it with the URL of the manifest you want to analyze.  "
      ],
      "metadata": {
        "id": "0EdHnIZTF3Xt"
      }
    },
    {
      "cell_type": "code",
      "source": [
        "# optional: use wget to download the manifest\n",
        "# replace the URL: wget -O /directory_path/series-uids.txt https://URL_on_TCIA/manifest.tcia\n",
        "\n",
        "!wget -O /content/series-uids.txt https://wiki.cancerimagingarchive.net/download/attachments/52757630/CrowdsCureCancer2018-DICOM.TCIA?api=v2"
      ],
      "metadata": {
        "id": "pAtUWEcSHiO5"
      },
      "execution_count": null,
      "outputs": []
    },
    {
      "cell_type": "markdown",
      "source": [
        "If using a TCIA manifest file, run the step below to remove the header (six lines of text that precede the UID list). You can skip this if you have created a custom UID file in some other application like Excel.  "
      ],
      "metadata": {
        "id": "J4zFC_J1Q4EU"
      }
    },
    {
      "cell_type": "code",
      "source": [
        "with open('series-uids.txt') as f:\n",
        "    first_line = f.readline()\n",
        "\n",
        "if \"downloadServerUrl\" in first_line:\n",
        "    !sed -i -e 1,6d /content/series-uids.txt\n",
        "    print(\"Header text removed.\")\n",
        "else:\n",
        "    print(\"This is not a TCIA manifest file, or you've already removed the header lines.\")"
      ],
      "metadata": {
        "id": "sYmLKYOIJeFq"
      },
      "execution_count": null,
      "outputs": []
    },
    {
      "cell_type": "markdown",
      "source": [
        "# Read the File\n",
        "\n",
        "Read the series-uid.txt file for analysis in subsequent steps."
      ],
      "metadata": {
        "id": "y1IJRFB9TqSo"
      }
    },
    {
      "cell_type": "code",
      "source": [
        "# initialize variable\n",
        "uids = []\n",
        "\n",
        "# save series to \"uids\" variable (used for option #2)\n",
        "with open(\"series-uids.txt\") as file:\n",
        "    for line in file:\n",
        "        uids.append(line.rstrip())\n",
        "\n",
        "# create \"csvUids\" variable to add commas to submit to the API for option #1\n",
        "csvUids = \",\".join(uids)\n",
        "print(csvUids)"
      ],
      "metadata": {
        "id": "Sgor2VaLTvoH"
      },
      "execution_count": null,
      "outputs": []
    },
    {
      "cell_type": "markdown",
      "source": [
        "# Create a Report of Series Metadata (Option 1)\n",
        "\n",
        "Create \"scan_metadata.csv\" containing the Collection Name, Subject ID, Study UID, Study Description, Study Date, Series UID, Series Description, Number of images, File Size (Bytes), Modality and Manufacturer for each scan.\n",
        "\n",
        "**Note: This report is the fastest to complete if you only need the aforementioned columns in the report.**"
      ],
      "metadata": {
        "id": "pGDqJrkmNPJL"
      }
    },
    {
      "cell_type": "code",
      "source": [
        "try:\n",
        "    # get series metadata from API\n",
        "    param = {'list': csvUids}\n",
        "    data_url = adv_url + \"getSeriesMetadata2\"\n",
        "    data = requests.post(data_url, headers = api_call_headers, data = param)\n",
        "\n",
        "    # save output\n",
        "    df = pd.read_csv(io.StringIO(data.text), sep=',')\n",
        "    df.to_csv('scan_metadata.csv')\n",
        "    print(\"Metadata report saved successfully\")\n",
        "\n",
        "    # optional: display sample of csv\n",
        "    display(df)\n",
        "\n",
        "except requests.exceptions.HTTPError as errh:\n",
        "    print(errh)\n",
        "except requests.exceptions.ConnectionError as errc:\n",
        "    print(errc)\n",
        "except requests.exceptions.Timeout as errt:\n",
        "    print(errt)\n",
        "except requests.exceptions.RequestException as err:\n",
        "    print(err)"
      ],
      "metadata": {
        "id": "qlRCX3KeNPyk"
      },
      "execution_count": null,
      "outputs": []
    },
    {
      "cell_type": "markdown",
      "source": [
        "# Create a Report of Series Metadata with DOIs and Licenses (Option 2)\n",
        "\n",
        "This report will take more time to complete, especially with large manifests, but includes additional columns that are not available in option 1, including Data Description URI, SOP Class UID, License Name\tand License URL."
      ],
      "metadata": {
        "id": "14deJO42u231"
      }
    },
    {
      "cell_type": "code",
      "source": [
        "try:\n",
        "    # create dataframe/csv by calling getSeriesMetaData for each UID\n",
        "    df = pd.DataFrame()\n",
        "    seriesUID = ''\n",
        "    for x in uids:\n",
        "        seriesUID = x\n",
        "        metadata_url = base_url + \"getSeriesMetaData?SeriesInstanceUID=\" + seriesUID\n",
        "        metadata = requests.get(metadata_url, headers = api_call_headers).json()\n",
        "        newRow = pd.DataFrame.from_dict(metadata)\n",
        "        tmpManifest = pd.concat([df, newRow], ignore_index = True)\n",
        "        tmpManifest.reset_index()\n",
        "        df = tmpManifest\n",
        "        \n",
        "    df.to_csv('scan_metadata_with_DOIs_Licenses.csv')\n",
        "    display(df)\n",
        "\n",
        "except requests.exceptions.HTTPError as errh:\n",
        "    print(errh)\n",
        "except requests.exceptions.ConnectionError as errc:\n",
        "    print(errc)\n",
        "except requests.exceptions.Timeout as errt:\n",
        "    print(errt)\n",
        "except requests.exceptions.RequestException as err:\n",
        "    print(err)"
      ],
      "metadata": {
        "id": "Uzz92tLDu2Ri"
      },
      "execution_count": null,
      "outputs": []
    },
    {
      "cell_type": "markdown",
      "source": [
        "# Create a Summary of Collections, Patients, Modalities, Body Parts, and Manufacturers"
      ],
      "metadata": {
        "id": "YCaRjHhMNKi7"
      }
    },
    {
      "cell_type": "code",
      "source": [
        "# Summarize Collections\n",
        "print(\"Number of Series per Collection:\")\n",
        "print(df['Collection Name'].value_counts(dropna=False),'\\n')\n",
        "\n",
        "# Summarize patients\n",
        "print('Patient/Study/Series Counts\\n')\n",
        "print('Subjects: ', len(df['Subject ID'].value_counts()), 'subjects')\n",
        "print('Subjects: ', len(df['Study UID'].value_counts()), 'studies')\n",
        "print('Subjects: ', len(df['Series ID'].value_counts()), 'series')\n",
        "print('Images: ', df['Number of images'].sum(), 'images\\n')\n",
        "\n",
        "# Summarize modalities\n",
        "print(\"Series Counts - Modalities:\")\n",
        "print(df['Modality'].value_counts(dropna=False),'\\n')\n",
        "\n",
        "# Summarize manufacturers\n",
        "print(\"Series Counts - Device Manufacturers:\")\n",
        "print(df['Manufacturer'].value_counts(dropna=False))"
      ],
      "metadata": {
        "id": "cDLsJKsRF3Xu"
      },
      "execution_count": null,
      "outputs": []
    },
    {
      "cell_type": "markdown",
      "source": [
        "# Acknowledgements\n",
        "TCIA is funded by the [Cancer Imaging Program (CIP)](https://imaging.cancer.gov/), a part of the United States [National Cancer Institute (NCI)](https://www.cancer.gov/), and is managed by the [Frederick National Laboratory for Cancer Research (FNLCR)](https://frederick.cancer.gov/).\n",
        "\n",
        "This notebook was created by [Justin Kirby](https://www.linkedin.com/in/justinkirby82/).  If you leverage this notebook or any TCIA datasets in your work, please be sure to comply with the [TCIA Data Usage Policy](https://wiki.cancerimagingarchive.net/x/c4hF). In particular, make sure to cite the DOI(s) for the specific TCIA datasets you used in addition to the following paper!\n",
        "\n",
        "## TCIA Citation\n",
        "\n",
        "Clark, K., Vendt, B., Smith, K., Freymann, J., Kirby, J., Koppel, P., Moore, S., Phillips, S., Maffitt, D., Pringle, M., Tarbox, L., & Prior, F. (2013). The Cancer Imaging Archive (TCIA): Maintaining and Operating a Public Information Repository. Journal of Digital Imaging, 26(6), 1045–1057. https://doi.org/10.1007/s10278-013-9622-7"
      ],
      "metadata": {
        "id": "DYXsNGcY93B8"
      }
    }
  ]
}