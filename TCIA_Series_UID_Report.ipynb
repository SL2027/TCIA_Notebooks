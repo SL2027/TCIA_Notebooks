{
  "nbformat": 4,
  "nbformat_minor": 0,
  "metadata": {
    "colab": {
      "provenance": [],
      "toc_visible": true,
      "include_colab_link": true
    },
    "kernelspec": {
      "name": "python3",
      "display_name": "Python 3"
    },
    "language_info": {
      "name": "python"
    }
  },
  "cells": [
    {
      "cell_type": "markdown",
      "metadata": {
        "id": "view-in-github",
        "colab_type": "text"
      },
      "source": [
        "<a href=\"https://colab.research.google.com/github/kirbyju/TCIA_Notebooks/blob/main/TCIA_Series_UID_Report.ipynb\" target=\"_parent\"><img src=\"https://colab.research.google.com/assets/colab-badge.svg\" alt=\"Open In Colab\"/></a>"
      ]
    },
    {
      "cell_type": "markdown",
      "source": [
        "# Summary\n",
        "\n",
        "This notebook can be used to generate reports about TCIA data given a list of Series Instance UIDs.  The series UIDs can come from a TCIA manifest file or text file (one Series UID per row). The output options include:\n",
        "\n",
        "1. A report containing the Collection Name, Subject ID,\tStudy UID,\tStudy Description,\tStudy Date,\tSeries UID,\tSeries Description,\tNumber of Images,\tFile Size (Bytes), Modality, and Manufacturer for each series\n",
        "2.   A report that contains those columns plus Data Description URI (DOI), SOP Class UID, License Name, and License URL.  However, this report takes significantly longer to run."
      ],
      "metadata": {
        "id": "KmXfYFZtja2F"
      }
    },
    {
      "cell_type": "markdown",
      "source": [
        "# 1 Import tcia_utils\n",
        "\n",
        "The following cells import [**tcia_utils**](https://github.com/kirbyju/TCIA_Notebooks/raw/main/tcia_utils.py) which contain a variety of useful functions for accessing TCIA via Jupyter/Python."
      ],
      "metadata": {
        "id": "bqulqBEDMSS6"
      }
    },
    {
      "cell_type": "code",
      "source": [
        "# imports\n",
        "import requests\n",
        "import pandas as pd\n",
        "\n",
        "# download tcia_utils\n",
        "tcia_utils_text = requests.get(\"https://github.com/kirbyju/TCIA_Notebooks/raw/main/tcia_utils.py\")\n",
        "with open('tcia_utils.py', 'wb') as f:\n",
        "    f.write(tcia_utils_text.content)"
      ],
      "metadata": {
        "id": "p3zEqnxi9rk2"
      },
      "execution_count": null,
      "outputs": []
    },
    {
      "cell_type": "code",
      "source": [
        "import tcia_utils as tcia"
      ],
      "metadata": {
        "id": "zP4VRfgg-QXU"
      },
      "execution_count": null,
      "outputs": []
    },
    {
      "cell_type": "markdown",
      "source": [
        "# 2 Create a Token\n",
        "To ensure you can obtain info about all Series UIDs in your list, you must enter your TCIA login/password to create a token.\n",
        "\n",
        "\n",
        "\n",
        "\n"
      ],
      "metadata": {
        "id": "2uMbL1nwIJ5f"
      }
    },
    {
      "cell_type": "code",
      "source": [
        "tcia.getToken()"
      ],
      "metadata": {
        "id": "jgn4YvSa9GBZ"
      },
      "execution_count": null,
      "outputs": []
    },
    {
      "cell_type": "markdown",
      "source": [
        "# 3 Import Series UIDs \n",
        "\n",
        "If you already have the file containing your series UIDs saved on the machine where this notebook is running you can skip this step. Otherwise:\n",
        "\n",
        "1. To import a file to Colab from your hard drive, use the menu on the left sidebar to upload it. \n",
        "2. To import a file from the web (e.g. TCIA), use the command in the next cell by updating it with the URL of the file you want to analyze.  \n",
        "\n"
      ],
      "metadata": {
        "id": "0EdHnIZTF3Xt"
      }
    },
    {
      "cell_type": "code",
      "source": [
        "# OPTIONAL: import your UID file from the web\n",
        "url = \"https://URL_on_TCIA/manifest.tcia\"\n",
        "local_filename = \"manifest.tcia\"\n",
        "\n",
        "manifest = requests.get(url)\n",
        "with open(local_filename, 'wb') as f:\n",
        "    f.write(manifest.content)"
      ],
      "metadata": {
        "id": "jpbyz-Wi-MqK"
      },
      "execution_count": null,
      "outputs": []
    },
    {
      "cell_type": "markdown",
      "source": [
        "Next we'll read in the UIDs from your file into a python list.  If you're using a manifest file, the code below will put the Series UIDs into a list while ignoring the parameter text.  \n",
        "\n",
        "If you're using a text/csv file it will insert all rows into the list, so verify the file is formatted correctly **(one UID per row with no column header or commas)** or you may encounter errors."
      ],
      "metadata": {
        "id": "LHbh-qSHDhs3"
      }
    },
    {
      "cell_type": "code",
      "source": [
        "# enter manifest path/filename\n",
        "manifest = \"manifest.tcia\"\n",
        "\n",
        "# converts manifest to list of UIDs\n",
        "uids = tcia.manifestToList(manifest)"
      ],
      "metadata": {
        "id": "Dyvgm8VRDzG-"
      },
      "execution_count": null,
      "outputs": []
    },
    {
      "cell_type": "markdown",
      "source": [
        "# 4 Create the Report"
      ],
      "metadata": {
        "id": "ZHLc9W4Iei21"
      }
    },
    {
      "cell_type": "markdown",
      "source": [
        "## 4.1 Create a Report of Series Metadata (Option 1)\n",
        "\n",
        "This option will create **scan_metadata.csv** containing the Collection Name, Subject ID, Study UID, Study Description, Study Date, Series UID, Series Description, Number of Images, File Size (Bytes), Modality, and Manufacturer for each scan.\n",
        "\n",
        "_**Note: This report generates more quickly than option #2 and is sufficient if you don't need Data Description URI (DOI), SOP Class UID, License Name, and License URL.**_"
      ],
      "metadata": {
        "id": "pGDqJrkmNPJL"
      }
    },
    {
      "cell_type": "code",
      "source": [
        "df = tcia.getSeriesList(uids)\n",
        "display(df)"
      ],
      "metadata": {
        "id": "_sPkAPZnSYuE"
      },
      "execution_count": null,
      "outputs": []
    },
    {
      "cell_type": "markdown",
      "source": [
        "## 4.2 Create a Report of Series Metadata with DOIs and Licenses (Option 2)\n",
        "\n",
        "This option will create **scan_metadata_with_DOIs_Licenses.csv**. This report will take more time to complete, especially with large manifests, but includes additional columns that are not available in Option 1, including Data Description URI (DOI), SOP Class UID, License Name,\tand License URL."
      ],
      "metadata": {
        "id": "14deJO42u231"
      }
    },
    {
      "cell_type": "code",
      "source": [
        "df = pd.DataFrame()\n",
        "count = 0\n",
        "total = len(uids)\n",
        "\n",
        "for seriesUid in uids:\n",
        "    metadata = tcia.getSeriesMetadata(seriesUid, api_url = \"restricted\")\n",
        "    df = pd.concat([df, pd.DataFrame(metadata)], ignore_index=True)\n",
        "    count += 1;\n",
        "    print('Completed', count, 'out of', total, 'series.')\n",
        "        \n",
        "df.to_csv('scan_metadata_with_DOIs_Licenses.csv')\n",
        "display(df)"
      ],
      "metadata": {
        "id": "Uzz92tLDu2Ri"
      },
      "execution_count": null,
      "outputs": []
    },
    {
      "cell_type": "markdown",
      "source": [
        "# Acknowledgements\n",
        "TCIA is funded by the [Cancer Imaging Program (CIP)](https://imaging.cancer.gov/), a part of the United States [National Cancer Institute (NCI)](https://www.cancer.gov/), and is managed by the [Frederick National Laboratory for Cancer Research (FNLCR)](https://frederick.cancer.gov/).\n",
        "\n",
        "This notebook was created by [Justin Kirby](https://www.linkedin.com/in/justinkirby82/).  If you leverage this notebook or any TCIA datasets in your work, please be sure to comply with the [TCIA Data Usage Policy](https://wiki.cancerimagingarchive.net/x/c4hF). In particular, make sure to cite the DOI(s) for the specific TCIA datasets you used in addition to the following paper!\n",
        "\n",
        "## TCIA Citation\n",
        "\n",
        "Clark, K., Vendt, B., Smith, K., Freymann, J., Kirby, J., Koppel, P., Moore, S., Phillips, S., Maffitt, D., Pringle, M., Tarbox, L., & Prior, F. (2013). The Cancer Imaging Archive (TCIA): Maintaining and Operating a Public Information Repository. Journal of Digital Imaging, 26(6), 1045–1057. https://doi.org/10.1007/s10278-013-9622-7"
      ],
      "metadata": {
        "id": "DYXsNGcY93B8"
      }
    }
  ]
}