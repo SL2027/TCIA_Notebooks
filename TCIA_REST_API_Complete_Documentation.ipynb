{
 "cells": [
  {
   "cell_type": "markdown",
   "id": "7818862e-a548-438f-9127-d0bf808138ee",
   "metadata": {
    "id": "KmXfYFZtja2F",
    "jp-MarkdownHeadingCollapsed": true,
    "tags": []
   },
   "source": [
    "You can download and run this notebook locally, or you can run it for free in a cloud environment using Colab or Sagemaker Studio Lab:\n",
    "\n",
    "[![Open In Colab](https://colab.research.google.com/assets/colab-badge.svg)](https://colab.research.google.com/github.com/SL2027/TCIA_Notebooks/blob/main/TCIA_REST_API_Complete_Documentation.ipynb)\n",
    "\n",
    "[![Open In SageMaker Studio Lab](https://studiolab.sagemaker.aws/studiolab.svg)](https://studiolab.sagemaker.aws/import/github.com/SL2027/TCIA_Notebooks/blob/main/TCIA_REST_API_Complete_Documentation.ipynb)\n",
    "\n",
    "# Summary\n",
    "\n",
    "Access to large, high-quality datasets is essential for researchers to understand disease and precision medicine pathways, especially in cancer. However, HIPAA constraints make sharing medical images outside an individual institution complex process. [The Cancer Imaging Archive (TCIA)](https://www.cancerimagingarchive.net/) is a public service funded by the National Cancer Institute which addresses this challenge by providing hosting and de-identification services to take major burdens of data sharing off researchers.\n",
    "\n",
    "# 1. Learn about Available Collections on the TCIA Website\n",
    "\n",
    "[Browsing Collections](https://www.cancerimagingarchive.net/collections) and viewing [Analysis Results](https://www.cancerimagingarchive.net/tcia-analysis-results/) of TCIA datasets are the easiest ways to become familiar with what is available. These pages will help you quickly identify datasets of interest, find valuable supporting data that are not available via our APIs (e.g. clinical spreadsheets and non-DICOM segmentation data), and answer the most common questions you might have about the datasets.\n",
    "\n",
    "# 2. REST API Overview \n",
    "TCIA uses software called NBIA to manage DICOM data. The NBIA REST APIs are provided for the search and download functions used in the TCIA radiology portal and allow access to both public and limited access collections.\n",
    "1. The [NBIA Search REST APIs](https://wiki.cancerimagingarchive.net/x/fILTB) allow you to perform basic queries and download data from **public** collections. These APIs do not require a TCIA account.\n",
    "2. The [NBIA Search with Authentication REST APIs](https://wiki.cancerimagingarchive.net/x/X4ATBg) allow you to perform basic queries and download data from **public and limited-access** collections. These APIs require a TCIA account to create authentication tokens.\n",
    "3. The [NBIA Advanced REST APIs](https://wiki.cancerimagingarchive.net/x/YoATBg) also allow access to **public and limited-access** collections, but provide query endpoints mostly geared towards developers seeking to integrate searching and downloading TCIA data into web and desktop applications. This API requires a TCIA account to create authentication tokens."
   ]
  },
  {
   "cell_type": "markdown",
   "id": "6ec425a4-dc53-4206-a851-f2def73adeaf",
   "metadata": {
    "jp-MarkdownHeadingCollapsed": true,
    "tags": []
   },
   "source": [
    "# 3. Query Functions\n",
    "\n",
    "Detailed usage of some of these functions can be found in [section 7.2](#7.2)"
   ]
  },
  {
   "cell_type": "markdown",
   "id": "4d5e78cb-ef24-46f6-b99c-99b3d642c7f6",
   "metadata": {
    "jp-MarkdownHeadingCollapsed": true,
    "tags": []
   },
   "source": [
    "## queryData\n",
    "\n",
    "**Params: (endpoint, api_url)**\n",
    "\n",
    "* Checks for valid security tokens where needed. \n",
    "* Because it is called by other functions to select base URL, ***<font color='red'>please do NOT use this function</font>***."
   ]
  },
  {
   "cell_type": "markdown",
   "id": "8dc04406-aa02-4f8e-b53e-febbf8ac369f",
   "metadata": {
    "tags": []
   },
   "source": [
    "## getCollections\n",
    "\n",
    "**Params: (api_url = \"\", format = \"\")**\n",
    "\n",
    "* *Optional: api_url, format*\n",
    "* Gets a list of collections from a specified api_url"
   ]
  },
  {
   "cell_type": "code",
   "execution_count": null,
   "id": "3184013d-9861-4eac-a2a8-a258122d6136",
   "metadata": {
    "tags": []
   },
   "outputs": [],
   "source": [
    "# If the format is not specified, it returns a JSON object.\n",
    "nbia.getCollections(, format = \"\")"
   ]
  },
  {
   "cell_type": "code",
   "execution_count": null,
   "id": "a8ffb4dc-cd18-4d19-8372-05463c04cd03",
   "metadata": {
    "tags": []
   },
   "outputs": [],
   "source": [
    "# If the format is set to \"df\", it returns a pandas dataframe object.\n",
    "nbia.getCollections(format = \"df\")"
   ]
  },
  {
   "cell_type": "code",
   "execution_count": null,
   "id": "50af422a-8ab9-49a8-aecb-4a3af3b420f9",
   "metadata": {
    "tags": []
   },
   "outputs": [],
   "source": [
    "# If the format is set to \"csv\", it saves a csv file to the workspace.\n",
    "nbia.getCollections(format = \"csv\")"
   ]
  },
  {
   "cell_type": "markdown",
   "id": "8f107040-2f95-470a-90cf-2c2240a4b202",
   "metadata": {
    "tags": []
   },
   "source": [
    "## getBodyPart\n",
    "\n",
    "**Params: (collection = \"\", modality = \"\", api_url = \"\", format = \"\")**\n",
    "\n",
    "* *Optional: api_url, format*\n",
    "* Gets Body Part Examined metadata from a specified api_url\n",
    "* Allows filtering by collection and modality"
   ]
  },
  {
   "cell_type": "code",
   "execution_count": null,
   "id": "3e9e485d-69ca-4d11-a025-ef662b1d7019",
   "metadata": {
    "tags": []
   },
   "outputs": [],
   "source": [
    "# If the format is not specified, it returns a JSON object.\n",
    "nbia.getBodyPart(collection = \"CPTAC-SAR\", modality = \"CT\", format = \"\")"
   ]
  },
  {
   "cell_type": "code",
   "execution_count": null,
   "id": "56de6089-6061-4719-b5c8-2d67293a7f37",
   "metadata": {
    "tags": []
   },
   "outputs": [],
   "source": [
    "# If the format is set to \"df\", it returns a pandas dataframe object.\n",
    "nbia.getBodyPart(collection = \"CPTAC-SAR\", modality = \"CT\", format = \"df\")"
   ]
  },
  {
   "cell_type": "code",
   "execution_count": null,
   "id": "a80bcc8b-5272-432c-8955-82ad4f31793b",
   "metadata": {
    "tags": []
   },
   "outputs": [],
   "source": [
    "# If the format is set to \"csv\", it saves a csv file to the workspace.\n",
    "nbia.getBodyPart(collection = \"CPTAC-SAR\", modality = \"CT\", format = \"csv\")"
   ]
  },
  {
   "cell_type": "markdown",
   "id": "c3051475-7f22-48c0-bb39-cb4e84f35b6f",
   "metadata": {
    "tags": []
   },
   "source": [
    "## getModality\n",
    "\n",
    "**Params: (collection = \"\", bodyPart = \"\", api_url = \"\", format = \"\")**\n",
    "\n",
    "* *Optional: api_url, format*\n",
    "* Gets Modalities metadata from a specified api_url\n",
    "* Allows filtering by collection and bodyPart"
   ]
  },
  {
   "cell_type": "code",
   "execution_count": null,
   "id": "c4de1044-294b-4917-b0a7-85c6bad2494e",
   "metadata": {
    "tags": []
   },
   "outputs": [],
   "source": [
    "# If the format is not specified, it returns a JSON object.\n",
    "nbia.getModality(collection = \"CPTAC-SAR\", bodyPart = \"EXTREMITY\", format = \"\")"
   ]
  },
  {
   "cell_type": "code",
   "execution_count": null,
   "id": "a24d641c-5ef1-4a50-b8ae-8737dcd95df6",
   "metadata": {
    "tags": []
   },
   "outputs": [],
   "source": [
    "# If the format is set to \"df\", it returns a pandas dataframe object.\n",
    "nbia.getModality(collection = \"CPTAC-SAR\", bodyPart = \"EXTREMITY\", format = \"df\")"
   ]
  },
  {
   "cell_type": "code",
   "execution_count": null,
   "id": "29ec7f4e-126a-423e-8181-c89ed636a906",
   "metadata": {
    "tags": []
   },
   "outputs": [],
   "source": [
    "# If the format is set to \"csv\", it saves a csv file to the workspace.\n",
    "nbia.getModality(collection = \"CPTAC-SAR\", bodyPart = \"EXTREMITY\", format = \"csv\")"
   ]
  },
  {
   "cell_type": "markdown",
   "id": "e38c618d-ed84-4e4b-a03d-b42bb1b17094",
   "metadata": {
    "tags": []
   },
   "source": [
    "## getPatient\n",
    "\n",
    "**Params: (collection = \"\", api_url = \"\", format = \"\")**\n",
    "\n",
    "* *Optional: api_url, format*\n",
    "* Gets Patient metadata from a specified api_url\n",
    "* Allows filtering by collection"
   ]
  },
  {
   "cell_type": "code",
   "execution_count": null,
   "id": "15d08619-5342-4e2e-bf37-e6266a2fea02",
   "metadata": {
    "tags": []
   },
   "outputs": [],
   "source": [
    "# If the format is not specified, it returns a JSON object.\n",
    "nbia.getPatient(collection = \"CPTAC-SAR\", format = \"\")"
   ]
  },
  {
   "cell_type": "code",
   "execution_count": null,
   "id": "29e4c447-b5a3-4bfa-b3bc-27fefbea1855",
   "metadata": {
    "tags": []
   },
   "outputs": [],
   "source": [
    "# If the format is set to \"df\", it returns a pandas dataframe object.\n",
    "nbia.getPatient(collection = \"CPTAC-SAR\", format = \"df\")"
   ]
  },
  {
   "cell_type": "code",
   "execution_count": null,
   "id": "d28a302c-5681-4990-bbd8-1a089e59750b",
   "metadata": {
    "tags": []
   },
   "outputs": [],
   "source": [
    "# If the format is set to \"csv\", it saves a csv file to the workspace.\n",
    "nbia.getPatient(collection = \"CPTAC-SAR\", format = \"csv\")"
   ]
  },
  {
   "cell_type": "markdown",
   "id": "baeeed3a-50f2-4c5f-ae24-fb4ed8aa55b7",
   "metadata": {
    "tags": []
   },
   "source": [
    "## getPatientByCollectionAndModality\n",
    "\n",
    "**Params: (collection, modality, api_url = \"\", format = \"\")**\n",
    "\n",
    "* *Optional: api_url, format*\n",
    "* Gets Patient IDs from a specified api_url\n",
    "* Returns a list of patient IDs"
   ]
  },
  {
   "cell_type": "code",
   "execution_count": null,
   "id": "ac22e43a-8fe3-4060-bce9-c13f489ce232",
   "metadata": {
    "tags": []
   },
   "outputs": [],
   "source": [
    "# If the format is not specified, it returns a JSON object.\n",
    "nbia.getPatientByCollectionAndModality(collection = \"CPTAC-SAR\", modality = \"CT\", format = \"\")"
   ]
  },
  {
   "cell_type": "code",
   "execution_count": null,
   "id": "cc3fd616-256c-43b4-968f-ecae767990ff",
   "metadata": {
    "tags": []
   },
   "outputs": [],
   "source": [
    "# If the format is set to \"df\", it returns a pandas dataframe object.\n",
    "nbia.getPatientByCollectionAndModality(collection = \"CPTAC-SAR\", modality = \"CT\", format = \"df\")"
   ]
  },
  {
   "cell_type": "code",
   "execution_count": null,
   "id": "48b45d0e-5405-45d8-bece-a4a1c2fd3ee7",
   "metadata": {
    "tags": []
   },
   "outputs": [],
   "source": [
    "# If the format is set to \"csv\", it saves a csv file to the workspace.\n",
    "nbia.getPatientByCollectionAndModality(collection = \"CPTAC-SAR\", modality = \"CT\", format = \"csv\")"
   ]
  },
  {
   "cell_type": "markdown",
   "id": "79f5f2b6-29d3-48ea-ad1c-b18a2abea5f5",
   "metadata": {
    "tags": []
   },
   "source": [
    "## getNewPatientsInCollection\n",
    "\n",
    "**Params: (collection, date, api_url = \"\", format = \"\")**\n",
    "\n",
    "* *Optional: api_url, format*\n",
    "* Gets \"new\" patient metadata from a specified api_url\n",
    "* The date format is YYYY/MM/DD"
   ]
  },
  {
   "cell_type": "code",
   "execution_count": null,
   "id": "0f9e7a7d-2bd7-4dd3-9f95-f5f82a45288d",
   "metadata": {
    "tags": []
   },
   "outputs": [],
   "source": [
    "# If the format is not specified, it returns a JSON object.\n",
    "nbia.getNewPatientsInCollection(collection = \"CPTAC-SAR\", date = \"2000/08/20\", format = \"\")"
   ]
  },
  {
   "cell_type": "code",
   "execution_count": null,
   "id": "e80e0d43-6bc5-44f2-8045-784177361125",
   "metadata": {
    "tags": []
   },
   "outputs": [],
   "source": [
    "# If the format is set to \"df\", it returns a pandas dataframe object.\n",
    "nbia.getNewPatientsInCollection(collection = \"CPTAC-SAR\", date = \"2000/08/20\", format = \"df\")"
   ]
  },
  {
   "cell_type": "code",
   "execution_count": null,
   "id": "abddb7bd-87de-4179-a5d6-0a0dfa731a41",
   "metadata": {
    "tags": []
   },
   "outputs": [],
   "source": [
    "# If the format is set to \"csv\", it saves a csv file to the workspace.\n",
    "nbia.getNewPatientsInCollection(collection = \"CPTAC-SAR\", date = \"2000/08/20\", format = \"csv\")"
   ]
  },
  {
   "cell_type": "markdown",
   "id": "b932b58a-daef-4595-943e-41065b15eb67",
   "metadata": {},
   "source": [
    "## getStudy\n",
    "\n",
    "**Params: (collection, patientId = \"\", studyUid = \"\", api_url = \"\", format = \"\")**\n",
    "* *Optional: patientId, studyUid, api_url, format*\n",
    "* Gets Study (visit/timepoint) metadata from a specified api_url"
   ]
  },
  {
   "cell_type": "code",
   "execution_count": null,
   "id": "219fdf73-5492-445b-9bf4-61e84fee7d4f",
   "metadata": {
    "tags": []
   },
   "outputs": [],
   "source": [
    "# If the format is not specified, it returns a JSON object.\n",
    "nbia.getStudy(collection = \"CPTAC-SAR\", patientId = \"\", studyUid = \"\", format = \"\")"
   ]
  },
  {
   "cell_type": "code",
   "execution_count": null,
   "id": "ddf7a7ea-6b69-47cf-80cb-7d22be9ca03d",
   "metadata": {
    "tags": []
   },
   "outputs": [],
   "source": [
    "# If the format is set to \"df\", it returns a pandas dataframe object.\n",
    "nbia.getStudy(collection = \"CPTAC-SAR\", patientId = \"\", studyUid = \"\", format = \"df\")"
   ]
  },
  {
   "cell_type": "code",
   "execution_count": null,
   "id": "7fbbc2e2-4ac8-49d5-9efd-9161fb9b650e",
   "metadata": {
    "tags": []
   },
   "outputs": [],
   "source": [
    "# If the format is set to \"csv\", it saves a csv file to the workspace.\n",
    "nbia.getStudy(collection = \"CPTAC-SAR\", patientId = \"\", studyUid = \"\", format = \"csv\")"
   ]
  },
  {
   "cell_type": "markdown",
   "id": "c434c83b-5cfc-44c7-9b94-fa55dcb2b9fc",
   "metadata": {
    "tags": []
   },
   "source": [
    "## getNewStudiesInPatient\n",
    "**Params: (collection, patientId, date, api_url = \"\", format = \"\")**\n",
    "\n",
    "* *Optional: api_url, format*\n",
    "* Gets \"new\" patient metadata from a specified api_url\n",
    "* The date format is YYYY/MM/DD"
   ]
  },
  {
   "cell_type": "code",
   "execution_count": null,
   "id": "90659cf9-5732-4c2a-a4fa-04a4c68205c8",
   "metadata": {
    "tags": []
   },
   "outputs": [],
   "source": [
    "# If the format is not specified, it returns a JSON object.\n",
    "nbia.getNewStudiesInPatient(collection = \"CPTAC-SAR\", patientId = \"C3N-00843\", date = \"2010/09/06\", format = \"\")"
   ]
  },
  {
   "cell_type": "code",
   "execution_count": null,
   "id": "e4db5578-7d4a-4504-aff1-3df499fa178b",
   "metadata": {
    "tags": []
   },
   "outputs": [],
   "source": [
    "# If the format is set to \"df\", it returns a pandas dataframe object.\n",
    "nbia.getNewStudiesInPatient(collection = \"CPTAC-SAR\", patientId = \"C3N-00843\", date = \"2010/09/06\", format = \"df\")"
   ]
  },
  {
   "cell_type": "code",
   "execution_count": null,
   "id": "07f73bef-7505-451d-a699-9c8b8f1778fb",
   "metadata": {
    "tags": []
   },
   "outputs": [],
   "source": [
    "# If the format is set to \"csv\", it saves a csv file to the workspace.\n",
    "nbia.getNewStudiesInPatient(collection = \"CPTAC-SAR\", patientId = \"C3N-00843\", date = \"2010/09/06\", format = \"csv\")"
   ]
  },
  {
   "cell_type": "markdown",
   "id": "4d8e52c3-dbe2-4e5a-a20b-471a07ef7e83",
   "metadata": {},
   "source": [
    "## getSeries\n",
    "\n",
    "**Params: (collection = \"\", patientId = \"\", studyUid = \"\", seriesUid = \"\", modality = \"\", bodyPart = \"\",<br>\n",
    "manufacturer = \"\", manufacturerModel = \"\", api_url = \"\", format = \"\")**\n",
    "\n",
    "* *All parameters are optional.*\n",
    "* Gets Series (scan) metadata from a specified api_url\n",
    "* Allows filtering by collection, patient ID, study UID, series UID, modality, body part, manufacturer & model"
   ]
  },
  {
   "cell_type": "code",
   "execution_count": null,
   "id": "746ec846-b5a3-4fe4-86ce-c4135979f405",
   "metadata": {
    "tags": []
   },
   "outputs": [],
   "source": [
    "# If the format is not specified, it returns a JSON object.\n",
    "nbia.getSeries(collection = \"CPTAC-SAR\", patientId = \"\", studyUid = \"\", seriesUid = \"\", \n",
    "                    modality = \"\", bodyPart = \"\", manufacturer = \"\", manufacturerModel = \"\", format = \"\")"
   ]
  },
  {
   "cell_type": "code",
   "execution_count": null,
   "id": "b745b4d3-728d-4082-99ee-981dc03d9fa9",
   "metadata": {
    "tags": []
   },
   "outputs": [],
   "source": [
    "# If the format is set to \"df\", it returns a pandas dataframe object.\n",
    "nbia.getSeries(collection = \"CPTAC-SAR\", patientId = \"\", studyUid = \"\", seriesUid = \"\", \n",
    "                    modality = \"\", bodyPart = \"\", manufacturer = \"\", manufacturerModel = \"\", format = \"df\")"
   ]
  },
  {
   "cell_type": "code",
   "execution_count": null,
   "id": "2ed28e08-f63e-4fc1-97a8-1bb0f67c7178",
   "metadata": {
    "tags": []
   },
   "outputs": [],
   "source": [
    "# If the format is set to \"csv\", it saves a csv file to the workspace.\n",
    "nbia.getSeries(collection = \"CPTAC-SAR\", patientId = \"\", studyUid = \"\", seriesUid = \"\", \n",
    "                    modality = \"\", bodyPart = \"\", manufacturer = \"\", manufacturerModel = \"\", format = \"csv\")"
   ]
  },
  {
   "cell_type": "markdown",
   "id": "0d920fb5-2bd2-47a4-9a61-48cca2f0c1f0",
   "metadata": {
    "tags": []
   },
   "source": [
    "## getUpdatedSeries\n",
    "**Params: (date, api_url = \"\", format = \"\")**\n",
    "\n",
    "* *Optional: api_url, format*\n",
    "* Gets \"new\" series metadata from a specified api_url\n",
    "* The date format is YYYY/MM/DD\n",
    "* ***NOTE: Unlike other API endpoints, this function expects MM/DD/YYYY, we'll convert from YYYY/MM/DD so tcia-utils is consistent***"
   ]
  },
  {
   "cell_type": "code",
   "execution_count": null,
   "id": "e7413f57-0ff3-4f3e-aacd-1c0371d47505",
   "metadata": {
    "tags": []
   },
   "outputs": [],
   "source": [
    "# If the format is not specified, it returns a JSON object.\n",
    "nbia.getUpdatedSeries(date = \"2010/09/06\", format = \"\")"
   ]
  },
  {
   "cell_type": "code",
   "execution_count": null,
   "id": "818d92fc-0f39-4c7e-a238-2c6c666b1a80",
   "metadata": {
    "tags": []
   },
   "outputs": [],
   "source": [
    "# If the format is set to \"df\", it returns a pandas dataframe object.\n",
    "nbia.getUpdatedSeries(date = \"2010/09/06\", format = \"df\")"
   ]
  },
  {
   "cell_type": "code",
   "execution_count": null,
   "id": "102bd2bc-ddaf-4465-9e80-12d3bafae9e2",
   "metadata": {
    "tags": []
   },
   "outputs": [],
   "source": [
    "# If the format is set to \"csv\", it saves a csv file to the workspace.\n",
    "nbia.getUpdatedSeries(date = \"2010/09/06\", format = \"csv\")"
   ]
  },
  {
   "cell_type": "markdown",
   "id": "713ebf27-bb5b-405e-bbf9-475f106c43c8",
   "metadata": {
    "tags": []
   },
   "source": [
    "## getSeriesMetadata\n",
    "**Params: (seriesUid, api_url = \"\", format = \"\")**\n",
    "\n",
    "* *Optional: api_url, format*\n",
    "* Gets Series (scan) metadata from a specified api_url\n",
    "* Output includes DOI and license details that are not in the getSeries() function"
   ]
  },
  {
   "cell_type": "code",
   "execution_count": null,
   "id": "801d530d-b4de-48b7-9c41-3a9f7b1a1354",
   "metadata": {
    "tags": []
   },
   "outputs": [],
   "source": [
    "# If the format is not specified, it returns a JSON object.\n",
    "nbia.getSeriesMetadata(seriesUid = \"1.3.6.1.4.1.14519.5.2.1.3320.3273.106936860187940539374736870621\", format = \"\")"
   ]
  },
  {
   "cell_type": "code",
   "execution_count": null,
   "id": "d757c0c9-b7b9-4619-9037-0f3cb84db27d",
   "metadata": {
    "tags": []
   },
   "outputs": [],
   "source": [
    "# If the format is set to \"df\", it returns a pandas dataframe object.\n",
    "nbia.getSeriesMetadata(seriesUid = \"1.3.6.1.4.1.14519.5.2.1.3320.3273.106936860187940539374736870621\", format = \"df\")"
   ]
  },
  {
   "cell_type": "code",
   "execution_count": null,
   "id": "f1a18055-db4f-43ab-87fb-95771070cc39",
   "metadata": {
    "tags": []
   },
   "outputs": [],
   "source": [
    "# If the format is set to \"csv\", it saves a csv file to the workspace.\n",
    "nbia.getSeriesMetadata(seriesUid = \"1.3.6.1.4.1.14519.5.2.1.3320.3273.106936860187940539374736870621\", format = \"csv\")"
   ]
  },
  {
   "cell_type": "markdown",
   "id": "5b29a139-a87e-4b4d-864a-639253a49b35",
   "metadata": {
    "tags": []
   },
   "source": [
    "## getSeriesSize\n",
    "**Params: (seriesUid, api_url = \"\", format = \"\")**\n",
    "\n",
    "* *Optional: api_url, format*\n",
    "* Gets the file count and disk size of a series/scan"
   ]
  },
  {
   "cell_type": "code",
   "execution_count": null,
   "id": "75434e87-1b55-45d0-bb59-aaefe4500c9f",
   "metadata": {
    "tags": []
   },
   "outputs": [],
   "source": [
    "# If the format is not specified, it returns a JSON object.\n",
    "nbia.getSeriesSize(seriesUid = \"1.3.6.1.4.1.14519.5.2.1.3320.3273.106936860187940539374736870621\", format = \"\")"
   ]
  },
  {
   "cell_type": "code",
   "execution_count": null,
   "id": "7929b894-8e06-49d1-8fa1-7134784a1cec",
   "metadata": {
    "tags": []
   },
   "outputs": [],
   "source": [
    "# If the format is set to \"df\", it returns a pandas dataframe object.\n",
    "nbia.getSeriesSize(seriesUid = \"1.3.6.1.4.1.14519.5.2.1.3320.3273.106936860187940539374736870621\", format = \"df\")"
   ]
  },
  {
   "cell_type": "code",
   "execution_count": null,
   "id": "e00a96b1-9692-41d2-9e1c-2521f0d24ea8",
   "metadata": {
    "tags": []
   },
   "outputs": [],
   "source": [
    "# If the format is set to \"csv\", it saves a csv file to the workspace.\n",
    "nbia.getSeriesSize(seriesUid = \"1.3.6.1.4.1.14519.5.2.1.3320.3273.106936860187940539374736870621\", format = \"csv\")"
   ]
  },
  {
   "cell_type": "markdown",
   "id": "b783a759-bd1a-455f-ae49-28a1b93dd5d2",
   "metadata": {
    "tags": []
   },
   "source": [
    "## getSopInstanceUids\n",
    "**Params: (seriesUid, api_url = \"\", format = \"\")**\n",
    "\n",
    "* *Optional: api_url, format*\n",
    "* Gets SOP Instance UIDs from a specific series/scan"
   ]
  },
  {
   "cell_type": "code",
   "execution_count": null,
   "id": "6df0fb1c-6169-4eee-bb09-93b89b94deac",
   "metadata": {
    "tags": []
   },
   "outputs": [],
   "source": [
    "# If the format is not specified, it returns a JSON object.\n",
    "nbia.getSopInstanceUids(seriesUid = \"1.3.6.1.4.1.14519.5.2.1.3320.3273.106936860187940539374736870621\", format = \"\")"
   ]
  },
  {
   "cell_type": "code",
   "execution_count": null,
   "id": "012a4c40-cbfa-4a4a-90dc-1703c6a7356e",
   "metadata": {
    "tags": []
   },
   "outputs": [],
   "source": [
    "# If the format is set to \"df\", it returns a pandas dataframe object.\n",
    "nbia.getSopInstanceUids(seriesUid = \"1.3.6.1.4.1.14519.5.2.1.3320.3273.106936860187940539374736870621\", format = \"df\")"
   ]
  },
  {
   "cell_type": "code",
   "execution_count": null,
   "id": "47fc2763-6560-420d-be8c-05beb5c4755f",
   "metadata": {
    "tags": []
   },
   "outputs": [],
   "source": [
    "# If the format is set to \"csv\", it saves a csv file to the workspace.\n",
    "nbia.getSopInstanceUids(seriesUid = \"1.3.6.1.4.1.14519.5.2.1.3320.3273.106936860187940539374736870621\", format = \"csv\")"
   ]
  },
  {
   "cell_type": "markdown",
   "id": "3cc6a4db-a83e-41cf-8738-f6b3b3f91456",
   "metadata": {
    "tags": []
   },
   "source": [
    "## getManufacturer\n",
    "**Params: (collection = \"\", modality = \"\", bodyPart = \"\", api_url = \"\", format = \"\")**\n",
    "\n",
    "* *All parameters are optional.*\n",
    "* Gets manufacturer metadata from a specified api_url\n",
    "* Allows filtering by collection, body part & modality"
   ]
  },
  {
   "cell_type": "code",
   "execution_count": null,
   "id": "285e1801-242f-460f-889f-80cab223e1d7",
   "metadata": {
    "tags": []
   },
   "outputs": [],
   "source": [
    "# If the format is not specified, it returns a JSON object.\n",
    "nbia.getManufacturer(collection = \"\", modality = \"\", bodyPart = \"\", format = \"\")"
   ]
  },
  {
   "cell_type": "code",
   "execution_count": null,
   "id": "32f8fb02-2b67-418e-a155-c024c22d2d54",
   "metadata": {
    "tags": []
   },
   "outputs": [],
   "source": [
    "# If the format is set to \"df\", it returns a pandas dataframe object.\n",
    "nbia.getManufacturer(collection = \"\", modality = \"\", bodyPart = \"\", format = \"df\")"
   ]
  },
  {
   "cell_type": "code",
   "execution_count": null,
   "id": "a0f821da-ee69-4474-ade0-a633e63a5b4b",
   "metadata": {
    "tags": []
   },
   "outputs": [],
   "source": [
    "# If the format is set to \"csv\", it saves a csv file to the workspace.\n",
    "nbia.getManufacturer(collection = \"\", modality = \"\", bodyPart = \"\", format = \"csv\")"
   ]
  },
  {
   "cell_type": "markdown",
   "id": "4ea99b40-e2b1-4a30-899f-171f47b19962",
   "metadata": {},
   "source": [
    "## getCollectionDescriptions\n",
    "\n",
    "**Params: (api_url = \"\", format = \"\")**\n",
    "\n",
    "* *All parameters are optional.*\n",
    "* Gets HTML-formatted descriptions of collections and their DOIs"
   ]
  },
  {
   "cell_type": "code",
   "execution_count": null,
   "id": "3a5570cf-e1a5-437b-b320-72c774564d6d",
   "metadata": {
    "tags": []
   },
   "outputs": [],
   "source": [
    "# If the format is not specified, it returns a JSON object.\n",
    "nbia.getCollectionDescriptions(format = \"\")"
   ]
  },
  {
   "cell_type": "code",
   "execution_count": null,
   "id": "cc92c18a-417f-4346-906b-d606feea6601",
   "metadata": {
    "tags": []
   },
   "outputs": [],
   "source": [
    "# If the format is set to \"df\", it returns a pandas dataframe object.\n",
    "nbia.getCollectionDescriptions(format = \"df\")"
   ]
  },
  {
   "cell_type": "code",
   "execution_count": null,
   "id": "92fba7c5-5697-4193-819b-ef29006029fd",
   "metadata": {
    "tags": []
   },
   "outputs": [],
   "source": [
    "# If the format is set to \"csv\", it saves a csv file to the workspace.\n",
    "nbia.getCollectionDescriptions(format = \"csv\")"
   ]
  },
  {
   "cell_type": "markdown",
   "id": "e0f99013-9d6a-404b-8174-bae6cec9233d",
   "metadata": {
    "tags": []
   },
   "source": [
    "## getCollectionPatientCounts\n",
    "**Params: (api_url = \"\", format = \"\")**\n",
    "\n",
    "* *All parameters are optional.*\n",
    "* Gets counts of Patient by collection from Advanced API"
   ]
  },
  {
   "cell_type": "code",
   "execution_count": null,
   "id": "5706f5ac-a787-4333-a9c0-4b113fa5ae15",
   "metadata": {
    "tags": []
   },
   "outputs": [],
   "source": [
    "# If the format is not specified, it returns a JSON object.\n",
    "nbia.getCollectionPatientCounts(format = \"\")"
   ]
  },
  {
   "cell_type": "code",
   "execution_count": null,
   "id": "20d7d610-a704-4f9c-8b37-7c6d80039f53",
   "metadata": {
    "tags": []
   },
   "outputs": [],
   "source": [
    "# If the format is set to \"df\", it returns a pandas dataframe object.\n",
    "nbia.getCollectionPatientCounts(format = \"df\")"
   ]
  },
  {
   "cell_type": "code",
   "execution_count": null,
   "id": "6eac0440-5385-4a8f-9bc0-6fd139bb9798",
   "metadata": {
    "tags": []
   },
   "outputs": [],
   "source": [
    "# If the format is set to \"csv\", it saves a csv file to the workspace.\n",
    "nbia.getCollectionPatientCounts(format = \"csv\")"
   ]
  },
  {
   "cell_type": "markdown",
   "id": "0e0f20c3-17d5-4eba-b6ae-e14c3627c0ee",
   "metadata": {},
   "source": [
    "## getModalityCounts\n",
    "\n",
    "**Params: (collection = \"\", bodyPart = \"\", api_url = \"\", format = \"\")**\n",
    "\n",
    "* *All parameters are optional.*\n",
    "* Gets counts of Modality metadata from Advanced API\n",
    "* Allows filtering by collection and bodyPart"
   ]
  },
  {
   "cell_type": "code",
   "execution_count": null,
   "id": "3c88e2d7-b9a5-48ab-a8fd-695eac5db054",
   "metadata": {
    "tags": []
   },
   "outputs": [],
   "source": [
    "# If the format is not specified, it returns a JSON object.\n",
    "nbia.getModalityCounts(collection = \"CPTAC-SAR\", bodyPart = \"\", format = \"\")"
   ]
  },
  {
   "cell_type": "code",
   "execution_count": null,
   "id": "41163375-98ca-463a-985e-eafde5529823",
   "metadata": {
    "tags": []
   },
   "outputs": [],
   "source": [
    "# If the format is set to \"df\", it returns a pandas dataframe object.\n",
    "nbia.getModalityCounts(collection = \"CPTAC-SAR\", bodyPart = \"EXTREMITY\", format = \"df\")"
   ]
  },
  {
   "cell_type": "code",
   "execution_count": null,
   "id": "6d14d56f-de15-4832-840d-ad4f3699b530",
   "metadata": {
    "tags": []
   },
   "outputs": [],
   "source": [
    "# If the format is set to \"csv\", it saves a csv file to the workspace.\n",
    "nbia.getModalityCounts(collection = \"CPTAC-SAR\", bodyPart = \"EXTREMITY\", format = \"csv\")"
   ]
  },
  {
   "cell_type": "markdown",
   "id": "6e44dfe7-3521-4df3-ab1b-41fc8131a1d2",
   "metadata": {},
   "source": [
    "## getBodyPartCounts\n",
    "\n",
    "**Params: (collection = \"\", modality = \"\", api_url = \"\", format = \"\")**\n",
    "\n",
    "* *All parameters are optional.*\n",
    "* Gets counts of Body Part metadata from Advanced API\n",
    "* Allows filtering by collection and modality"
   ]
  },
  {
   "cell_type": "code",
   "execution_count": null,
   "id": "6145796b-6588-440b-a58c-c041fd772e0f",
   "metadata": {
    "tags": []
   },
   "outputs": [],
   "source": [
    "# If the format is not specified, it returns a JSON object.\n",
    "nbia.getBodyPartCounts(collection = \"CPTAC-SAR\", modality = \"CT\", format = \"\")"
   ]
  },
  {
   "cell_type": "code",
   "execution_count": null,
   "id": "bb568ccb-decc-477f-8aa9-eff61064a000",
   "metadata": {
    "tags": []
   },
   "outputs": [],
   "source": [
    "# If the format is set to \"df\", it returns a pandas dataframe object.\n",
    "nbia.getBodyPartCounts(collection = \"CPTAC-SAR\", modality = \"CT\", format = \"df\")"
   ]
  },
  {
   "cell_type": "code",
   "execution_count": null,
   "id": "9dd277af-fe0c-4251-b6f9-afc78eefba56",
   "metadata": {
    "tags": []
   },
   "outputs": [],
   "source": [
    "# If the format is set to \"csv\", it saves a csv file to the workspace.\n",
    "nbia.getBodyPartCounts(collection = \"CPTAC-SAR\", modality = \"CT\", format = \"csv\")"
   ]
  },
  {
   "cell_type": "markdown",
   "id": "7e8d9e5b-ef2d-4cda-9703-2515ffe693bb",
   "metadata": {
    "tags": []
   },
   "source": [
    "## getManufacturerCounts\n",
    "\n",
    "**Params: (collection = \"\", modality = \"\", bodyPart = \"\", api_url = \"\", format = \"\")**\n",
    "\n",
    "* *All parameters are optional.*\n",
    "* Gets counts of Manufacturer metadata from Advanced API\n",
    "* Allows filtering by collection, body part and modality"
   ]
  },
  {
   "cell_type": "code",
   "execution_count": null,
   "id": "fb6617c0-a30e-4c90-a252-f19b388a7197",
   "metadata": {
    "tags": []
   },
   "outputs": [],
   "source": [
    "# If the format is not specified, it returns a JSON object.\n",
    "nbia.getManufacturerCounts(collection = \"CPTAC-SAR\",  modality = \"CT\", bodyPart = \"EXTREMITY\", format = \"\")"
   ]
  },
  {
   "cell_type": "code",
   "execution_count": null,
   "id": "c32ad726-5e75-419d-9979-b94f18672835",
   "metadata": {
    "tags": []
   },
   "outputs": [],
   "source": [
    "# If the format is set to \"df\", it returns a pandas dataframe object.\n",
    "nbia.getManufacturerCounts(collection = \"CPTAC-SAR\",  modality = \"CT\", bodyPart = \"EXTREMITY\", format = \"df\")"
   ]
  },
  {
   "cell_type": "code",
   "execution_count": null,
   "id": "4e988073-1284-431a-b3e9-57a7db75bfb5",
   "metadata": {
    "tags": []
   },
   "outputs": [],
   "source": [
    "# If the format is set to \"csv\", it saves a csv file to the workspace.\n",
    "nbia.getManufacturerCounts(collection = \"CPTAC-SAR\",  modality = \"CT\", bodyPart = \"EXTREMITY\", format = \"csv\")"
   ]
  },
  {
   "cell_type": "markdown",
   "id": "158aed72-b8cd-4a09-92e1-be2591f9482c",
   "metadata": {},
   "source": [
    "## getSeriesList\n",
    "\n",
    "**Params: (list, api_url = \"\", csv_filename = \"\")**\n",
    "\n",
    "* *Optional: api_url, csv_filename*\n",
    "* Get series metadata from Advanced API\n",
    "* Allows submission of a list of UIDs\n",
    "* Returns result as dataframe and CSV"
   ]
  },
  {
   "cell_type": "code",
   "execution_count": null,
   "id": "65e5c2eb-d1d0-40f5-89b5-633857c7ce2b",
   "metadata": {
    "tags": []
   },
   "outputs": [],
   "source": [
    "series_list = [\"1.3.6.1.4.1.14519.5.2.1.3320.3273.106936860187940539374736870621\", \"1.3.6.1.4.1.14519.5.2.1.6834.5010.215193814203822462481389051414\"]\n",
    "nbia.getSeriesList(list = series_list)"
   ]
  },
  {
   "cell_type": "markdown",
   "id": "053bc164-7493-445a-af3e-965a56024345",
   "metadata": {},
   "source": [
    "## getDicomTags\n",
    "\n",
    "**Params: (seriesUid, api_url = \"\", format = \"\")**\n",
    "\n",
    "* *Optional: api_url, format*\n",
    "* Gets DICOM tag metadata for a given series UID (scan)"
   ]
  },
  {
   "cell_type": "code",
   "execution_count": null,
   "id": "9d11a376-b1be-4056-bec3-3c1c155a3281",
   "metadata": {
    "tags": []
   },
   "outputs": [],
   "source": [
    "# If the format is not specified, it returns a JSON object.\n",
    "nbia.getDicomTags(seriesUid = \"1.3.6.1.4.1.14519.5.2.1.3320.3273.106936860187940539374736870621\", format = \"\")"
   ]
  },
  {
   "cell_type": "code",
   "execution_count": null,
   "id": "9d859c82-4ab4-4303-ba95-53670eb8cfe6",
   "metadata": {
    "tags": []
   },
   "outputs": [],
   "source": [
    "# If the format is set to \"df\", it returns a pandas dataframe object.\n",
    "nbia.getDicomTags(seriesUid = \"1.3.6.1.4.1.14519.5.2.1.3320.3273.106936860187940539374736870621\", format = \"df\")"
   ]
  },
  {
   "cell_type": "code",
   "execution_count": null,
   "id": "0221fd8e-e10f-4fc7-8431-a76cd2390a1c",
   "metadata": {
    "tags": []
   },
   "outputs": [],
   "source": [
    "# If the format is set to \"csv\", it saves a csv file to the workspace.\n",
    "nbia.getDicomTags(seriesUid = \"1.3.6.1.4.1.14519.5.2.1.3320.3273.106936860187940539374736870621\", format = \"csv\")"
   ]
  },
  {
   "cell_type": "markdown",
   "id": "bd25528c-145e-4d32-abe6-eb888ffe3613",
   "metadata": {},
   "source": [
    "## getDoiMetadata\n",
    "\n",
    "**Params: (doi, output, api_url = \"\", format = \"\")**\n",
    "\n",
    "* *Optional: api_url, format*\n",
    "* Gets a list of Collections or Series associated with a DOI\n",
    "* The result includes whether the data are 3rd party analyses or not."
   ]
  },
  {
   "cell_type": "code",
   "execution_count": null,
   "id": "187a7006-cbaf-4bbd-80a8-68930d2af722",
   "metadata": {
    "tags": []
   },
   "outputs": [],
   "source": [
    "# If the format is not specified, it returns a JSON object.\n",
    "nbia.getDoiMetadata(doi = \"https://doi.org/10.7937/K9/TCIA.2018.PAT12TBS\", output = \"CPTAC-LUAD\", format = \"\")"
   ]
  },
  {
   "cell_type": "code",
   "execution_count": null,
   "id": "37df6fd6-b780-4584-9cb5-bb88089d3983",
   "metadata": {
    "tags": []
   },
   "outputs": [],
   "source": [
    "# If the format is set to \"df\", it returns a pandas dataframe object.\n",
    "nbia.getDoiMetadata(doi = \"https://doi.org/10.7937/K9/TCIA.2018.PAT12TBS\", output = \"CPTAC-LUAD\", format = \"df\")"
   ]
  },
  {
   "cell_type": "code",
   "execution_count": null,
   "id": "069c5db3-61f6-4ffc-bbe7-baeab462874e",
   "metadata": {
    "tags": []
   },
   "outputs": [],
   "source": [
    "# If the format is set to \"csv\", it saves a csv file to the workspace.\n",
    "nbia.getDoiMetadata(doi = \"https://doi.org/10.7937/K9/TCIA.2018.PAT12TBS\", output = \"CPTAC-LUAD\", format = \"csv\")"
   ]
  },
  {
   "cell_type": "markdown",
   "id": "0d5c86f9-91e2-44a4-8cd3-d7d1c7c957e0",
   "metadata": {},
   "source": [
    "## getSimpleSearchWithModalityAndBodyPartPaged\n",
    "\n",
    "**Params: (collections = [], species = [], modalities = [], bodyParts = [], manufacturers  = [], <br>\n",
    "fromDate = \"\", toDate = \"\", patients = [], minStudies: int = 0, modalityAnded = False, <br>\n",
    "start = 0, size = 10, sortDirection = 'ascending', sortField = 'subject', api_url = \"\", format = \"\")**\n",
    "\n",
    "* *All parameters are optional.*\n",
    "* Takes the same parameters as the SimpleSearch GUI\n",
    "* Use more parameters to narrow the number of subjects received.\n",
    "* Please refer to [section 7.2.2](#7.2.2) for a more in-depth tutorial."
   ]
  },
  {
   "cell_type": "code",
   "execution_count": null,
   "id": "2eb77ad2-e470-4abd-b3ec-03c299727dab",
   "metadata": {
    "tags": []
   },
   "outputs": [],
   "source": [
    "# If the format is not specified, it returns a JSON object.\n",
    "nbia.getSimpleSearchWithModalityAndBodyPartPaged(collections = [\"CPTAC-LUAD\"], modalities = [\"CT\"], format = \"\")"
   ]
  },
  {
   "cell_type": "code",
   "execution_count": null,
   "id": "e6e87eb5-9b74-4d68-99c1-3ea4846ca52f",
   "metadata": {
    "tags": []
   },
   "outputs": [],
   "source": [
    "# If the format is set to \"df\", it returns a pandas dataframe object.\n",
    "nbia.getSimpleSearchWithModalityAndBodyPartPaged(collections = [\"CPTAC-LUAD\"], modalities = [\"CT\"], format = \"df\")"
   ]
  },
  {
   "cell_type": "code",
   "execution_count": null,
   "id": "f903fa8c-a3e1-41ad-9146-cd5f3e0a666b",
   "metadata": {
    "tags": []
   },
   "outputs": [],
   "source": [
    "# If the format is set to \"csv\", it saves a csv file to the workspace.\n",
    "nbia.getSimpleSearchWithModalityAndBodyPartPaged(collections = [\"CPTAC-LUAD\"], modalities = [\"CT\"], format = \"csv\")"
   ]
  },
  {
   "cell_type": "markdown",
   "id": "568c25ed-2e0c-45e1-9f21-5a9a48ec3bb2",
   "metadata": {
    "tags": []
   },
   "source": [
    "## getSharedCart\n",
    "\n",
    "**Params: (name, api_url = \"\", format = \"\")**\n",
    "\n",
    "* *Optional: api_url, format*\n",
    "* Gets \"Shared Cart\" (scan) metadata from a specified api_url<br>\n",
    "* First use https://nbia.cancerimagingarchive.net/nbia-search/ to create a cart, then add data to your basket, then click \"Share\" > \"Share my cart\".\n",
    "* The \"name\" parameter is part of the URL that generates. E.g https://nbia.cancerimagingarchive.net/nbia-search/?saved-cart=nbia-49121659384603347 has a cart \"name\" of \"nbia-49121659384603347\"."
   ]
  },
  {
   "cell_type": "code",
   "execution_count": null,
   "id": "69b59ce4-d7a1-4798-bde6-36eb95042b82",
   "metadata": {
    "tags": []
   },
   "outputs": [],
   "source": [
    "# If the format is not specified, it returns a JSON object.\n",
    "nbia.getSharedCart(name = \"nbia-49121659384603347\", format = \"\")"
   ]
  },
  {
   "cell_type": "code",
   "execution_count": null,
   "id": "adb8c154-2569-4ce5-ad09-bb554a9e6bf1",
   "metadata": {
    "tags": []
   },
   "outputs": [],
   "source": [
    "# If the format is set to \"df\", it returns a pandas dataframe object.\n",
    "nbia.getSharedCart(name = \"nbia-49121659384603347\", formay = \"df\")"
   ]
  },
  {
   "cell_type": "code",
   "execution_count": null,
   "id": "aec905fd-4886-4190-9a8a-63e015ce4488",
   "metadata": {
    "tags": []
   },
   "outputs": [],
   "source": [
    "# If the format is set to \"csv\", it saves a csv file to the workspace.\n",
    "nbia.getSharedCart(name = \"nbia-49121659384603347\", format = \"csv\")"
   ]
  },
  {
   "cell_type": "markdown",
   "id": "d741e9df-db33-4cd0-ba20-9a47107b7b8b",
   "metadata": {
    "jp-MarkdownHeadingCollapsed": true,
    "tags": []
   },
   "source": [
    "# 4. Download Functions\n",
    "\n",
    "Detailed usage of these functions can be found in [section 7.3](#7.3)"
   ]
  },
  {
   "cell_type": "markdown",
   "id": "a5049e1e-bdf8-46c0-9992-d67a2e6ba736",
   "metadata": {
    "jp-MarkdownHeadingCollapsed": true,
    "tags": []
   },
   "source": [
    "## downloadSeries\n",
    "\n",
    "**Params: (series_data, number = 0, path = \"\", hash = \"\", api_url = \"\",<br>\n",
    "input_type = \"\", format = \"\", csv_filename = \"\")**\n",
    "\n",
    "* Ingests a set of seriesUids and downloads them\n",
    "* By default, series_data expects JSON containing \"SeriesInstanceUID\" elements.\n",
    "* Set number = n to download the first n series if you don't want the full dataset.\n",
    "* Set hash = \"y\" if you'd like to retrieve MD5 hash values for each image.\n",
    "* Saves to tciaDownload folder in current directory if no path is specified\n",
    "* Set input_type = \"list\" to pass a list of Series UIDs instead of JSON.\n",
    "* Set input_type = \"manifest\" to pass the path of a *.TCIA manifest file as series_data.\n",
    "* Format can be set to \"df\" or \"csv\" to return series metadata.\n",
    "* Setting a csv_filename will create the csv even if format isn't specified.\n",
    "* The metadata includes info about series that have previously been downloaded."
   ]
  },
  {
   "cell_type": "markdown",
   "id": "e2aba213-47de-4cd0-aaa9-9a1f8bcb28d6",
   "metadata": {
    "jp-MarkdownHeadingCollapsed": true,
    "tags": []
   },
   "source": [
    "## downloadImage\n",
    "**Params: (downloadImage(seriesUID, sopUID, path = \"\", api_url = \"\"))**\n",
    "\n",
    "* Ingests a seriesUids and SopInstanceUid and downloads the image"
   ]
  },
  {
   "cell_type": "markdown",
   "id": "821eafea-5785-4c10-9e61-33823687d42b",
   "metadata": {
    "jp-MarkdownHeadingCollapsed": true,
    "tags": []
   },
   "source": [
    "# 5. Image Visualization Functions\n",
    "\n",
    "Detailed usage of these functions can be found in [section 7.4](#7.4)"
   ]
  },
  {
   "cell_type": "markdown",
   "id": "0d09dd17-d16a-4757-803a-9d64efbf409e",
   "metadata": {
    "jp-MarkdownHeadingCollapsed": true,
    "tags": []
   },
   "source": [
    "## viewSeries\n",
    "\n",
    "**Params: (seriesUid = \"\", path = \"\")**\n",
    "\n",
    "* Visualizes a Series (scan) you've downloaded in the notebook\n",
    "* Requires EITHER a seriesUid or path parameter\n",
    "* Leave seriesUid empty if you want to provide a custom path.\n",
    "* The function assumes \"tciaDownload/\\<seriesUid\\>/\" as path if seriesUid is provided since this is where downloadSeries() saves data."
   ]
  },
  {
   "cell_type": "markdown",
   "id": "26a264aa-011f-4150-a5d1-7eccb652a21e",
   "metadata": {
    "jp-MarkdownHeadingCollapsed": true,
    "tags": []
   },
   "source": [
    "## makeVizLinks\n",
    "\n",
    "**Params: (series_data, csv_filename=\"\")**\n",
    "\n",
    "* Ingests JSON output of getSeries() or getSharedCart()\n",
    "* Creates URLs to visualize them in a browser\n",
    "* The links appear in the last 2 columns of the dataframe.\n",
    "* TCIA links display the individual series described in each row.\n",
    "* IDC links display the entire study (all scans from that time point).\n",
    "* IDC links may not work if they haven't mirrored the series from TCIA, yet.\n",
    "* This function only works with fully public datasets (no limited-access data).\n",
    "* Optionally accepts a csv_filename parameter if you'd like to export a CSV file."
   ]
  },
  {
   "cell_type": "markdown",
   "id": "240c55a0-253f-45a0-ab49-7d54f9ad0718",
   "metadata": {
    "jp-MarkdownHeadingCollapsed": true,
    "tags": []
   },
   "source": [
    "# 6. Other Functions"
   ]
  },
  {
   "cell_type": "markdown",
   "id": "41aa2a70-c9e1-4d57-a33c-9667a701d91e",
   "metadata": {},
   "source": [
    "## setApiUrl\n",
    "\n",
    "**Params: (endpoint, api_url)**\n",
    "\n",
    "* Checks for valid security tokens where needed\n",
    "* Because it is called by other functions to select base URL, ***<font color='red'>please do NOT use this function</font>***."
   ]
  },
  {
   "cell_type": "markdown",
   "id": "e1204cf4-1aea-4d44-9475-65adba90eed4",
   "metadata": {
    "tags": []
   },
   "source": [
    "## getToken\n",
    "**Params: (user = \"\", pw = \"\", api_url = \"\")**\n",
    "\n",
    "* Retrieves security token to access APIs that require authorization\n",
    "* Provides interactive prompts for user/pw if they're not specified as parameters\n",
    "* Uses getToken() for querying restricted collections with \"Search API\"\n",
    "* Uses getToken(api_url = \"nlst\") for \"Advanced API\" queries of National Lung Screening Trial\n",
    "* Sets expiration time for tokens (2 hours from creation)"
   ]
  },
  {
   "cell_type": "code",
   "execution_count": null,
   "id": "868b661f-6f32-42e6-8f48-c975df1cebdd",
   "metadata": {
    "tags": []
   },
   "outputs": [],
   "source": [
    "nbia.getToken()"
   ]
  },
  {
   "cell_type": "markdown",
   "id": "39f05a8f-de06-4d17-9fad-22f35aee1292",
   "metadata": {
    "tags": []
   },
   "source": [
    "## makeCredentialFile\n",
    "**Params: (user = \"\", pw = \"\")**\n",
    "\n",
    "* Create a credential file to use with NBIA Data Retriever\n",
    "* Provides interactive prompts for user/pw if they're not specified as parameters\n",
    "* Documentation at https://wiki.cancerimagingarchive.net/x/2QKPBQ"
   ]
  },
  {
   "cell_type": "markdown",
   "id": "ca62a668-fac4-4f05-be73-de5279ce9938",
   "metadata": {
    "tags": []
   },
   "source": [
    "## manifestToList\n",
    "\n",
    "**Params: (manifest)**\n",
    "\n",
    "* Ingests a TCIA manifest file and removes header\n",
    "* Returns a list of series UIDs"
   ]
  },
  {
   "cell_type": "markdown",
   "id": "1ffca439-488b-4a30-9dfe-a3a6db3c53c9",
   "metadata": {
    "jp-MarkdownHeadingCollapsed": true,
    "tags": []
   },
   "source": [
    "## makeSeriesReport\n",
    "\n",
    "**Params: (series_data, input_type = \"\", format = \"\", filename = None, api_url = \"\")**\n",
    "\n",
    "* Ingests JSON output from any function that returns series-level data and creates summary report\n",
    "* Specify input_type = \"manifest\" to ingest a *.TCIA manifest file or \"list\" for a python list of UIDs.\n",
    "* If input_type = \"manifest\" or \"list\" and there are series UIDs that are restricted, you must call getToken() with a user ID that has access to all UIDs before calling this function.\n",
    "* Specifying api_url is only necessary if you are using input_type = \"manifest\" or \"list\" with NLST data (e.g. api_url = \"nlst\").\n",
    "* Specify format = \"var\" to return the report values as a dictionary.\n",
    "* Access variables example after saving function output to report_data: subjects = report_data[\"subjects\"].\n",
    "* Specify format = \"file\" to save the report to a file.\n",
    "* Specify a filename parameter to set a filename if you don't want the default."
   ]
  },
  {
   "cell_type": "markdown",
   "id": "353cce45-0b29-4d64-a347-662b0981210f",
   "metadata": {
    "tags": []
   },
   "source": [
    "# 7. Examples"
   ]
  },
  {
   "cell_type": "markdown",
   "id": "504ad0a6-e891-4420-881d-79911d8ecc2e",
   "metadata": {
    "id": "bqulqBEDMSS6",
    "jp-MarkdownHeadingCollapsed": true,
    "tags": []
   },
   "source": [
    "## 7.1 Preparation\n",
    "\n",
    "### Import tcia_utils\n",
    "\n",
    "The following cells import [**tcia_utils**](https://github.com/kirbyju/tcia_utils) which contain a variety of useful functions for accessing TCIA via Jupyter/Python. We'll step through many of its functions in the following section.\n",
    "\n",
    "By default, most functions from tcia_utils return results in JSON.  However, you can use **format = \"df\"** to return the results as a dataframe, or **format = \"csv\"** to save a CSV file in addition to returning a dataframe.\n",
    "\n",
    "Nearly all functions allow you to specify **api_url** as a query parameter.  This allows you to specify if you'd like to access restricted collections or the [National Lung Screening Trial (NLST)](https://doi.org/10.7937/TCIA.HMQ8-J677) collection, which lives on a separate server due to its size (>26,000 patients!).  We'll provide examples to show how this works later in the notebook."
   ]
  },
  {
   "cell_type": "code",
   "execution_count": null,
   "id": "3701dcf0-27ee-48c3-9de1-0db0cbb4fe64",
   "metadata": {
    "id": "YPrZ5pc-yYQl",
    "tags": []
   },
   "outputs": [],
   "source": [
    "!pip install --upgrade -q tcia-utils\n",
    "!pip install --upgrade -q pandas\n",
    "!pip install --upgrade -q requests"
   ]
  },
  {
   "cell_type": "code",
   "execution_count": null,
   "id": "80c3fa4c-111b-417c-acf8-6192602ddaf1",
   "metadata": {
    "id": "p3zEqnxi9rk2",
    "tags": []
   },
   "outputs": [],
   "source": [
    "## imports\n",
    "import requests\n",
    "import pandas as pd\n",
    "from tcia_utils import nbia"
   ]
  },
  {
   "cell_type": "markdown",
   "id": "b6f62617-cf04-4c17-ab8b-9ef2b1b59108",
   "metadata": {
    "id": "4EB4OlFNE1EK",
    "jp-MarkdownHeadingCollapsed": true,
    "tags": []
   },
   "source": [
    "### Set logging level to INFO in Google Colab (optional)\n",
    "This step should be skipped unless you're running on **Google Colab** as its logging root handler only shows warnings and errors by default.  If you'd like to see INFO statements you can run the following code.  This is particularly helpful when running some of the download examples so you can see the progress as downloads complete."
   ]
  },
  {
   "cell_type": "code",
   "execution_count": null,
   "id": "a09a1f00-af10-4d95-ab87-74b8019782a2",
   "metadata": {
    "id": "y4bh_j40-fia"
   },
   "outputs": [],
   "source": [
    "import logging\n",
    "\n",
    "# Check current handlers\n",
    "#print(logging.root.handlers)\n",
    "\n",
    "# Remove all handlers associated with the root logger object.\n",
    "for handler in logging.root.handlers[:]:\n",
    "    logging.root.removeHandler(handler)\n",
    "#print(logging.root.handlers)\n",
    "\n",
    "# Set handler with level = info\n",
    "logging.basicConfig(format='%(asctime)s:%(levelname)s:%(message)s', \n",
    "                    level=logging.INFO)\n",
    "\n",
    "print(\"Logging set to INFO\")"
   ]
  },
  {
   "cell_type": "markdown",
   "id": "aeff1e24-60b1-4137-8417-12781026c36f",
   "metadata": {
    "jp-MarkdownHeadingCollapsed": true,
    "tags": []
   },
   "source": [
    "<a id = \"7.2\"></a>\n",
    "## 7.2 Query Data"
   ]
  },
  {
   "cell_type": "markdown",
   "id": "2597a6a9-6cdd-4ce3-9e1b-bae66e47934f",
   "metadata": {},
   "source": [
    "The majority of data-querying functions work in the same manner, let's use a couple as examples to showcase the usages.<br>\n",
    "Let's first check what collections are avaliable in the database with **getCollections()**."
   ]
  },
  {
   "cell_type": "code",
   "execution_count": null,
   "id": "68d57c12-d740-4402-8651-eb2295b7c023",
   "metadata": {
    "id": "II1o1709zq1d",
    "tags": []
   },
   "outputs": [],
   "source": [
    "nbia.getCollections()"
   ]
  },
  {
   "cell_type": "markdown",
   "id": "f949ad6d-8f2f-4754-bce2-1a43a703f59b",
   "metadata": {
    "id": "1EHAjkALWsGH",
    "tags": []
   },
   "source": [
    "### 7.3.1 getPatient()\n",
    "The **getPatient()** function returns available patient information (e.g. species, gender, and ethnicity). You can also learn whether the subject is a [phantom](https://www.nist.gov/physics/what-are-imaging-phantoms) or not.  The only query parameter for this function is **collection**.\n",
    "\n",
    "Let's try looking at the **CPTAC-LUAD** collection this time.  We'll also set the output format to a dataframe to make it easier to view."
   ]
  },
  {
   "cell_type": "code",
   "execution_count": null,
   "id": "5684f100-4122-4dd0-aafe-a71035895d41",
   "metadata": {
    "id": "k4Ge-Z-9H_hr"
   },
   "outputs": [],
   "source": [
    "df = nbia.getPatient(collection = \"CPTAC-LUAD\", format = \"df\")\n",
    "display(df)"
   ]
  },
  {
   "cell_type": "markdown",
   "id": "053f96ca-daf3-41e1-893f-9edbedfd554b",
   "metadata": {
    "id": "kv8RCpe30TR8"
   },
   "source": [
    "Here's an example that does the same thing with the [National Lung Screening Trial (NLST) Collection](https://doi.org/10.7937/TCIA.HMQ8-J677).  In this case we have to set **api_url = \"nlst\"** to talk to the NLST server, but everything else works the same. "
   ]
  },
  {
   "cell_type": "code",
   "execution_count": null,
   "id": "60b3ee55-f4f4-4846-a9cf-3fa579785223",
   "metadata": {
    "id": "gMC3WCQ20cfd"
   },
   "outputs": [],
   "source": [
    "df = nbia.getPatient(collection = \"NLST\", format = \"df\", api_url = \"nlst\")\n",
    "display(df)"
   ]
  },
  {
   "cell_type": "code",
   "execution_count": null,
   "id": "677a0a9d-273c-4fbf-b1a7-febbdbb66d49",
   "metadata": {
    "id": "ivLAjjuK8nPv"
   },
   "outputs": [],
   "source": [
    "df = nbia.getStudy(collection = \"CPTAC-LUAD\", format = \"df\")\n",
    "display(df)"
   ]
  },
  {
   "cell_type": "markdown",
   "id": "cb9cf71a-b882-45a2-86db-c571440851bd",
   "metadata": {},
   "source": [
    "<a id = \"7.2.2\"></a>\n",
    "### 7.2.2 getSimpleSearchWithModalityAndBodyPartPaged()\n",
    "The **getSimpleSearchWithModalityAndBodyPartPaged()** function retrieves a list of collections based on searching criteria entered.<br>\n",
    "Avaliable filters are: \n",
    ">1. collections: list[str]   -- The DICOM collections of interest to you\n",
    ">2. species: list[str]       -- Filter collections by species. Possible values are 'human', 'mouse', and 'dog'\n",
    ">3. modalities: list[str]    -- Filter collections by modality\n",
    ">4. modalityAnded: bool      -- If true, only return subjects with all requested modalities, as opposed to any\n",
    ">5. minStudies: int          -- The minimum number of studies a collection must have to be included in the results\n",
    ">6.manufacturers: list[str] -- Imaging device manufacturers, e.g. SIEMENS\n",
    ">7. bodyParts: list[str]     -- Body parts of interest, e.g. CHEST, ABDOMEN\n",
    ">8. fromDate: str            -- First cutoff date, in YYYY/MM/DD format. Defaults to 1900/01/01\n",
    ">9. toDate: str              -- Second cutoff date, in YYYY/MM/DD format. Defaults to today's date\n",
    ">10. patients: list[str]      -- Patients to include in the output\n",
    ">11. start: int               -- Start of returned series page. Defaults to 0.\n",
    ">12. size: int                -- Size of returned series page. Defaults to 10.\n",
    "\n",
    "Avaliable sorting options are:\n",
    ">1. sortDirection            -- 'ascending' or 'descending'. Defaults to 'ascending'.\n",
    ">2. sortField                -- 'subject', 'studies', 'series', or 'collection'. Defaults to 'subject'."
   ]
  },
  {
   "cell_type": "code",
   "execution_count": null,
   "id": "c39efd91-1d0c-4298-823d-fae86005ba09",
   "metadata": {},
   "outputs": [],
   "source": [
    "myJSON = nbia.getSimpleSearchWithModalityAndBodyPartPaged(collections = [\"CPTAC-LUAD\"], modalities = [\"CT\"], format = \"\")\n",
    "pd.DataFrame(myJSON[\"resultSet\"])"
   ]
  },
  {
   "cell_type": "markdown",
   "id": "6ab781c3-b13d-45c2-826c-fa014b2fe20b",
   "metadata": {
    "jp-MarkdownHeadingCollapsed": true,
    "tags": []
   },
   "source": [
    "<a id = \"7.3\"></a>\n",
    "## 7.3 Download Data\n",
    "\n",
    "**tcia_utils** contains a **downloadSeries()** function that has multiple options for specifying the seriesUids you'd like to download.  By default, the function expects JSON data containing \"SeriesInstanceUID\" elements, which can be generated using **getSeries()** or **getCart()**.  However, if you have a series UID list from some other source, you can set **input_type = \"list\"** to pass a python list of one or more series UIDs instead of JSON. You can also set **input_type = \"manifest\"** and provide a path to a **.TCIA** manifest file.\n",
    "\n",
    "Data are saved to a **tciaDownload** folder in your current working directory by default, but you can use the **path** parameter to change this to a different directory.\n",
    "\n",
    "There is an optional **format** parameter that can be used to return metadata about what was downloaded.  It can be set to **df** to return dataframe or **csv** to save a spreadsheet. There's also a **csv_filename** parameter if you want to set a specific file name.\n",
    "\n",
    "You can specify **number = n** to tell the function to only download the first **n** scans of your seriesUids.  Remove this parameter in the examples below to download the full dataset. \n",
    "\n",
    "The **api_url** parameter can be omitted in most cases.  However, it must be set to **api_url = \"nlst\"** to access the [National Lung Screening Trial (NLST)](https://doi.org/10.7937/TCIA.HMQ8-J677) collection and you must use **api_url = \"restricted\"** for datasets that require logging in.  \n",
    "\n",
    "Last but not least, there is some logic built in to detect whether you've already downloaded a series.  If a directory named after the seriesUid already exists the function will assume it's already been downloaded and skip that series.\n",
    "\n",
    "In this section we'll cover downloading data via the REST API for the following use cases:\n",
    "\n",
    "1.   Download a full TCIA collection\n",
    "2.   Download custom results of an API query\n",
    "3.   Download a \"[Shared Cart](https://wiki.cancerimagingarchive.net/display/NBIA/TCIA+Radiology+Portal+User+Guide#TCIARadiologyPortalUserGuide-SharingDatainYourCart)\" that was created via https://nbia.cancerimagingarchive.net/\n",
    "4.   Download data from a TCIA manifest file\n",
    "5.   Download data from a **restricted** collection that requires creating an API token\n",
    "6.   Download images"
   ]
  },
  {
   "cell_type": "markdown",
   "id": "82080cc3-71e7-42de-a8b6-d939b786a450",
   "metadata": {
    "id": "fwj_OZjphcWP",
    "jp-MarkdownHeadingCollapsed": true,
    "tags": []
   },
   "source": [
    "### 7.3.1 Download a full collection\n",
    "\n",
    "You can [Browse Collections](https://www.cancerimagingarchive.net/collections) on our website to figure out what you might want to download, but you can also get a list of available collections via the API as shown below."
   ]
  },
  {
   "cell_type": "code",
   "execution_count": null,
   "id": "1cb390e4-9446-4463-8566-2d272ba9b03e",
   "metadata": {
    "id": "II1o1709zq1d",
    "tags": []
   },
   "outputs": [],
   "source": [
    "# get list of available collections as JSON\n",
    "nbia.getCollections()"
   ]
  },
  {
   "cell_type": "markdown",
   "id": "8790b999-7220-4b4c-b060-8c6dfc687d72",
   "metadata": {
    "id": "Jbmm5DIU4Exy"
   },
   "source": [
    "Let's say that we're interested in downloading the entire **Soft-tissue-Sarcoma** collection.  First we need to get a list of all Series Instance UIDs in that collection.  We can use **nbia.getSeries()** to return JSON metadata about all series (scans) in this collection."
   ]
  },
  {
   "cell_type": "code",
   "execution_count": null,
   "id": "45179632-4865-4d64-96cd-3b46f0d3b3ce",
   "metadata": {
    "id": "eVnVh_yv7Av3",
    "tags": []
   },
   "outputs": [],
   "source": [
    "data = nbia.getSeries(collection = \"Soft-tissue-Sarcoma\")\n",
    "print(data)"
   ]
  },
  {
   "cell_type": "markdown",
   "id": "dc496b80-94be-49a5-90e9-8561b9c7cafa",
   "metadata": {
    "id": "wfkCWxiK8nQz"
   },
   "source": [
    "We can then pass that to the our download functions and view/save the metadata for what was downloaded.  We'll leverage the **number** parameter here to just grab the first 3 scans as a test.  You can remove this parameter if you want to download the full collection."
   ]
  },
  {
   "cell_type": "code",
   "execution_count": null,
   "id": "adc0d8da-485c-4cc7-8d84-40e5955d698f",
   "metadata": {
    "id": "2XVUkw5vgMZX",
    "tags": []
   },
   "outputs": [],
   "source": [
    "nbia.downloadSeries(data, number = 3)"
   ]
  },
  {
   "cell_type": "markdown",
   "id": "54193e74-7b7c-4cd2-bf61-af3c295e1ac6",
   "metadata": {
    "id": "gHzAX8wF0Rut"
   },
   "source": [
    "You can learn more about various ways to visualize and analyze your data in the other notebooks at https://github.com/kirbyju/TCIA_Notebooks.  However, let's use **nbia.viewSeries()** to get a quick look at one of the series we've downloaded.  You can change the Series UID in the code below to view other scans you've downloaded."
   ]
  },
  {
   "cell_type": "code",
   "execution_count": null,
   "id": "21a74b6f-94e7-4e37-979f-2e5f539f6644",
   "metadata": {
    "id": "5A17abaI0RXE",
    "tags": []
   },
   "outputs": [],
   "source": [
    "seriesUid = \"1.3.6.1.4.1.14519.5.2.1.5168.1900.104193299251798317056218297018\"\n",
    "nbia.viewSeries(seriesUid)"
   ]
  },
  {
   "cell_type": "markdown",
   "id": "0300b08c-d6ee-4a0d-b6f3-63c9395d980d",
   "metadata": {
    "id": "i7Pw0jvy4HO8",
    "jp-MarkdownHeadingCollapsed": true,
    "tags": []
   },
   "source": [
    "### 7.3.2 Part A Download custom API query\n",
    "The REST API allows for a variety of different query options as demonstrated in [this notebook](https://github.com/kirbyju/TCIA_Notebooks/blob/main/TCIA_REST_API_Queries.ipynb).  For this use case, let's assume that you are only interested in the MR scans from the [TCGA-BRCA](https://doi.org/10.7937/K9/TCIA.2016.AB2NAZRP) collection that were acquired on Siemens scanners."
   ]
  },
  {
   "cell_type": "code",
   "execution_count": null,
   "id": "c27ea2cd-4c45-459d-853d-c6f6dd03c539",
   "metadata": {
    "id": "6Y-uSUCBE_bJ",
    "tags": []
   },
   "outputs": [],
   "source": [
    "# getSeries with query parameters\n",
    "data = nbia.getSeries(collection = \"TCGA-BRCA\", \n",
    "               modality = \"MR\", \n",
    "               manufacturer = \"SIEMENS\")\n",
    "\n",
    "print(len(data), 'Series returned')"
   ]
  },
  {
   "cell_type": "markdown",
   "id": "7637b464-8360-4239-83eb-9c5525887d34",
   "metadata": {
    "id": "mzDBsCavGuHR"
   },
   "source": [
    "Once again, let's pass those Series Instance UIDs to our download function.  This time we'll also set **format = \"df\"** to return a dataframe about what we downloaded."
   ]
  },
  {
   "cell_type": "code",
   "execution_count": null,
   "id": "8742cb0a-e0c6-4763-9690-745566085feb",
   "metadata": {
    "id": "d5TAEkFmVtgg",
    "tags": []
   },
   "outputs": [],
   "source": [
    "# feed series_data to our downloadSampleSeries function\n",
    "df = nbia.downloadSeries(data, number = 3, format = \"df\")\n",
    "display(df)"
   ]
  },
  {
   "cell_type": "markdown",
   "id": "217406f6-fd1a-4246-bfed-57ba544afe08",
   "metadata": {
    "id": "uzqibEa5ZQbq"
   },
   "source": [
    "Another common use case may be that you'd like to review the results from **getSeries()** and do some further filtering to your dataframe.  Then, after removing unwanted scans, pass the remaining Series Instance UIDs to **downloadSeries()**.  For example, let's say that you only wanted to download **T2 MR** series instead of any MR."
   ]
  },
  {
   "cell_type": "code",
   "execution_count": null,
   "id": "b701daaf-cef3-418e-b30c-0bcde8b840bb",
   "metadata": {
    "id": "tKldiImHZ1Er",
    "tags": []
   },
   "outputs": [],
   "source": [
    "# getSeries with query parameters\n",
    "df = nbia.getSeries(collection = \"TCGA-BRCA\", \n",
    "               modality = \"MR\", \n",
    "               manufacturer = \"SIEMENS\", format = \"df\")"
   ]
  },
  {
   "cell_type": "markdown",
   "id": "e6f7630a-251d-41c8-bfe2-b62743841a62",
   "metadata": {
    "id": "AK47oXMKaLZ9"
   },
   "source": [
    "Let's drop scans that don't contain **t2** in either the **ProtocolName** or **SeriesDescription** fields.  Note that we're down to 21 scans now instead of 353."
   ]
  },
  {
   "cell_type": "code",
   "execution_count": null,
   "id": "aa406cd0-b92f-47c6-b23e-6673b3cc3d91",
   "metadata": {
    "id": "uyaHU_f2aSSJ",
    "tags": []
   },
   "outputs": [],
   "source": [
    "# convert the columns to lowercase to catch both upper/lower case with filter for 't2'\n",
    "filtered_df = df[(df['ProtocolName'].str.lower().str.contains('t2')) | \n",
    "                 (df['SeriesDescription'].str.lower().str.contains('t2'))]\n",
    "\n",
    "display(filtered_df)"
   ]
  },
  {
   "cell_type": "markdown",
   "id": "f8adcd79-b863-4b0f-ab4a-4c0a8b7fae94",
   "metadata": {
    "id": "y_Dk04k7c0kB"
   },
   "source": [
    "Now we can feed the Series Instance UIDs from this dataframe back to **downloadSeries()**.  Note that since we're not working with the API's default JSON output anymore we need to extract the Series UIDs from the dataframe into a **list** object and specify **input_type = \"list\"** when we call **downloadSeries()**."
   ]
  },
  {
   "cell_type": "code",
   "execution_count": null,
   "id": "3532a305-7f9d-4d3c-bc94-a1882a369456",
   "metadata": {
    "id": "xVIo_onkfMBn",
    "tags": []
   },
   "outputs": [],
   "source": [
    "# extract the SeriesInstanceUID column as a list variable\n",
    "series_uids = filtered_df['SeriesInstanceUID'].tolist()\n",
    "\n",
    "# download the selected series_uids\n",
    "nbia.downloadSeries(series_uids, input_type = \"list\", number = 3)"
   ]
  },
  {
   "cell_type": "markdown",
   "id": "79d3e7d4-3295-4196-bcf9-477893bb7533",
   "metadata": {
    "id": "JEKzWV7a7Q4M",
    "jp-MarkdownHeadingCollapsed": true,
    "tags": []
   },
   "source": [
    "### 7.3.2 Part B Download custom NLST API query\n",
    "Let's show a similar example where we look for a specific modality and manufacturer within the [National Lung Screening Trial (NLST) Collection](https://doi.org/10.7937/TCIA.HMQ8-J677).  We have to set **api_url = \"nlst\"** in our functions for this to work, but otherwise the steps are the same."
   ]
  },
  {
   "cell_type": "code",
   "execution_count": null,
   "id": "ad92c576-1dab-45d4-91f7-0ba4eef7fc6c",
   "metadata": {
    "id": "zGlhMzna7wgS",
    "tags": []
   },
   "outputs": [],
   "source": [
    "# getSeries with query parameters\n",
    "data = nbia.getSeries(collection = \"NLST\", \n",
    "               modality = \"CT\", \n",
    "               manufacturer = \"Philips\",\n",
    "               api_url = \"nlst\")\n",
    "\n",
    "print(len(data), 'Series returned')"
   ]
  },
  {
   "cell_type": "code",
   "execution_count": null,
   "id": "8a006e76-39df-427d-8410-e441a66eb25d",
   "metadata": {
    "id": "D58Jjiqp8UVE",
    "tags": []
   },
   "outputs": [],
   "source": [
    "# feed series_data to our downloadSampleSeries function\n",
    "df = nbia.downloadSeries(data, number = 3, api_url = \"nlst\", format = \"df\")\n",
    "display(df)"
   ]
  },
  {
   "cell_type": "markdown",
   "id": "d35cc987-e54b-4901-909b-7742f0f7e42e",
   "metadata": {
    "id": "AJw430rwTkJ0",
    "jp-MarkdownHeadingCollapsed": true,
    "tags": []
   },
   "source": [
    "### 7.3.3 Download a \"shared cart\"\n",
    "It's possible to use https://nbia.cancerimagingarchive.net to create a \"[Shared Cart](https://wiki.cancerimagingarchive.net/display/NBIA/TCIA+Radiology+Portal+User+Guide#TCIARadiologyPortalUserGuide-SharingDatainYourCart)\" which includes a specific set of scans you'd like to share with others. After creating a Shared Cart you receive a URL like https://nbia.cancerimagingarchive.net/nbia-search/?saved-cart=nbia-49121659384603347 which can be shared with others.  Try clicking the link to see what this looks like on the TCIA website.  Then use the code below to see how you can use the cart name at the end of the URL to download the related scans via the API."
   ]
  },
  {
   "cell_type": "code",
   "execution_count": null,
   "id": "95c0f52b-1117-49f2-b0f0-ea9fc8528b3c",
   "metadata": {
    "id": "Wdv62WPyhEg7",
    "tags": []
   },
   "outputs": [],
   "source": [
    "# getSharedCart metadata\n",
    "data = nbia.getSharedCart(name = \"nbia-49121659384603347\")\n",
    "print(len(data), 'Series returned')"
   ]
  },
  {
   "cell_type": "markdown",
   "id": "ae44bae0-0f74-49e9-bf73-76c93ea10738",
   "metadata": {
    "id": "-ga_N66rMWvK"
   },
   "source": [
    "We'll skip the use of the **number** parameter this time since the full cart is only 4 series.  Let's also try **format = \"csv\"** to save a spreadsheet of the metadata in addition to returning a dataframe."
   ]
  },
  {
   "cell_type": "code",
   "execution_count": null,
   "id": "83495b2d-d5fb-415f-ad7b-95b3f10e0b5f",
   "metadata": {
    "id": "LlyJYA-rTlGY",
    "tags": []
   },
   "outputs": [],
   "source": [
    "# feed series_data to our downloadSampleSeries function\n",
    "df = nbia.downloadSeries(data, format = \"csv\")\n",
    "display(df)"
   ]
  },
  {
   "cell_type": "markdown",
   "id": "d24ade21-eb39-46e3-9478-c1e044785ac0",
   "metadata": {
    "id": "60vpsOC2S6ff",
    "jp-MarkdownHeadingCollapsed": true,
    "tags": []
   },
   "source": [
    "### 7.3.4 Download data from a TCIA manifest file\n",
    "\n",
    "When working with manifest files you can install the NBIA Data Retriever to open the manifest and download the data as shown in [this notebook](https://github.com/kirbyju/TCIA_Notebooks/blob/main/TCIA_Linux_Data_Retriever_App.ipynb).  However, there may be cases where you don't have administrative rights to install software or prefer using the REST API to download a manifest.  \n",
    "\n",
    "In order to demonstrate this use case, let's assume that after you [Browse Collections](https://www.cancerimagingarchive.net/collections) you are interested in the [RIDER Breast MRI](https://doi.org/10.7937/K9/TCIA.2015.H1SXNUXL) collection.  We can find the URL of the manifest to download the full collection by looking at the blue \"Download\" button on that page.  Then we can download the manifest with the following commands.  "
   ]
  },
  {
   "cell_type": "code",
   "execution_count": null,
   "id": "b618dc8f-45ff-4435-bce9-2acacbba4c19",
   "metadata": {
    "id": "pAtUWEcSHiO5",
    "tags": []
   },
   "outputs": [],
   "source": [
    "# download manifest file from RIDER Breast MRI page\n",
    "manifest = requests.get(\"https://wiki.cancerimagingarchive.net/download/attachments/22512757/doiJNLP-Fo0H1NtD.tcia?version=1&modificationDate=1534787017928&api=v2\")\n",
    "with open('RIDER_Breast_MRI.tcia', 'wb') as f:\n",
    "    f.write(manifest.content)"
   ]
  },
  {
   "cell_type": "markdown",
   "id": "c111c1d1-682f-41a2-8b25-a8539c6e3750",
   "metadata": {
    "id": "LHbh-qSHDhs3"
   },
   "source": [
    "If you open this manifest file in a text editor you'll notice that it contains several lines of download parameters that precede a list of Series Instance UIDs to download.  If we set **input_type = \"manifest\"** we can provide the path/filename to **downloadSeries()** and it will extract the UIDs from the file and download them."
   ]
  },
  {
   "cell_type": "code",
   "execution_count": null,
   "id": "3fc29a27-aa35-42fc-8e12-b64270cb004f",
   "metadata": {
    "id": "tmx0Ej70WKJ4",
    "tags": []
   },
   "outputs": [],
   "source": [
    "df = nbia.downloadSeries(\"RIDER_Breast_MRI.tcia\", input_type = \"manifest\", number = 3, format = \"df\")\n",
    "display(df)"
   ]
  },
  {
   "cell_type": "markdown",
   "id": "febc7d93-ddb9-4c6b-87c9-603b9acb244a",
   "metadata": {
    "id": "A3exO0oNHtMY",
    "jp-MarkdownHeadingCollapsed": true,
    "tags": []
   },
   "source": [
    "### 7.3.5 Download data from a restricted collection\n",
    "In some cases, you must specifically request access to collections before you can download them.  These are listed as **limited access** on the [Browse Collections](https://www.cancerimagingarchive.net/collections/) page. The steps to request access may vary depending on the collection, but will always require that you first [create a TCIA user account](https://wiki.cancerimagingarchive.net/x/xgHDAg). Once you've created an account, you can use your login/password to create an API token with the **getToken()** function from **tcia_utils** to verify your permissions. **<font color='red'>Tokens are valid for 2 hours and must be refreshed after that point.</font>**"
   ]
  },
  {
   "cell_type": "code",
   "execution_count": null,
   "id": "ae310d15-d940-4a5d-886c-e16bbbb99e80",
   "metadata": {
    "id": "ZzwyJcNYIIsq",
    "tags": []
   },
   "outputs": [],
   "source": [
    "nbia.getToken()"
   ]
  },
  {
   "cell_type": "markdown",
   "id": "94168f72-805e-4989-ba93-f3064100456f",
   "metadata": {
    "id": "f1NLNszIIKOS"
   },
   "source": [
    "Let's say that we're interested in the [QIN-Breast-02](https://doi.org/10.7937/TCIA.2019.4cfm06rr) collection. As you can see on the collection page, you must email help@cancerimagingarchive.net to request access to the data. Once you've recieved approval we can use **nbia.getSeries()** to get a full list of series UIDs in this restricted collection by including **api_url = \"restricted\"** as a parameter."
   ]
  },
  {
   "cell_type": "code",
   "execution_count": null,
   "id": "64bbafdf-f5ca-43de-9fdd-1e52ad8f95fa",
   "metadata": {
    "id": "IAnZc6kdTYRL",
    "tags": []
   },
   "outputs": [],
   "source": [
    "# getSeries with query parameters\n",
    "data = nbia.getSeries(collection = \"QIN-Breast-02\", \n",
    "                      api_url = \"restricted\")\n",
    "\n",
    "print(len(data), 'Series returned')"
   ]
  },
  {
   "cell_type": "markdown",
   "id": "810d7375-ce20-440e-828c-0cf4cdc81c91",
   "metadata": {
    "id": "vxYch98LmtC0"
   },
   "source": [
    "Now we can download those scans.  Don't forget to include **api_url = \"restricted\"** in the download functions as well!"
   ]
  },
  {
   "cell_type": "code",
   "execution_count": null,
   "id": "2cbb460c-c36c-437d-84ab-6d56446fef9a",
   "metadata": {
    "id": "DGaaZxx7JKK2",
    "tags": []
   },
   "outputs": [],
   "source": [
    "# feed series_data to our downloadSampleSeries function\n",
    "df = nbia.downloadSeries(data, number = 3, api_url = \"restricted\", format = \"df\")\n",
    "display(df)"
   ]
  },
  {
   "cell_type": "markdown",
   "id": "20a50c5a-50d3-4bb4-8f47-af8524d200d2",
   "metadata": {
    "jp-MarkdownHeadingCollapsed": true,
    "tags": []
   },
   "source": [
    "### 7.3.6 Download Images\n",
    "\n",
    "You can [Browse Collections](https://www.cancerimagingarchive.net/collections) on our website to figure out what you might want to download, but you can also get a list of available collections via the API as shown below."
   ]
  },
  {
   "cell_type": "code",
   "execution_count": null,
   "id": "ef44ca00-4310-4270-ac8c-a0fb9ef89e00",
   "metadata": {
    "tags": []
   },
   "outputs": [],
   "source": [
    "# get list of available collections as JSON\n",
    "nbia.getCollections()"
   ]
  },
  {
   "cell_type": "markdown",
   "id": "5e64f25d-6fb0-42ba-bcc4-814e5224b3b2",
   "metadata": {},
   "source": [
    "Let's say that we're interested in downloading the images associated with the **CMB-GEC** collection.  First we need to get a list of all Series Instance UIDs in that collection.  We can use **nbia.getSeries()** to return JSON metadata about all series (scans) in this collection."
   ]
  },
  {
   "cell_type": "code",
   "execution_count": null,
   "id": "2f94047b-5383-4bb7-bef8-4fb332ed05e1",
   "metadata": {
    "tags": []
   },
   "outputs": [],
   "source": [
    "nbia.getSeries(collection = \"CMB-GEC\")"
   ]
  },
  {
   "cell_type": "markdown",
   "id": "40b37d04-c3e8-4027-be00-ad0043203e1c",
   "metadata": {},
   "source": [
    "We can then pass that to the our **nbia.getSopInstanceUids()** functions and view a list of metadata associated with the series and find the SOP instance we want to download the images from."
   ]
  },
  {
   "cell_type": "code",
   "execution_count": null,
   "id": "dc1cff70-b263-45f1-b21e-a166c4427f9b",
   "metadata": {
    "tags": []
   },
   "outputs": [],
   "source": [
    "nbia.getSopInstanceUids(seriesUid = \"1.3.6.1.4.1.14519.5.2.1.1600.1204.919741553251398079475267746505\")"
   ]
  },
  {
   "cell_type": "markdown",
   "id": "ed53045c-0ac7-4df8-b49b-f67743dad759",
   "metadata": {},
   "source": [
    "After we have both the series UID and SOP UID, we can call the **nbia.downloadImage()** function to download all images associated with the instance. Note that when the path parameter is not provided, a folder tciaDownload will be automatically created."
   ]
  },
  {
   "cell_type": "code",
   "execution_count": null,
   "id": "cd182e4d-d1da-4856-85ab-0f106cfbd76d",
   "metadata": {
    "tags": []
   },
   "outputs": [],
   "source": [
    "nbia.downloadImage(seriesUID = \"1.3.6.1.4.1.14519.5.2.1.1600.1204.919741553251398079475267746505\", \n",
    "              sopUID = \"1.3.6.1.4.1.14519.5.2.1.1600.1204.211684247543622814130853101548\")"
   ]
  },
  {
   "cell_type": "markdown",
   "id": "9526de7b-61e8-43d3-9707-38189b14b4ad",
   "metadata": {
    "jp-MarkdownHeadingCollapsed": true,
    "tags": []
   },
   "source": [
    "<a id = \"7.4\"></a>\n",
    "## 7.4 Analyze Data"
   ]
  },
  {
   "cell_type": "markdown",
   "id": "2eb21c62-6517-490e-a447-7f18bf6227c0",
   "metadata": {
    "id": "2XBUmpUnUfGX",
    "tags": []
   },
   "source": [
    "### 7.4.1 makeSeriesReport()\n",
    "\n",
    "This function ingests the JSON output from **getSeries()** or **getSharedCart()** and creates summary report.  Let's try it using the Shared Cart results that we looked at in our last query."
   ]
  },
  {
   "cell_type": "code",
   "execution_count": null,
   "id": "375b4acc-bd1b-4579-bbde-e30e4841355d",
   "metadata": {
    "id": "bEyvI4OHU3FC"
   },
   "outputs": [],
   "source": [
    "data = nbia.getSharedCart(name = \"nbia-49121659384603347\")\n",
    "\n",
    "nbia.makeSeriesReport(data)"
   ]
  },
  {
   "cell_type": "markdown",
   "id": "f2eb7c56-c021-4b64-86bf-7406ecc69ab0",
   "metadata": {
    "id": "6xPLeIm4OOgv",
    "tags": []
   },
   "source": [
    "### 7.4.2 makeVizLinks()\n",
    "This function ingests JSON output from **getSeries()** or **getSharedCart()**  and creates URLs to visualize them in a browser.  The links appear in the last 2 columns of the dataframe.  \n",
    "\n",
    "The TCIA column displays the individual series described in each row.  The [Imaging Data Commons (IDC)](https://portal.imaging.datacommons.cancer.gov/) column displays the entire study (all series/scans from that time point).  The function accepts a **csv_filename** parameter if you'd like to save a CSV file of the output.  It just returns the dataframe if this is ommitted.\n",
    "\n",
    "There are a few caveats worth noting about this function:\n",
    "* Modalities such as SEG/RTSTRUCT will not load using the TCIA series viewer, but opening the entire study with the IDC viewer generally enables you to see RTSTRUCT/SEG annotations overlaid on top of the images they were derived from.\n",
    "* IDC links may not work if they haven't mirrored the series from TCIA yet. Here is the [list of the collections](https://portal.imaging.datacommons.cancer.gov/collections/) they currently host.\n",
    "* The visualization URLs only work if the series/study you selected is from a fully public dataset. Visualization of limited-access collections is not currently supported."
   ]
  },
  {
   "cell_type": "code",
   "execution_count": null,
   "id": "697286c3-0501-479f-be1e-f225fb0e5a9a",
   "metadata": {
    "id": "bksaRXlOOPFG"
   },
   "outputs": [],
   "source": [
    "# use getSeries() to identify some scans of interest\n",
    "data = nbia.getSeries(collection = \"CPTAC-LUAD\", modality = \"CT\")\n",
    "\n",
    "# create a dataframe and CSV file visualization links \n",
    "nbia.makeVizLinks(data, csv_filename=\"viz_links\")"
   ]
  },
  {
   "cell_type": "markdown",
   "id": "21143693-9418-4e37-99bf-3e8e19de7762",
   "metadata": {
    "id": "rDlG-4MZZ2wX",
    "tags": []
   },
   "source": [
    "### 7.4.3 Querying \"Limited Access\" Collections (optional)\n",
    "In some cases, you must specifically request access to collections before you can download them.  These are listed as **limited access** on the [Browse Collections](https://www.cancerimagingarchive.net/collections/) page. \n",
    "\n",
    "The steps to request access may vary depending on the collection, but will always require that you first [create a TCIA user account](https://wiki.cancerimagingarchive.net/x/xgHDAg). Once you've created an account and have access to restricted collections you can use your login/password to create an API token with the **getToken()** function from **tcia_utils** to verify your permissions. **<font color='red'>Tokens are valid for 2 hours and must be refreshed after that point.</font>**"
   ]
  },
  {
   "cell_type": "code",
   "execution_count": null,
   "id": "74a454fc-9f4b-4cdb-b558-fe346dfca65b",
   "metadata": {
    "id": "ZzwyJcNYIIsq"
   },
   "outputs": [],
   "source": [
    "nbia.getToken()"
   ]
  },
  {
   "cell_type": "markdown",
   "id": "3057d02c-4c73-4bcb-868a-68938c9c6b6a",
   "metadata": {
    "id": "f1NLNszIIKOS"
   },
   "source": [
    "Let's say that we're interested in the [QIN-Breast-02](https://doi.org/10.7937/TCIA.2019.4cfm06rr) collection. As you can see on the collection page, you must email help@cancerimagingarchive.net to request access to the data. Once you've recieved approval we can use **nbia.getSeries()** to get a full list of series UIDs in this restricted collection by including **api_url = \"restricted\"** as a parameter."
   ]
  },
  {
   "cell_type": "code",
   "execution_count": null,
   "id": "9a146b5f-afcb-4b05-b70a-65f55f869f6c",
   "metadata": {
    "id": "rGfTVswGnIVG"
   },
   "outputs": [],
   "source": [
    "# getSeries with query parameters\n",
    "df = nbia.getSeries(collection = \"QIN-Breast-02\", \n",
    "                      format = \"df\",\n",
    "                      api_url = \"restricted\")\n",
    "display(df)"
   ]
  },
  {
   "cell_type": "markdown",
   "id": "a8d94417-122c-4b69-94d7-b3bb75a4ef94",
   "metadata": {
    "id": "tH2FDgWPnXb3"
   },
   "source": [
    "**Note:** If you'd like to do further exploration of restricted datasets, you can modify any of the previously discussed queries in the notebook by adding the **api_url = \"restricted\"** parameter as shown above."
   ]
  },
  {
   "cell_type": "markdown",
   "id": "40400dc7-ef7e-458d-9a6b-f68661f5c23a",
   "metadata": {
    "id": "DYXsNGcY93B8",
    "jp-MarkdownHeadingCollapsed": true,
    "tags": []
   },
   "source": [
    "# Acknowledgements\n",
    "TCIA is funded by the [Cancer Imaging Program (CIP)](https://imaging.cancer.gov/), a part of the United States [National Cancer Institute (NCI)](https://www.cancer.gov/).  It is managed by the [Frederick National Laboratory for Cancer Research (FNLCR)](https://frederick.cancer.gov/) and hosted by the [University of Arkansas for Medical Sciences (UAMS)](https://www.uams.edu/)\n",
    "\n",
    "This notebook was created by [Justin Kirby](https://www.linkedin.com/in/justinkirby82/) and [Adam Li](https://www.linkedin.com/in/adam-l-713885121). If you leverage this notebook or any TCIA datasets in your work, please be sure to comply with the [TCIA Data Usage Policy](https://wiki.cancerimagingarchive.net/x/c4hF). In particular, make sure to cite the DOI(s) for the specific TCIA datasets you used in addition to the following paper!\n",
    "\n",
    "# TCIA Citation\n",
    "\n",
    "Clark, K., Vendt, B., Smith, K., Freymann, J., Kirby, J., Koppel, P., Moore, S., Phillips, S., Maffitt, D., Pringle, M., Tarbox, L., & Prior, F. (2013). The Cancer Imaging Archive (TCIA): Maintaining and Operating a Public Information Repository. Journal of Digital Imaging, 26(6), 1045–1057. https://doi.org/10.1007/s10278-013-9622-7"
   ]
  }
 ],
 "metadata": {
  "kernelspec": {
   "display_name": "Python 3 (ipykernel)",
   "language": "python",
   "name": "python3"
  },
  "language_info": {
   "codemirror_mode": {
    "name": "ipython",
    "version": 3
   },
   "file_extension": ".py",
   "mimetype": "text/x-python",
   "name": "python",
   "nbconvert_exporter": "python",
   "pygments_lexer": "ipython3",
   "version": "3.9.16"
  }
 },
 "nbformat": 4,
 "nbformat_minor": 5
}
