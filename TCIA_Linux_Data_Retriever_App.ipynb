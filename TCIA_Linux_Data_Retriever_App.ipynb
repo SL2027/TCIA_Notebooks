{
  "nbformat": 4,
  "nbformat_minor": 0,
  "metadata": {
    "colab": {
      "provenance": [],
      "collapsed_sections": [],
      "include_colab_link": true
    },
    "kernelspec": {
      "name": "python3",
      "display_name": "Python 3"
    },
    "language_info": {
      "name": "python"
    }
  },
  "cells": [
    {
      "cell_type": "markdown",
      "metadata": {
        "id": "view-in-github",
        "colab_type": "text"
      },
      "source": [
        "<a href=\"https://colab.research.google.com/github/kirbyju/TCIA_Notebooks/blob/main/TCIA_Linux_Data_Retriever_App.ipynb\" target=\"_parent\"><img src=\"https://colab.research.google.com/assets/colab-badge.svg\" alt=\"Open In Colab\"/></a>"
      ]
    },
    {
      "cell_type": "markdown",
      "source": [
        "# Summary\n",
        "\n",
        "Access to large, high-quality data is essential for researchers to understand disease and precision medicine pathways, especially in cancer. However, HIPAA constraints make sharing medical images outside an individual institution a complex process. [The Cancer Imaging Archive (TCIA)](https://www.cancerimagingarchive.net/) is a public service funded by the National Cancer Institute that addresses this challenge by providing hosting and de-identification services to take major burdens of data sharing off researchers. \n",
        "\n",
        "**This notebook is focused on basic use cases for identifying TCIA datasets of interest and downloading them using the NBIA Data Retriever app from the command line or a Jupyter notebook.** If you're interested in additional TCIA notebooks and coding examples, check out the tutorials at https://github.com/kirbyju/TCIA_Notebooks. You can also view a list of GitHub repositories that have tagged themself as relevant to TCIA at https://github.com/topics/tcia-dac."
      ],
      "metadata": {
        "id": "KmXfYFZtja2F"
      }
    },
    {
      "cell_type": "markdown",
      "source": [
        "# 1 Learn about available Collections on the TCIA website\n",
        "\n",
        "[Browsing collections](https://www.cancerimagingarchive.net/collections) and [analysis results](https://www.cancerimagingarchive.net/tcia-analysis-results/) datasets on TCIA are the easiest ways to become familiar with what is available. These pages will help you quickly identify datasets of interest, find valuable supporting data that are not available via our APIs (e.g. clinical spreadsheets, non-DICOM segmentation data), and answer the most common questions you might have about the datasets.  "
      ],
      "metadata": {
        "id": "AruUGe3lmjkh"
      }
    },
    {
      "cell_type": "markdown",
      "source": [
        "# 2 Downloading with NBIA Data Retriever\n",
        "\n",
        "TCIA utilizes software called NBIA to manage its DICOM data. One way to download TCIA data is to install the [Linux command-line version of the NBIA Data Retriever](https://wiki.cancerimagingarchive.net/x/2QKPBQ) using the following steps. This tool provides a number of useful features such as auto-retry if there are any problems, saving data in an organized hierarchy on your hard drive (Collection > Patient > Study > Series > Images), and providing a CSV file containing key DICOM metadata about the images you've downloaded."
      ],
      "metadata": {
        "id": "aUw6d8fbgb8Z"
      }
    },
    {
      "cell_type": "markdown",
      "source": [
        "### 2.1 Install the NBIA Data Retriever CLI package"
      ],
      "metadata": {
        "id": "RtLE_18NoaJ8"
      }
    },
    {
      "cell_type": "code",
      "metadata": {
        "id": "B714bOkDk8kd"
      },
      "source": [
        "# install NBIA Data Retriever CLI software for downloading images later in this notebook\n",
        "\n",
        "!mkdir /usr/share/desktop-directories/\n",
        "!wget -P /content/NBIA-Data-Retriever https://cbiit-download.nci.nih.gov/nbia/releases/ForTCIA/NBIADataRetriever_4.4/nbia-data-retriever-4.4.deb\n",
        "!dpkg -i /content/NBIA-Data-Retriever/nbia-data-retriever-4.4.deb\n",
        "\n",
        "# NOTE: If you're working on a Linux OS that uses RPM packages, you can try changing the wget line above to point to\n",
        "#       https://cbiit-download.nci.nih.gov/nbia/releases/ForTCIA/NBIADataRetriever_4.4/NBIADataRetriever-4.4-1.x86_64.rpm"
      ],
      "execution_count": null,
      "outputs": []
    },
    {
      "cell_type": "markdown",
      "source": [
        "### 2.2 Download a manifest file\n",
        "The NBIA Data Retriever software works by ingesting a \"manifest\" file that contains the DICOM Series Instance UIDs of the scans you'd like to download. Let's assume that after [browsing the collections](https://www.cancerimagingarchive.net/collections), you decided you were interested in the [RIDER Breast MRI](https://doi.org/10.7937/K9/TCIA.2015.H1SXNUXL) Collection. If you're working from your local machine, you can simply click the blue \"Download\" button on the [RIDER Breast MRI](https://doi.org/10.7937/K9/TCIA.2015.H1SXNUXL) page to save the manifest file to your computer. If you're working on Google Colab or some other remote server, the easiest thing to do is use wget to save it to your VM as shown below.\n",
        "\n"
      ],
      "metadata": {
        "id": "2uMbL1nwIJ5f"
      }
    },
    {
      "cell_type": "code",
      "source": [
        "# use wget to download the manifest\n",
        "\n",
        "!wget -O /content/RIDER-Breast-MRI.tcia https://wiki.cancerimagingarchive.net/download/attachments/22512757/doiJNLP-Fo0H1NtD.tcia?version=1&modificationDate=1534787017928&api=v2\n"
      ],
      "metadata": {
        "id": "pAtUWEcSHiO5"
      },
      "execution_count": null,
      "outputs": []
    },
    {
      "cell_type": "code",
      "source": [
        "# OPTIONAL: If you're just looking for a quick demo, you can run this command \n",
        "# to edit the manifest file to download only the first three scans.\n",
        "\n",
        "!head -n 9 /content/RIDER-Breast-MRI.tcia > /content/RIDER-Breast-MRI-Sample.tcia"
      ],
      "metadata": {
        "id": "ikegl1vLYDkZ"
      },
      "execution_count": null,
      "outputs": []
    },
    {
      "cell_type": "markdown",
      "source": [
        "### 2.3 Open the manifest file with NBIA Data Retriever\n",
        "Next, let's open the sample manifest file with the NBIA Data Retriever to download the actual DICOM data.\n",
        "\n",
        "***Note: After running the following command, click in the output cell, type \"y,\" and press Enter to agree with the TCIA Data Usage Policy and start the download.***"
      ],
      "metadata": {
        "id": "IlPLgxkBZPMS"
      }
    },
    {
      "cell_type": "code",
      "source": [
        "# download the data using NBIA Data Retriever\n",
        "\n",
        "!/opt/nbia-data-retriever/nbia-data-retriever --cli '/content/RIDER-Breast-MRI-Sample.tcia' -d /content/ \n"
      ],
      "metadata": {
        "id": "a4lklpk4Xwpc"
      },
      "execution_count": null,
      "outputs": []
    },
    {
      "cell_type": "markdown",
      "source": [
        "### 2.4 Review the downloaded data\n",
        "You should now find that the data have been saved to your machine in a well-organized hierarchy with some useful metadata in the accompanying CSV file and a license file detailing how it can be used. Take a second to go check it out before moving on!"
      ],
      "metadata": {
        "id": "zgESwVXSawv_"
      }
    },
    {
      "cell_type": "markdown",
      "source": [
        "### 2.5 Downloading \"Limited-Access\" Collections with the Data Retriever\n",
        "In some cases, you must specifically request access to [Collections](https://www.cancerimagingarchive.net/collections/) before you can download them.  Information about how to do this can be found on the homepage for the Collection(s) you're interested in, but will always require that you first [create a TCIA user account](https://wiki.cancerimagingarchive.net/x/xgHDAg). Once you've created an account, you can use your login/password to create the credential file that NBIA Data Retriever uses to verify your permissions."
      ],
      "metadata": {
        "id": "39ilU9kTkac3"
      }
    },
    {
      "cell_type": "code",
      "source": [
        "# Create the credential file\n",
        "# NOTE: You must enter your real user name and password before you run this,\n",
        "# or edit the resulting text file with your real credentials after it's created.\n",
        "\n",
        "lines = ['userName=YourUserName', 'passWord=YourPassword']\n",
        "with open('credentials.txt', 'w') as f:\n",
        "    f.write('\\n'.join(lines))"
      ],
      "metadata": {
        "id": "WWRfMGQJmyjR"
      },
      "execution_count": null,
      "outputs": []
    },
    {
      "cell_type": "markdown",
      "source": [
        "Let's say that we're interested in the [RIDER Neuro MRI](http://doi.org/10.7937/K9/TCIA.2015.VOSN3HN1) Collection. As you can see on the Collection page, you must sign and submit a TCIA Restricted License Agreement to help@cancerimagingarchive.net before accessing the data. Once you've done this, click the blue Download button on the RIDER Neuro MRI page to save the manifest file to your computer or grab it by using the wget command shown below."
      ],
      "metadata": {
        "id": "hit1qkiloRaX"
      }
    },
    {
      "cell_type": "code",
      "source": [
        "# download a manifest with the restricted data\n",
        "!wget -O /content/RIDER_Neuro_MRI.tcia https://wiki.cancerimagingarchive.net/download/attachments/22512753/TCIA_RIDER_NEURO_MRI_06-22-2015.tcia?version=1&modificationDate=1534787443910&api=v2\n"
      ],
      "metadata": {
        "id": "QvYf6HtInRXP"
      },
      "execution_count": null,
      "outputs": []
    },
    {
      "cell_type": "code",
      "source": [
        "# OPTIONAL: If you're just looking for a quick demo, you can run this command \n",
        "# to edit the manifest file to download only the first three scans.\n",
        "\n",
        "!head -n 9 /content/RIDER_Neuro_MRI.tcia > /content/RIDER_Neuro_MRI-Sample.tcia"
      ],
      "metadata": {
        "id": "OsISov9hEatv"
      },
      "execution_count": null,
      "outputs": []
    },
    {
      "cell_type": "markdown",
      "source": [
        "Now let's open the manifest file with NBIA Data Retriever to download your data.This time we're also invoking the \"-l\" parameter to tell it where you saved your credential file.\n",
        "\n",
        "***Note: After running the following command, click in the output cell, type \"y,\" and press Enter to agree with the TCIA Data Usage Policy and start the download.***"
      ],
      "metadata": {
        "id": "vCjyQWmwRFDp"
      }
    },
    {
      "cell_type": "code",
      "source": [
        "# download the data using the NBIA Data Retriever\n",
        "# you may need to update the path to your credential file\n",
        "\n",
        "!/opt/nbia-data-retriever/nbia-data-retriever --cli '/content/RIDER_Neuro_MRI-Sample.tcia' -d /content/ -l /content/credentials.txt"
      ],
      "metadata": {
        "id": "pbAUZ3jznRXR"
      },
      "execution_count": null,
      "outputs": []
    },
    {
      "cell_type": "markdown",
      "source": [
        "# Conclusion\n",
        "The NBIA Data Retriever is a great option for downloading pre-defined TCIA datasets to remote servers that don't have a GUI, or for working in Jupyter Notebooks.  "
      ],
      "metadata": {
        "id": "tsUyvdSzitqQ"
      }
    },
    {
      "cell_type": "markdown",
      "source": [
        "# Acknowledgements\n",
        "TCIA is funded by the [Cancer Imaging Program (CIP)](https://imaging.cancer.gov/), a part of the United States [National Cancer Institute (NCI)](https://www.cancer.gov/), and is managed by the [Frederick National Laboratory for Cancer Research (FNLCR)](https://frederick.cancer.gov/).\n",
        "\n",
        "This notebook was created by [Justin Kirby](https://www.linkedin.com/in/justinkirby82/) and Qinyan Pan. If you leverage this notebook or any TCIA datasets in your work, please be sure to comply with the [TCIA Data Usage Policy](https://wiki.cancerimagingarchive.net/x/c4hF). In particular, make sure to cite the DOI(s) for the specific TCIA datasets you used in addition to the following paper!\n",
        "\n",
        "## TCIA Citation\n",
        "\n",
        "Clark, K., Vendt, B., Smith, K., Freymann, J., Kirby, J., Koppel, P., Moore, S., Phillips, S., Maffitt, D., Pringle, M., Tarbox, L., & Prior, F. (2013). The Cancer Imaging Archive (TCIA): Maintaining and Operating a Public Information Repository. Journal of Digital Imaging, 26(6), 1045–1057. https://doi.org/10.1007/s10278-013-9622-7"
      ],
      "metadata": {
        "id": "DYXsNGcY93B8"
      }
    }
  ]
}